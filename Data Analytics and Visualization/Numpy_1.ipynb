{
  "nbformat": 4,
  "nbformat_minor": 0,
  "metadata": {
    "colab": {
      "provenance": []
    },
    "kernelspec": {
      "name": "python3",
      "display_name": "Python 3"
    },
    "language_info": {
      "name": "python"
    }
  },
  "cells": [
    {
      "cell_type": "markdown",
      "source": [
        "## **Introduction to DAV (Data Analysis and Visualization) Module**\n",
        "\n",
        "With this lecture, we're starting the DAV module.\n",
        "\n",
        "It will contain 3 sections -\n",
        "\n",
        "1. DAV-1: Python Libraries\n",
        " - Numpy\n",
        " - Pandas\n",
        " - Matplotlib & Seaborn\n",
        "2. DAV-2: Probability Statistics\n",
        "3. DAV-3: Hypothesis Testing"
      ],
      "metadata": {
        "id": "OkfPvscnb2gf"
      }
    },
    {
      "cell_type": "markdown",
      "source": [
        "#Numpy -1"
      ],
      "metadata": {
        "id": "0bD58H-uc9lH"
      }
    },
    {
      "cell_type": "markdown",
      "source": [
        "## **Content**\n",
        "\n",
        "- Introduction to DAV\n",
        "- Python Lists vs Numpy Array\n",
        "  - Importing Numpy\n",
        "  - Why use Numpy?\n",
        "- Dimension & Shape\n",
        "- Type Conversion in Numpy Arrays\n",
        "- Indexing & Slicing\n",
        "- NPS use case"
      ],
      "metadata": {
        "id": "jnZBoAAddMUI"
      }
    },
    {
      "cell_type": "markdown",
      "source": [
        "##Python Lists vs Numpy"
      ],
      "metadata": {
        "id": "pENwKULsdUmD"
      }
    },
    {
      "cell_type": "markdown",
      "source": [
        "### **Homogeneity of data**\n",
        "\n",
        "So far, we've been working with Python lists, that can have **heterogenous data**."
      ],
      "metadata": {
        "id": "1bXLwtUidYhV"
      }
    },
    {
      "cell_type": "code",
      "source": [
        "a = [1, 2, 3, \"Michael\", True]\n",
        "a"
      ],
      "metadata": {
        "colab": {
          "base_uri": "https://localhost:8080/"
        },
        "id": "OCmShThdde-S",
        "outputId": "0dbfe72b-1e17-4393-a86b-fda535a8c7ed"
      },
      "execution_count": null,
      "outputs": [
        {
          "output_type": "execute_result",
          "data": {
            "text/plain": [
              "[1, 2, 3, 'Michael', True]"
            ]
          },
          "metadata": {},
          "execution_count": 1
        }
      ]
    },
    {
      "cell_type": "markdown",
      "source": [
        "Because of this hetergenity, in Python lists, the data elements are not stored together in the memory (RAM).\n",
        "\n",
        "- Each element is stored in a different location.\n",
        "- Only the address of each of the element will be stored together.\n",
        "- So, a list is actually just referencing to these different locations, in order to access the actual element.\n",
        "\n",
        "\\\n",
        "On the other hand, Numpy only stores **homogenous data**, i.e. a numpy array cannot contain mixed data types.\n",
        "\n",
        "It will either\n",
        "- ONLY contain integers\n",
        "- ONLY contain floats\n",
        "- ONLY contain characters\n",
        "\n",
        "... and so on.\n",
        "\n",
        "Because of this, we can now store these different data items together, as they are of the same type.\n",
        "\n",
        "<img src=\"https://d2beiqkhq929f0.cloudfront.net/public_assets/assets/000/063/995/original/download.png?1706870327\" width=700 height=175>"
      ],
      "metadata": {
        "id": "C0prpUySdB2G"
      }
    },
    {
      "cell_type": "markdown",
      "source": [
        "### **Speed**\n",
        "\n",
        "Programming languages can also be slow or fast.\n",
        "\n",
        "In fact,\n",
        "- Java is a decently fast language.\n",
        "- Python is a slow language.\n",
        "- C, one of the earliest available languages, is super fast.\n",
        "\n",
        "This is because C has concepts like memory allocation, pointers, etc.\n",
        "\n",
        "#### **How is this possible?**\n",
        "\n",
        "With Numpy, though we will be writing our code using Python, but behind the scene, all the code is written in the **C programming language**, to make it faster.\n",
        "\n",
        "Because of this, a Numpy Array will be significantly faster than a Python List in performing the same operation.\n",
        "\n",
        "This is very important to us, because in data science, we deal with huge amount of data.\n"
      ],
      "metadata": {
        "id": "oywiUJADevPs"
      }
    },
    {
      "cell_type": "markdown",
      "source": [
        "### **Properties**\n",
        "\n",
        "- **In-built Functions**\n",
        " - For a Python list `a`, we had in-built functions like `.sum(a)`, etc.\n",
        " - For NumPy arrays also, we will have such in-built functions.\n",
        "\n",
        "- **Slicing**\n",
        " - Recall that we were able to perform list slicing.\n",
        " - All of that is still applicable here.\n"
      ],
      "metadata": {
        "id": "qCPKv7uce3Gc"
      }
    },
    {
      "cell_type": "markdown",
      "source": [
        "Recall how we used to import a module/library in Python.\n",
        "\n",
        "* In order to use Python Lists, we do not need to import anything extra.\n",
        "* However to use Numpy Arrays, we need to import it into our environment, as it is a Library.\n",
        "\n",
        "Generally, we do so while using the alias **`np`**."
      ],
      "metadata": {
        "id": "Rq-Lt3fFfFi1"
      }
    },
    {
      "cell_type": "code",
      "source": [
        "import numpy as np"
      ],
      "metadata": {
        "id": "Uv72Ri23fOX5"
      },
      "execution_count": null,
      "outputs": []
    },
    {
      "cell_type": "markdown",
      "source": [
        "**Note:**\n",
        "- In this terminal, we will already have numpy installed as we are working on Google Colab\n",
        "- However, when working on an evironment that does not have it installed, you'll have to install it the first time working.\n",
        "- This can be done with the command: `!pip install numpy`"
      ],
      "metadata": {
        "id": "c5VcSo20fS8K"
      }
    },
    {
      "cell_type": "markdown",
      "source": [
        "## **Why use Numpy? - Time Comparison**"
      ],
      "metadata": {
        "id": "syUy1kZcfiLS"
      }
    },
    {
      "cell_type": "code",
      "source": [
        "a = [1,2,3,4,5]"
      ],
      "metadata": {
        "id": "WTRe3EwZfhoI"
      },
      "execution_count": null,
      "outputs": []
    },
    {
      "cell_type": "code",
      "source": [
        "type(a)"
      ],
      "metadata": {
        "colab": {
          "base_uri": "https://localhost:8080/"
        },
        "id": "KBGzzdP3fnAd",
        "outputId": "366cad12-7e07-485d-c367-d9a103bb0494"
      },
      "execution_count": null,
      "outputs": [
        {
          "output_type": "execute_result",
          "data": {
            "text/plain": [
              "list"
            ]
          },
          "metadata": {},
          "execution_count": 5
        }
      ]
    },
    {
      "cell_type": "markdown",
      "source": [
        "The basic approach here would be to iterate over the list and square each element."
      ],
      "metadata": {
        "id": "lPnCnJrbfp4a"
      }
    },
    {
      "cell_type": "code",
      "source": [
        "res=[]\n",
        "for i in a:\n",
        "  res.append(i**2)\n",
        "print(res)"
      ],
      "metadata": {
        "colab": {
          "base_uri": "https://localhost:8080/"
        },
        "id": "4DUwuRnmftGN",
        "outputId": "0da71b41-059e-409d-df81-7da3a1774851"
      },
      "execution_count": null,
      "outputs": [
        {
          "output_type": "stream",
          "name": "stdout",
          "text": [
            "[1, 4, 9, 16, 25]\n"
          ]
        }
      ]
    },
    {
      "cell_type": "markdown",
      "source": [
        "To do so, first of all we need to define the Numpy array.\n",
        "\n",
        "We can convert any list `a` into a Numpy array using the `array()` function."
      ],
      "metadata": {
        "id": "kCPRxLXoftWc"
      }
    },
    {
      "cell_type": "code",
      "source": [
        "b = np.array(a)\n",
        "b"
      ],
      "metadata": {
        "colab": {
          "base_uri": "https://localhost:8080/"
        },
        "id": "u8Al3bISf0vs",
        "outputId": "e8f92d16-1ce1-441e-e77e-726cd5f0e1f5"
      },
      "execution_count": null,
      "outputs": [
        {
          "output_type": "execute_result",
          "data": {
            "text/plain": [
              "array([1, 2, 3, 4, 5])"
            ]
          },
          "metadata": {},
          "execution_count": 11
        }
      ]
    },
    {
      "cell_type": "code",
      "source": [
        "type(b)"
      ],
      "metadata": {
        "colab": {
          "base_uri": "https://localhost:8080/"
        },
        "id": "br77PuZJf3S8",
        "outputId": "cfc98c05-2707-439f-9df3-0ad7054fd179"
      },
      "execution_count": null,
      "outputs": [
        {
          "output_type": "execute_result",
          "data": {
            "text/plain": [
              "numpy.ndarray"
            ]
          },
          "metadata": {},
          "execution_count": 12
        }
      ]
    },
    {
      "cell_type": "markdown",
      "source": [
        "- `nd` in `numpy.ndarray` stands for **n-dimensional**"
      ],
      "metadata": {
        "id": "ewftKI91f590"
      }
    },
    {
      "cell_type": "markdown",
      "source": [
        "Now, how can we get the square of each element in the same Numpy array?"
      ],
      "metadata": {
        "id": "FKCDiSWEf_M-"
      }
    },
    {
      "cell_type": "code",
      "source": [
        "b**2"
      ],
      "metadata": {
        "colab": {
          "base_uri": "https://localhost:8080/"
        },
        "id": "bHBVd93NgBZe",
        "outputId": "43d213c1-ed0e-459a-d55a-dc90c60b1d64"
      },
      "execution_count": null,
      "outputs": [
        {
          "output_type": "execute_result",
          "data": {
            "text/plain": [
              "array([ 1,  4,  9, 16, 25])"
            ]
          },
          "metadata": {},
          "execution_count": 13
        }
      ]
    },
    {
      "cell_type": "code",
      "source": [
        "a=np.array([1,15,20])"
      ],
      "metadata": {
        "id": "0_osiWmww2bH"
      },
      "execution_count": null,
      "outputs": []
    },
    {
      "cell_type": "code",
      "source": [
        "a**3"
      ],
      "metadata": {
        "colab": {
          "base_uri": "https://localhost:8080/"
        },
        "id": "6SCPoG6_w6jq",
        "outputId": "a09f6043-4857-489e-dc6c-6813499a6f12"
      },
      "execution_count": null,
      "outputs": [
        {
          "output_type": "execute_result",
          "data": {
            "text/plain": [
              "array([   1, 3375, 8000])"
            ]
          },
          "metadata": {},
          "execution_count": 15
        }
      ]
    },
    {
      "cell_type": "code",
      "source": [
        "a"
      ],
      "metadata": {
        "colab": {
          "base_uri": "https://localhost:8080/"
        },
        "id": "fLP2GxL4xQ5h",
        "outputId": "9731535b-d50f-4f92-e189-74c98279c011"
      },
      "execution_count": null,
      "outputs": [
        {
          "output_type": "execute_result",
          "data": {
            "text/plain": [
              "array([ 1, 15, 20])"
            ]
          },
          "metadata": {},
          "execution_count": 16
        }
      ]
    },
    {
      "cell_type": "code",
      "source": [
        "type(a)"
      ],
      "metadata": {
        "colab": {
          "base_uri": "https://localhost:8080/"
        },
        "id": "LVDGl1fHxTsY",
        "outputId": "9790620e-6339-431a-94db-c1c1e47df88a"
      },
      "execution_count": null,
      "outputs": [
        {
          "output_type": "execute_result",
          "data": {
            "text/plain": [
              "numpy.ndarray"
            ]
          },
          "metadata": {},
          "execution_count": 17
        }
      ]
    },
    {
      "cell_type": "code",
      "source": [
        "a=np.array(2)"
      ],
      "metadata": {
        "id": "Y_RXbIXixdMI"
      },
      "execution_count": null,
      "outputs": []
    },
    {
      "cell_type": "code",
      "source": [
        "a"
      ],
      "metadata": {
        "colab": {
          "base_uri": "https://localhost:8080/"
        },
        "id": "p-59N4pZxt6q",
        "outputId": "e8d7f908-2f8a-4892-a6a1-9e597b500a60"
      },
      "execution_count": null,
      "outputs": [
        {
          "output_type": "execute_result",
          "data": {
            "text/plain": [
              "array(2)"
            ]
          },
          "metadata": {},
          "execution_count": 20
        }
      ]
    },
    {
      "cell_type": "code",
      "source": [
        "ab=np.array(['Hi','Ji'])"
      ],
      "metadata": {
        "id": "q-M4-6TmxwSj"
      },
      "execution_count": null,
      "outputs": []
    },
    {
      "cell_type": "code",
      "source": [
        "type(ab)"
      ],
      "metadata": {
        "colab": {
          "base_uri": "https://localhost:8080/"
        },
        "id": "Bpeoi0fPyC5y",
        "outputId": "44be19fd-739a-44a7-8ba9-bb293109fed2"
      },
      "execution_count": null,
      "outputs": [
        {
          "output_type": "execute_result",
          "data": {
            "text/plain": [
              "numpy.ndarray"
            ]
          },
          "metadata": {},
          "execution_count": 27
        }
      ]
    },
    {
      "cell_type": "code",
      "source": [
        "arr=np.array([1,10,13,73,1387])"
      ],
      "metadata": {
        "id": "kplQUe_zyKyV"
      },
      "execution_count": null,
      "outputs": []
    },
    {
      "cell_type": "code",
      "source": [
        "arr+100"
      ],
      "metadata": {
        "colab": {
          "base_uri": "https://localhost:8080/"
        },
        "id": "lTDawDG7yPrG",
        "outputId": "d3c571f5-50ba-4149-a6c3-90b59402ed72"
      },
      "execution_count": null,
      "outputs": [
        {
          "output_type": "execute_result",
          "data": {
            "text/plain": [
              "array([ 101,  110,  113,  173, 1487])"
            ]
          },
          "metadata": {},
          "execution_count": 29
        }
      ]
    },
    {
      "cell_type": "code",
      "source": [
        "arr//2"
      ],
      "metadata": {
        "colab": {
          "base_uri": "https://localhost:8080/"
        },
        "id": "Z9UTejWRybS-",
        "outputId": "bfcda231-ec01-474e-8fca-75f61df98fd1"
      },
      "execution_count": null,
      "outputs": [
        {
          "output_type": "execute_result",
          "data": {
            "text/plain": [
              "array([  0,   5,   6,  36, 693])"
            ]
          },
          "metadata": {},
          "execution_count": 33
        }
      ]
    },
    {
      "cell_type": "markdown",
      "source": [
        "**The biggest benefit of Numpy is that it supports element-wise operation.**\n",
        "\n",
        "Notice how easy and clean is the syntax."
      ],
      "metadata": {
        "id": "cExj5UWSgGsR"
      }
    },
    {
      "cell_type": "markdown",
      "source": [
        "**What is the major reason behind numpy's faster computation?**\n",
        "\n",
        "- Numpy array is densely packed in memory due to it's **homogenous** type.\n",
        "- Numpy functions are implemented in **C programming launguage**.\n",
        "- Numpy is able to divide a task into multiple subtasks and process them **parallelly.**"
      ],
      "metadata": {
        "id": "a7nQIAdUgN5L"
      }
    },
    {
      "cell_type": "code",
      "source": [
        "np.arange(1,100000000*10,2)"
      ],
      "metadata": {
        "colab": {
          "base_uri": "https://localhost:8080/"
        },
        "id": "6xDtORNKz1Zb",
        "outputId": "3fd85177-d9a1-47ab-9efa-7139e01fcfa3"
      },
      "execution_count": null,
      "outputs": [
        {
          "output_type": "execute_result",
          "data": {
            "text/plain": [
              "array([        1,         3,         5, ..., 999999995, 999999997,\n",
              "       999999999])"
            ]
          },
          "metadata": {},
          "execution_count": 3
        }
      ]
    },
    {
      "cell_type": "code",
      "source": [
        "np.arange(0,5,0.8)"
      ],
      "metadata": {
        "colab": {
          "base_uri": "https://localhost:8080/"
        },
        "id": "QKflyrfO0L3q",
        "outputId": "42809b15-a173-43c0-e3cc-cfc5c42e9501"
      },
      "execution_count": null,
      "outputs": [
        {
          "output_type": "execute_result",
          "data": {
            "text/plain": [
              "array([0. , 0.8, 1.6, 2.4, 3.2, 4. , 4.8])"
            ]
          },
          "metadata": {},
          "execution_count": 7
        }
      ]
    },
    {
      "cell_type": "markdown",
      "source": [
        "## **Dimensions and Shape**\n",
        "\n",
        "**We can get the dimension of an array using the `ndim` property.**"
      ],
      "metadata": {
        "id": "ubmD50O9gVJu"
      }
    },
    {
      "cell_type": "code",
      "source": [
        "arr1=np.arange(100000)\n",
        "arr1.ndim"
      ],
      "metadata": {
        "colab": {
          "base_uri": "https://localhost:8080/"
        },
        "id": "P7cOGo7R1AD-",
        "outputId": "6e41a8b8-9e1c-4786-d620-3539cd0fe137"
      },
      "execution_count": null,
      "outputs": [
        {
          "output_type": "execute_result",
          "data": {
            "text/plain": [
              "1"
            ]
          },
          "metadata": {},
          "execution_count": 11
        }
      ]
    },
    {
      "cell_type": "code",
      "source": [
        "arr1 #1D Array"
      ],
      "metadata": {
        "colab": {
          "base_uri": "https://localhost:8080/"
        },
        "id": "A8EEoba41dXC",
        "outputId": "385e44e7-3b0b-4310-e9b9-faf679302747"
      },
      "execution_count": null,
      "outputs": [
        {
          "output_type": "execute_result",
          "data": {
            "text/plain": [
              "array([    0,     1,     2, ..., 99997, 99998, 99999])"
            ]
          },
          "metadata": {},
          "execution_count": 14
        }
      ]
    },
    {
      "cell_type": "code",
      "source": [
        "arr2=np.array([[1,2,3],[4,5,6],[7,8,9],[10,11,12]])\n",
        "arr2.ndim #2D Array"
      ],
      "metadata": {
        "colab": {
          "base_uri": "https://localhost:8080/"
        },
        "id": "mhcO4prJ1Nvj",
        "outputId": "05a38a9c-992c-4abf-873d-b834b49b98ad"
      },
      "execution_count": null,
      "outputs": [
        {
          "output_type": "execute_result",
          "data": {
            "text/plain": [
              "2"
            ]
          },
          "metadata": {},
          "execution_count": 17
        }
      ]
    },
    {
      "cell_type": "markdown",
      "source": [
        "**Numpy arrays have another property called `shape` that tells us number of elements across every dimension.**"
      ],
      "metadata": {
        "id": "ZjCvEde1ghMO"
      }
    },
    {
      "cell_type": "code",
      "source": [
        "arr1.shape"
      ],
      "metadata": {
        "colab": {
          "base_uri": "https://localhost:8080/"
        },
        "id": "xh_Ng1zxgknG",
        "outputId": "9485a375-3b35-4429-8996-dc343f272add"
      },
      "execution_count": null,
      "outputs": [
        {
          "output_type": "execute_result",
          "data": {
            "text/plain": [
              "(100000,)"
            ]
          },
          "metadata": {},
          "execution_count": 15
        }
      ]
    },
    {
      "cell_type": "code",
      "source": [
        "arr2.shape"
      ],
      "metadata": {
        "colab": {
          "base_uri": "https://localhost:8080/"
        },
        "id": "Wz98Pa-M15Bk",
        "outputId": "07ac06c1-695f-4ee1-c8b2-2dd07d197346"
      },
      "execution_count": null,
      "outputs": [
        {
          "output_type": "execute_result",
          "data": {
            "text/plain": [
              "(4, 3)"
            ]
          },
          "metadata": {},
          "execution_count": 18
        }
      ]
    },
    {
      "cell_type": "markdown",
      "source": [
        "This means that the array `arr1` has 1000000 elements in a single dimension.\n",
        "\n",
        "Let's take another example to understand `shape` and `ndim` better."
      ],
      "metadata": {
        "id": "Z0khY6JHgtqv"
      }
    },
    {
      "cell_type": "code",
      "source": [
        "arr2 = np.array([[1, 2, 3], [4, 5, 6], [10, 11, 12]])\n",
        "print(arr2)"
      ],
      "metadata": {
        "colab": {
          "base_uri": "https://localhost:8080/"
        },
        "id": "-7MiOWg3grH9",
        "outputId": "02ebd25e-530f-44e9-a97c-0ddbea5e8433"
      },
      "execution_count": null,
      "outputs": [
        {
          "output_type": "stream",
          "name": "stdout",
          "text": [
            "[[ 1  2  3]\n",
            " [ 4  5  6]\n",
            " [10 11 12]]\n"
          ]
        }
      ]
    },
    {
      "cell_type": "markdown",
      "source": [
        "**What do you think will be the shape & dimension of this array?**"
      ],
      "metadata": {
        "id": "A6lloH1rg0CF"
      }
    },
    {
      "cell_type": "code",
      "source": [
        "arr2.ndim"
      ],
      "metadata": {
        "colab": {
          "base_uri": "https://localhost:8080/"
        },
        "id": "JLmr0Lsqg6u-",
        "outputId": "9f9f1017-c60b-45cf-8249-11405b58f022"
      },
      "execution_count": null,
      "outputs": [
        {
          "output_type": "execute_result",
          "data": {
            "text/plain": [
              "2"
            ]
          },
          "metadata": {},
          "execution_count": 20
        }
      ]
    },
    {
      "cell_type": "code",
      "source": [
        "arr2.shape"
      ],
      "metadata": {
        "colab": {
          "base_uri": "https://localhost:8080/"
        },
        "id": "zQyjq6Qcg9DJ",
        "outputId": "321e4b2b-57d6-4865-db3a-424941454c66"
      },
      "execution_count": null,
      "outputs": [
        {
          "output_type": "execute_result",
          "data": {
            "text/plain": [
              "(3, 3)"
            ]
          },
          "metadata": {},
          "execution_count": 21
        }
      ]
    },
    {
      "cell_type": "markdown",
      "source": [
        "`ndim` specifies the number of dimensions of the array i.e. 1D (1), 2D (2), 3D (3) and so on.\n",
        "\n",
        "`shape` returns the exact shape in all dimensions, that is (3,3) which implies 3 in axis 0 and 3 in axis 1."
      ],
      "metadata": {
        "id": "3CXd4_zIhBF5"
      }
    },
    {
      "cell_type": "markdown",
      "source": [
        "<img src=\"https://drive.google.com/uc?id=1GSV_E1CaCc_Ur7pWJ-Kqv0VKvBRwByR1\">"
      ],
      "metadata": {
        "id": "krftoL-zhBnn"
      }
    },
    {
      "cell_type": "markdown",
      "source": [
        "### **`np.arange()`**\n",
        "\n",
        "Let's create some sequences in  Numpy.\n",
        "\n",
        "We can pass **starting** point, **ending** point (not included in the array) and **step-size**.\n",
        "\n",
        "**Syntax:**\n",
        "- `arange(start, end, step)`"
      ],
      "metadata": {
        "id": "eqVf-oPhhN8h"
      }
    },
    {
      "cell_type": "code",
      "source": [
        "np.arange(1,15,3)"
      ],
      "metadata": {
        "colab": {
          "base_uri": "https://localhost:8080/"
        },
        "id": "TZgUYzxkhaQ9",
        "outputId": "f268a34c-7d82-408d-f883-efc085cc94b0"
      },
      "execution_count": null,
      "outputs": [
        {
          "output_type": "execute_result",
          "data": {
            "text/plain": [
              "array([ 1,  4,  7, 10, 13])"
            ]
          },
          "metadata": {},
          "execution_count": 22
        }
      ]
    },
    {
      "cell_type": "markdown",
      "source": [
        ":`np.arange()` behaves in the same way as `range()` function.\n",
        "- In `np.arange()`, we can pass a **floating point number** as **step-size**."
      ],
      "metadata": {
        "id": "Q5iztH3RiJdu"
      }
    },
    {
      "cell_type": "markdown",
      "source": [
        "## **Type Conversion in Numpy Arrays**\n",
        "\n",
        "For this, let's pass a **float** as one of the values in a **numpy array**."
      ],
      "metadata": {
        "id": "QUPDVD8MiPRs"
      }
    },
    {
      "cell_type": "code",
      "source": [
        "arr4 = np.array([1, 2, 3, 4])\n",
        "arr4"
      ],
      "metadata": {
        "id": "3gmWpodeiAQo",
        "colab": {
          "base_uri": "https://localhost:8080/"
        },
        "outputId": "ce6998a5-4c21-4d21-c2a9-368b931dea79"
      },
      "execution_count": null,
      "outputs": [
        {
          "output_type": "execute_result",
          "data": {
            "text/plain": [
              "array([1, 2, 3, 4])"
            ]
          },
          "metadata": {},
          "execution_count": 6
        }
      ]
    },
    {
      "cell_type": "code",
      "source": [
        "arr4 = np.array([1, 2, 3, 4.0])\n",
        "arr4"
      ],
      "metadata": {
        "id": "PSMzu2L1iAd3",
        "colab": {
          "base_uri": "https://localhost:8080/"
        },
        "outputId": "af9f5bcf-0f86-46fc-fa29-cb960bb65ef2"
      },
      "execution_count": null,
      "outputs": [
        {
          "output_type": "execute_result",
          "data": {
            "text/plain": [
              "array([1., 2., 3., 4.])"
            ]
          },
          "metadata": {},
          "execution_count": 7
        }
      ]
    },
    {
      "cell_type": "code",
      "source": [
        "arr=np.array([1.0,2.0,3])\n",
        "arr"
      ],
      "metadata": {
        "colab": {
          "base_uri": "https://localhost:8080/"
        },
        "id": "Mn_Az90Q649s",
        "outputId": "7309b364-5d36-4f06-8748-99e252274c02"
      },
      "execution_count": null,
      "outputs": [
        {
          "output_type": "execute_result",
          "data": {
            "text/plain": [
              "array([1., 2., 3.])"
            ]
          },
          "metadata": {},
          "execution_count": 8
        }
      ]
    },
    {
      "cell_type": "markdown",
      "source": [
        "- Notice that **`int` is raised to `float`**\n",
        "- Because a numpy array can only store **homogenous data** i.e. values of one data type."
      ],
      "metadata": {
        "id": "gaESg-c0iAzN"
      }
    },
    {
      "cell_type": "markdown",
      "source": [
        "There's a `dtype` parameter in the `np.array()` function.\n",
        "\n",
        "**What if we set the `dtype` of array containing `integer` values to `float`?**"
      ],
      "metadata": {
        "id": "xlzJDcs7inaG"
      }
    },
    {
      "cell_type": "code",
      "source": [
        "arr5 = np.array([1, 2, 3, 4])\n",
        "arr5"
      ],
      "metadata": {
        "id": "O8_jB5tMip6b",
        "colab": {
          "base_uri": "https://localhost:8080/"
        },
        "outputId": "c3f66efb-9002-4262-891c-9170f07ca185"
      },
      "execution_count": null,
      "outputs": [
        {
          "output_type": "execute_result",
          "data": {
            "text/plain": [
              "array([1, 2, 3, 4])"
            ]
          },
          "metadata": {},
          "execution_count": 9
        }
      ]
    },
    {
      "cell_type": "code",
      "source": [
        "arr5 = np.array([1, 2, 3, 4], dtype=\"float\")\n",
        "arr5"
      ],
      "metadata": {
        "id": "Z0rd84U-iqZ8",
        "colab": {
          "base_uri": "https://localhost:8080/"
        },
        "outputId": "1c822d81-16db-4935-bac3-eae2bf150f04"
      },
      "execution_count": null,
      "outputs": [
        {
          "output_type": "execute_result",
          "data": {
            "text/plain": [
              "array([1., 2., 3., 4.])"
            ]
          },
          "metadata": {},
          "execution_count": 13
        }
      ]
    },
    {
      "cell_type": "markdown",
      "source": [
        "**Question:** What will happen in the following code?"
      ],
      "metadata": {
        "id": "qCYcdrGcivq3"
      }
    },
    {
      "cell_type": "markdown",
      "source": [
        "Since it is not possible to convert strings of alphabets to floats, it will naturally return an Error.\n",
        "\n",
        "\\\n",
        "We can also convert the data type with the `astype()` method."
      ],
      "metadata": {
        "id": "Rj-ooSIwi1f3"
      }
    },
    {
      "cell_type": "code",
      "source": [
        "arr = np.array([10, 20, 30, 40, 50])\n",
        "arr"
      ],
      "metadata": {
        "id": "zDIdzi6ri4x_",
        "colab": {
          "base_uri": "https://localhost:8080/"
        },
        "outputId": "18742993-5445-4189-b609-c677f1b0534c"
      },
      "execution_count": null,
      "outputs": [
        {
          "output_type": "execute_result",
          "data": {
            "text/plain": [
              "array([10, 20, 30, 40, 50])"
            ]
          },
          "metadata": {},
          "execution_count": 25
        }
      ]
    },
    {
      "cell_type": "code",
      "source": [
        "arr = arr.astype('float64')\n",
        "print(arr)"
      ],
      "metadata": {
        "id": "jUDLJ7WYi6ql",
        "colab": {
          "base_uri": "https://localhost:8080/"
        },
        "outputId": "889a910e-94d2-4a58-f5d3-a53968ffd8cd"
      },
      "execution_count": null,
      "outputs": [
        {
          "output_type": "stream",
          "name": "stdout",
          "text": [
            "[10. 20. 30. 40. 50.]\n"
          ]
        }
      ]
    },
    {
      "cell_type": "markdown",
      "source": [
        "## **Indexing**\n",
        "\n",
        "- Similar to Python lists"
      ],
      "metadata": {
        "id": "km9E-R2bjQNF"
      }
    },
    {
      "cell_type": "code",
      "source": [
        "#Positive Indexing"
      ],
      "metadata": {
        "id": "UpO0ZrONjU7p"
      },
      "execution_count": null,
      "outputs": []
    },
    {
      "cell_type": "code",
      "source": [
        "arr=np.arange(41,76,3)\n",
        "arr"
      ],
      "metadata": {
        "colab": {
          "base_uri": "https://localhost:8080/"
        },
        "id": "Ar7aTWFK-R5V",
        "outputId": "79e5aa1d-71e0-4b31-d907-251fe94745b2"
      },
      "execution_count": null,
      "outputs": [
        {
          "output_type": "execute_result",
          "data": {
            "text/plain": [
              "array([41, 44, 47, 50, 53, 56, 59, 62, 65, 68, 71, 74])"
            ]
          },
          "metadata": {},
          "execution_count": 27
        }
      ]
    },
    {
      "cell_type": "code",
      "source": [
        "arr[0]"
      ],
      "metadata": {
        "colab": {
          "base_uri": "https://localhost:8080/"
        },
        "id": "j7ooc868-ZYp",
        "outputId": "e516b99c-7f13-441a-c815-72588fdfd606"
      },
      "execution_count": null,
      "outputs": [
        {
          "output_type": "execute_result",
          "data": {
            "text/plain": [
              "41"
            ]
          },
          "metadata": {},
          "execution_count": 28
        }
      ]
    },
    {
      "cell_type": "code",
      "source": [
        "#Negative Indexing"
      ],
      "metadata": {
        "id": "2QgMghlwjZN4"
      },
      "execution_count": null,
      "outputs": []
    },
    {
      "cell_type": "code",
      "source": [
        "arr[-1]"
      ],
      "metadata": {
        "colab": {
          "base_uri": "https://localhost:8080/"
        },
        "id": "13hs3mCk-d-g",
        "outputId": "ab30ff34-2d1f-4a68-f956-7997b017f76b"
      },
      "execution_count": null,
      "outputs": [
        {
          "output_type": "execute_result",
          "data": {
            "text/plain": [
              "74"
            ]
          },
          "metadata": {},
          "execution_count": 29
        }
      ]
    },
    {
      "cell_type": "code",
      "source": [
        "arr[len(arr)-1]"
      ],
      "metadata": {
        "colab": {
          "base_uri": "https://localhost:8080/"
        },
        "id": "V2j63_ht-jsm",
        "outputId": "3a4431ff-51a5-450f-fd0d-55b305a154eb"
      },
      "execution_count": null,
      "outputs": [
        {
          "output_type": "execute_result",
          "data": {
            "text/plain": [
              "74"
            ]
          },
          "metadata": {},
          "execution_count": 31
        }
      ]
    },
    {
      "cell_type": "markdown",
      "source": [
        "You can also use list of indexes in numpy."
      ],
      "metadata": {
        "id": "2Ga1LVPijgu7"
      }
    },
    {
      "cell_type": "markdown",
      "source": [
        "Did you notice how single index can be repeated multiple times when giving list of indexes?\n",
        "\n",
        "**Note:**\n",
        "- If you want to extract multiple indices, you need to use two sets of square brackets `[[ ]]`\n",
        "  - Otherwise, you will get an error.\n",
        "- Because it is only expecting a single index.\n",
        "- For multiple indices, you need to pass them as a list."
      ],
      "metadata": {
        "id": "xuXgX1tcjpPY"
      }
    },
    {
      "cell_type": "markdown",
      "source": [
        "##**Slicing**"
      ],
      "metadata": {
        "id": "vvdGGpm5kIMe"
      }
    },
    {
      "cell_type": "code",
      "source": [
        "arr=np.arange(11,18)"
      ],
      "metadata": {
        "id": "x9JMaJh7-3Tb"
      },
      "execution_count": null,
      "outputs": []
    },
    {
      "cell_type": "code",
      "source": [
        "arr"
      ],
      "metadata": {
        "id": "X_sWWSIAkNbB",
        "colab": {
          "base_uri": "https://localhost:8080/"
        },
        "outputId": "3ab05986-ba7a-4895-a3d9-39cfa637941b"
      },
      "execution_count": null,
      "outputs": [
        {
          "output_type": "execute_result",
          "data": {
            "text/plain": [
              "array([11, 12, 13, 14, 15, 16, 17])"
            ]
          },
          "metadata": {},
          "execution_count": 38
        }
      ]
    },
    {
      "cell_type": "markdown",
      "source": [
        "**Question:** What'll be output of `arr[-5:-1]` ?"
      ],
      "metadata": {
        "id": "9Q_P2mSQkNjT"
      }
    },
    {
      "cell_type": "code",
      "source": [
        "arr[-5:-1]"
      ],
      "metadata": {
        "id": "ExMzPL_LkQW6",
        "colab": {
          "base_uri": "https://localhost:8080/"
        },
        "outputId": "a5b7012d-a24a-4f9f-91db-800c75900347"
      },
      "execution_count": null,
      "outputs": [
        {
          "output_type": "execute_result",
          "data": {
            "text/plain": [
              "array([13, 14, 15, 16])"
            ]
          },
          "metadata": {},
          "execution_count": 39
        }
      ]
    },
    {
      "cell_type": "markdown",
      "source": [
        "**Question:** What'll be the output for `arr[-5:-1: -1]` ?"
      ],
      "metadata": {
        "id": "qFtHVFi1kQjG"
      }
    },
    {
      "cell_type": "code",
      "source": [
        "arr[-5:-1:-1]"
      ],
      "metadata": {
        "id": "Pib38dWmkhUR",
        "colab": {
          "base_uri": "https://localhost:8080/"
        },
        "outputId": "513e2320-a147-42a3-d0b0-1b0b3eadf506"
      },
      "execution_count": null,
      "outputs": [
        {
          "output_type": "execute_result",
          "data": {
            "text/plain": [
              "array([], dtype=int64)"
            ]
          },
          "metadata": {},
          "execution_count": 40
        }
      ]
    },
    {
      "cell_type": "markdown",
      "source": [
        "## **Fancy Indexing (Masking)**\n",
        "\n",
        "- Numpy arrays can be indexed with boolean arrays (masks).\n",
        "- This method is called **fancy indexing** or **masking**.\n",
        "\n",
        "\\\n",
        "What would happen if we do this?"
      ],
      "metadata": {
        "id": "CYUKFXnBkhlv"
      }
    },
    {
      "cell_type": "code",
      "source": [
        "m1 = np.array([1, 2, 3, 4, 5, 6, 7, 8, 9, 10])\n",
        "m1 < 6"
      ],
      "metadata": {
        "id": "YB8rQnV_korJ",
        "colab": {
          "base_uri": "https://localhost:8080/"
        },
        "outputId": "44117356-066d-49ff-eaa5-f0a46b76b22a"
      },
      "execution_count": null,
      "outputs": [
        {
          "output_type": "execute_result",
          "data": {
            "text/plain": [
              "array([ True,  True,  True,  True,  True, False, False, False, False,\n",
              "       False])"
            ]
          },
          "metadata": {},
          "execution_count": 55
        }
      ]
    },
    {
      "cell_type": "markdown",
      "source": [
        "**Comparison operation also happens on each element**.\n",
        "- All the values before 6 return `True`\n",
        "- All the values after 6 return `False`"
      ],
      "metadata": {
        "id": "evG8vQ6UkrMg"
      }
    },
    {
      "cell_type": "markdown",
      "source": [
        "**Question:** What will be the output of the following?"
      ],
      "metadata": {
        "id": "Sr2HFzzikwEP"
      }
    },
    {
      "cell_type": "code",
      "source": [
        "m1[[True,  True,  True,  True,  True, False, False, False, False, False]]"
      ],
      "metadata": {
        "id": "gV96q8P_kvAX",
        "colab": {
          "base_uri": "https://localhost:8080/"
        },
        "outputId": "8c02d8eb-e34c-4c5e-91de-c0a5538f9cff"
      },
      "execution_count": null,
      "outputs": [
        {
          "output_type": "execute_result",
          "data": {
            "text/plain": [
              "array([1, 2, 3, 4, 5])"
            ]
          },
          "metadata": {},
          "execution_count": 56
        }
      ]
    },
    {
      "cell_type": "code",
      "source": [
        "m1[m1<6]"
      ],
      "metadata": {
        "colab": {
          "base_uri": "https://localhost:8080/"
        },
        "id": "dVdVrSL1CsPe",
        "outputId": "85c16a74-859d-4499-d443-4928ff00391b"
      },
      "execution_count": null,
      "outputs": [
        {
          "output_type": "execute_result",
          "data": {
            "text/plain": [
              "array([1, 2, 3, 4, 5])"
            ]
          },
          "metadata": {},
          "execution_count": 57
        }
      ]
    },
    {
      "cell_type": "markdown",
      "source": [
        "Notice that we are passing a list of indices.\n",
        "- For every instance of `True`, it will print the corresponding index.\n",
        "- Conversely, for every `False`, it will skip the corresponding index, and not print it.\n",
        "\n",
        "So, this becomes a **filter** of sorts."
      ],
      "metadata": {
        "id": "AFPpzWdVk07_"
      }
    },
    {
      "cell_type": "markdown",
      "source": [
        "Now, let's use this to filter or mask values from our array.\n",
        "\n",
        "**Condition will be passed instead of indices and slice ranges.**"
      ],
      "metadata": {
        "id": "XjhVS0Kgk6f2"
      }
    },
    {
      "cell_type": "code",
      "source": [
        "m1[m1 < 6]"
      ],
      "metadata": {
        "id": "DkmkrCEak9Z1",
        "colab": {
          "base_uri": "https://localhost:8080/"
        },
        "outputId": "7e2f643d-176e-461b-bcf5-13f0c9a9c131"
      },
      "execution_count": null,
      "outputs": [
        {
          "output_type": "execute_result",
          "data": {
            "text/plain": [
              "array([1, 2, 3, 4, 5])"
            ]
          },
          "metadata": {},
          "execution_count": 58
        }
      ]
    },
    {
      "cell_type": "markdown",
      "source": [
        "This is known as **Fancy Indexing** in Numpy.\n",
        "\n",
        "\\\n",
        "**Question:** How can we filter/mask even values from our array?"
      ],
      "metadata": {
        "id": "xYBw6BGglBcX"
      }
    },
    {
      "cell_type": "code",
      "source": [
        "m1[m1%2 == 0]"
      ],
      "metadata": {
        "id": "ybNrKI30lDea",
        "colab": {
          "base_uri": "https://localhost:8080/"
        },
        "outputId": "0358410f-8ab6-40f2-c8ee-e101dacda8d9"
      },
      "execution_count": null,
      "outputs": [
        {
          "output_type": "execute_result",
          "data": {
            "text/plain": [
              "array([ 2,  4,  6,  8, 10])"
            ]
          },
          "metadata": {},
          "execution_count": 59
        }
      ]
    },
    {
      "cell_type": "markdown",
      "source": [
        "## **Use Case: NPS (Net Promoter Score)**"
      ],
      "metadata": {
        "id": "ObOfsN-LlG9U"
      }
    },
    {
      "cell_type": "markdown",
      "source": [
        "#### Imagine you are a Data Analyst @ Airbnb\n",
        "\n",
        "You've been asked to analyze user survey data and report NPS to the management.\n",
        "\n",
        "#### But, what exactly is NPS?\n",
        "\n",
        "Have you all seen that every month, you get a survey form from Scaler?\n",
        "\n",
        "- This form asks you to fill in feedback regarding how you are liking the services of Scaler in terms of a numerical score.\n",
        "- This is known as the **Likelihood to Recommend Survey**.\n",
        "- It is widely used by different companies and service providers to evaluate their performance and customer satisfaction.\n",
        "\n",
        "<img src=\"https://drive.google.com/uc?id=1-u8e-v_90JdikorKsKzBM-JJqoRtzsN8\">\n",
        "\n",
        "- Responses are given a scale ranging from 0–10,\n",
        "    - with 0 labeled with “Not at all likely,” and\n",
        "    - 10 labeled with “Extremely likely.”\n",
        "\n",
        "Based on this, we calculate the **Net Promoter Score**."
      ],
      "metadata": {
        "id": "zEEY8n6slKn7"
      }
    },
    {
      "cell_type": "markdown",
      "source": [
        "### **How to calculate NPS score?**\n",
        "\n",
        "<img src=\"https://drive.google.com/uc?id=1KPIYlaN68vlL99iApaF5QbeBoyT24-Eu\">\n",
        "\n",
        "We label our responses into 3 categories:\n",
        "- **Detractors**: Respondents with a score of 0-6\n",
        "- **Passive**: Respondents with a score of 7-8\n",
        "- **Promoters**: Respondents with a score of 9-10.\n",
        "\n",
        "```\n",
        "Net Promoter score = % Promoters - % Detractors.\n",
        "```"
      ],
      "metadata": {
        "id": "cJEbVCpzlLQ9"
      }
    },
    {
      "cell_type": "markdown",
      "source": [
        "### **Range of NPS**\n",
        "\n",
        "- If all people are promoters (rated 9-10), we get $100$ NPS\n",
        "- Conversely, if all people are detractors (rated 0-6), we get $-100$ NPS\n",
        "- Also, if all people are neutral (rated 7-8), we get a $0$ NPS\n",
        "\n",
        "Therefore, the range of NPS lies between $[-100, 100]$\n",
        "\n",
        "\\\n",
        "Generally, each company targets to get at least a threshold NPS.\n",
        "- For Scaler, this is a score of 70.\n",
        "- This means that if $NPS > 70%$, it is great performance of the company.\n",
        "\n",
        "Naturally, this varies from business to business."
      ],
      "metadata": {
        "id": "Bg2eDT7RlSq-"
      }
    },
    {
      "cell_type": "markdown",
      "source": [
        "### **How is NPS helpful?**\n",
        "\n",
        "####  Why would we want to analyse the survey data for NPS?\n",
        "\n",
        "NPS helps a brand in gauging its brand value and sentiment in the market.\n",
        "\n",
        "- Promoters are highly likely to recommend your product or sevice. Hence, bringing in more business.\n",
        "- whereas, Detractors are likely to recommend against your product or service’s usage. Hence, bringing the business down.\n",
        "\n",
        "\\\n",
        "These insights can help business make customer oriented decision along with product improvisation.\n",
        "\n",
        "**2/3 of Fortune 500 companies use NPS**\n",
        "\n",
        "\\\n",
        "Even at Scaler, every month, we randomnly reach out to our learners over a call, and try to understand,\n",
        "- How is the overall experience for them?\n",
        "- What are some things that they like?\n",
        "- What do they don't like?\n",
        "\n",
        "Based on the feedback received, sometimes we end up getting really good insights, and tackle them.\n",
        "\n",
        "This will help improve the next month's NPS."
      ],
      "metadata": {
        "id": "zhnelWLtlWrC"
      }
    },
    {
      "cell_type": "markdown",
      "source": [
        "### **NPS Problem**"
      ],
      "metadata": {
        "id": "rwl6ZTePlasg"
      }
    },
    {
      "cell_type": "markdown",
      "source": [
        "Let's first look at the data we have gathered.\n",
        "\n",
        "**Dataset:** https://drive.google.com/file/d/1c0ClC8SrPwJq5rrkyMKyPn80nyHcFikK/view?usp=sharing\n",
        "\n",
        "<img width = 500 src=\"https://drive.google.com/uc?id=1arJhLlzbr_Rf7ONxpkzo726mLbTyLb_p\">\n"
      ],
      "metadata": {
        "id": "YE3AgYxtlbcG"
      }
    },
    {
      "cell_type": "code",
      "source": [
        "arr=[102,34,13]"
      ],
      "metadata": {
        "id": "Pmslo_gj3nOY"
      },
      "execution_count": null,
      "outputs": []
    },
    {
      "cell_type": "code",
      "source": [
        "np.array(arr)"
      ],
      "metadata": {
        "colab": {
          "base_uri": "https://localhost:8080/"
        },
        "id": "doRuwh_I3wfv",
        "outputId": "620ebc1b-cd15-499a-8f87-bf0718496258"
      },
      "execution_count": null,
      "outputs": [
        {
          "output_type": "execute_result",
          "data": {
            "text/plain": [
              "array([102,  34,  13])"
            ]
          },
          "metadata": {},
          "execution_count": 24
        }
      ]
    },
    {
      "cell_type": "code",
      "source": [
        "np.array([1,2,3,4,5,8])"
      ],
      "metadata": {
        "id": "NiNHANCk3zne"
      },
      "execution_count": null,
      "outputs": []
    },
    {
      "cell_type": "code",
      "source": [
        "arr2=np.arange(1,23,7)"
      ],
      "metadata": {
        "id": "iovdWiwx4Jgb"
      },
      "execution_count": null,
      "outputs": []
    },
    {
      "cell_type": "code",
      "source": [
        "arr2.ndim"
      ],
      "metadata": {
        "colab": {
          "base_uri": "https://localhost:8080/"
        },
        "id": "TeEDym1H4Rw8",
        "outputId": "976a3146-0179-4766-f033-b2cd26203186"
      },
      "execution_count": null,
      "outputs": [
        {
          "output_type": "execute_result",
          "data": {
            "text/plain": [
              "1"
            ]
          },
          "metadata": {},
          "execution_count": 27
        }
      ]
    },
    {
      "cell_type": "code",
      "source": [
        "arr3=np.array([[12,3],[472847,88]])"
      ],
      "metadata": {
        "id": "BWWK_7984X71"
      },
      "execution_count": null,
      "outputs": []
    },
    {
      "cell_type": "code",
      "source": [
        "arr3.shape"
      ],
      "metadata": {
        "colab": {
          "base_uri": "https://localhost:8080/",
          "height": 146
        },
        "id": "NWuLdP4t4dcl",
        "outputId": "ee71fc38-dd59-44e8-d3ed-ff00705b8caf"
      },
      "execution_count": null,
      "outputs": [
        {
          "output_type": "error",
          "ename": "NameError",
          "evalue": "name 'arr3' is not defined",
          "traceback": [
            "\u001b[0;31m---------------------------------------------------------------------------\u001b[0m",
            "\u001b[0;31mNameError\u001b[0m                                 Traceback (most recent call last)",
            "\u001b[0;32m<ipython-input-1-6dbcef9de945>\u001b[0m in \u001b[0;36m<cell line: 1>\u001b[0;34m()\u001b[0m\n\u001b[0;32m----> 1\u001b[0;31m \u001b[0marr3\u001b[0m\u001b[0;34m.\u001b[0m\u001b[0mshape\u001b[0m\u001b[0;34m\u001b[0m\u001b[0;34m\u001b[0m\u001b[0m\n\u001b[0m",
            "\u001b[0;31mNameError\u001b[0m: name 'arr3' is not defined"
          ]
        }
      ]
    },
    {
      "cell_type": "markdown",
      "source": [
        "#Definining a numpy array"
      ],
      "metadata": {
        "id": "NSCNrMXz4y5S"
      }
    },
    {
      "cell_type": "code",
      "source": [
        "np.arange(1,100,0.5)"
      ],
      "metadata": {
        "colab": {
          "base_uri": "https://localhost:8080/"
        },
        "id": "SJsy8q3Q4x3L",
        "outputId": "f270e6f0-ec2e-433f-9b50-7d1e0e902afb"
      },
      "execution_count": null,
      "outputs": [
        {
          "output_type": "execute_result",
          "data": {
            "text/plain": [
              "array([ 1. ,  1.5,  2. ,  2.5,  3. ,  3.5,  4. ,  4.5,  5. ,  5.5,  6. ,\n",
              "        6.5,  7. ,  7.5,  8. ,  8.5,  9. ,  9.5, 10. , 10.5, 11. , 11.5,\n",
              "       12. , 12.5, 13. , 13.5, 14. , 14.5, 15. , 15.5, 16. , 16.5, 17. ,\n",
              "       17.5, 18. , 18.5, 19. , 19.5, 20. , 20.5, 21. , 21.5, 22. , 22.5,\n",
              "       23. , 23.5, 24. , 24.5, 25. , 25.5, 26. , 26.5, 27. , 27.5, 28. ,\n",
              "       28.5, 29. , 29.5, 30. , 30.5, 31. , 31.5, 32. , 32.5, 33. , 33.5,\n",
              "       34. , 34.5, 35. , 35.5, 36. , 36.5, 37. , 37.5, 38. , 38.5, 39. ,\n",
              "       39.5, 40. , 40.5, 41. , 41.5, 42. , 42.5, 43. , 43.5, 44. , 44.5,\n",
              "       45. , 45.5, 46. , 46.5, 47. , 47.5, 48. , 48.5, 49. , 49.5, 50. ,\n",
              "       50.5, 51. , 51.5, 52. , 52.5, 53. , 53.5, 54. , 54.5, 55. , 55.5,\n",
              "       56. , 56.5, 57. , 57.5, 58. , 58.5, 59. , 59.5, 60. , 60.5, 61. ,\n",
              "       61.5, 62. , 62.5, 63. , 63.5, 64. , 64.5, 65. , 65.5, 66. , 66.5,\n",
              "       67. , 67.5, 68. , 68.5, 69. , 69.5, 70. , 70.5, 71. , 71.5, 72. ,\n",
              "       72.5, 73. , 73.5, 74. , 74.5, 75. , 75.5, 76. , 76.5, 77. , 77.5,\n",
              "       78. , 78.5, 79. , 79.5, 80. , 80.5, 81. , 81.5, 82. , 82.5, 83. ,\n",
              "       83.5, 84. , 84.5, 85. , 85.5, 86. , 86.5, 87. , 87.5, 88. , 88.5,\n",
              "       89. , 89.5, 90. , 90.5, 91. , 91.5, 92. , 92.5, 93. , 93.5, 94. ,\n",
              "       94.5, 95. , 95.5, 96. , 96.5, 97. , 97.5, 98. , 98.5, 99. , 99.5])"
            ]
          },
          "metadata": {},
          "execution_count": 2
        }
      ]
    },
    {
      "cell_type": "code",
      "source": [
        "np.array([[1,2],[3,4]])"
      ],
      "metadata": {
        "colab": {
          "base_uri": "https://localhost:8080/"
        },
        "id": "HzRAFTdx49_2",
        "outputId": "c3c3f389-4801-444b-b2ce-cabff229e436"
      },
      "execution_count": null,
      "outputs": [
        {
          "output_type": "execute_result",
          "data": {
            "text/plain": [
              "array([[1, 2],\n",
              "       [3, 4]])"
            ]
          },
          "metadata": {},
          "execution_count": 3
        }
      ]
    },
    {
      "cell_type": "code",
      "source": [
        "a=[1,2,3,4,5]"
      ],
      "metadata": {
        "id": "-ch3Ym-C5DbL"
      },
      "execution_count": null,
      "outputs": []
    },
    {
      "cell_type": "code",
      "source": [
        "np.array(a)"
      ],
      "metadata": {
        "colab": {
          "base_uri": "https://localhost:8080/"
        },
        "id": "utlNbyd55GMq",
        "outputId": "5b21b52f-43ad-4056-c5a6-7cb875a196e9"
      },
      "execution_count": null,
      "outputs": [
        {
          "output_type": "execute_result",
          "data": {
            "text/plain": [
              "array([1, 2, 3, 4, 5])"
            ]
          },
          "metadata": {},
          "execution_count": 5
        }
      ]
    },
    {
      "cell_type": "code",
      "source": [
        "ab=np.arange(1,19,2)"
      ],
      "metadata": {
        "id": "QDdDjmo18Sab"
      },
      "execution_count": null,
      "outputs": []
    },
    {
      "cell_type": "code",
      "source": [
        "ab.astype('float')"
      ],
      "metadata": {
        "colab": {
          "base_uri": "https://localhost:8080/"
        },
        "id": "z0cvftkA8692",
        "outputId": "ae787c74-dbf3-4dad-a771-5f8d1b2955e6"
      },
      "execution_count": null,
      "outputs": [
        {
          "output_type": "execute_result",
          "data": {
            "text/plain": [
              "array([ 1.,  3.,  5.,  7.,  9., 11., 13., 15., 17.])"
            ]
          },
          "metadata": {},
          "execution_count": 20
        }
      ]
    },
    {
      "cell_type": "code",
      "source": [
        "ab.dtype"
      ],
      "metadata": {
        "colab": {
          "base_uri": "https://localhost:8080/"
        },
        "id": "tsY7EXos8Y8o",
        "outputId": "3b67fd7d-d455-42d6-d413-7e2f0f3e9a7d"
      },
      "execution_count": null,
      "outputs": [
        {
          "output_type": "execute_result",
          "data": {
            "text/plain": [
              "dtype('int64')"
            ]
          },
          "metadata": {},
          "execution_count": 17
        }
      ]
    },
    {
      "cell_type": "code",
      "source": [
        "np.array(ab,dtype='float')"
      ],
      "metadata": {
        "colab": {
          "base_uri": "https://localhost:8080/"
        },
        "id": "T6Vp9Xch8Z1z",
        "outputId": "498da4a7-d4f3-46a7-ad6e-1dc689f0c65d"
      },
      "execution_count": null,
      "outputs": [
        {
          "output_type": "execute_result",
          "data": {
            "text/plain": [
              "array([ 1.,  3.,  5.,  7.,  9., 11., 13., 15., 17.])"
            ]
          },
          "metadata": {},
          "execution_count": 18
        }
      ]
    },
    {
      "cell_type": "code",
      "source": [
        "ac=np.arange(15,109,6)"
      ],
      "metadata": {
        "id": "eqwl_rX28_1N"
      },
      "execution_count": null,
      "outputs": []
    },
    {
      "cell_type": "code",
      "source": [
        "ac.dtype"
      ],
      "metadata": {
        "colab": {
          "base_uri": "https://localhost:8080/"
        },
        "id": "qGRVaUY09Gav",
        "outputId": "71c443e8-a2d3-4775-91fa-451eb3a5f7aa"
      },
      "execution_count": null,
      "outputs": [
        {
          "output_type": "execute_result",
          "data": {
            "text/plain": [
              "dtype('int64')"
            ]
          },
          "metadata": {},
          "execution_count": 23
        }
      ]
    },
    {
      "cell_type": "code",
      "source": [
        "ac.astype('float')"
      ],
      "metadata": {
        "colab": {
          "base_uri": "https://localhost:8080/"
        },
        "id": "88u-L2VV9Jge",
        "outputId": "61ba4111-c3f5-4f7c-d05f-c8706c5b4d0a"
      },
      "execution_count": null,
      "outputs": [
        {
          "output_type": "execute_result",
          "data": {
            "text/plain": [
              "array([ 15.,  21.,  27.,  33.,  39.,  45.,  51.,  57.,  63.,  69.,  75.,\n",
              "        81.,  87.,  93.,  99., 105.])"
            ]
          },
          "metadata": {},
          "execution_count": 24
        }
      ]
    },
    {
      "cell_type": "code",
      "source": [
        "arr=np.arange(10)"
      ],
      "metadata": {
        "id": "vajeyqI49Wn-"
      },
      "execution_count": null,
      "outputs": []
    },
    {
      "cell_type": "code",
      "source": [
        "arr"
      ],
      "metadata": {
        "colab": {
          "base_uri": "https://localhost:8080/"
        },
        "id": "Bu18QN57Amea",
        "outputId": "c8867a75-fe24-4d83-e8e6-a56f2d11d32f"
      },
      "execution_count": null,
      "outputs": [
        {
          "output_type": "execute_result",
          "data": {
            "text/plain": [
              "array([0, 1, 2, 3, 4, 5, 6, 7, 8, 9])"
            ]
          },
          "metadata": {},
          "execution_count": 42
        }
      ]
    },
    {
      "cell_type": "code",
      "source": [
        "arr>6"
      ],
      "metadata": {
        "colab": {
          "base_uri": "https://localhost:8080/"
        },
        "id": "s_UinXeBA-3E",
        "outputId": "02c49959-8858-4059-8858-805e72a92d8b"
      },
      "execution_count": null,
      "outputs": [
        {
          "output_type": "execute_result",
          "data": {
            "text/plain": [
              "array([False, False, False, False, False, False, False,  True,  True,\n",
              "        True])"
            ]
          },
          "metadata": {},
          "execution_count": 44
        }
      ]
    },
    {
      "cell_type": "code",
      "source": [
        "arr[arr>6]"
      ],
      "metadata": {
        "colab": {
          "base_uri": "https://localhost:8080/"
        },
        "id": "5ORlVZEBBJ2H",
        "outputId": "7b48405b-589d-415f-d9e9-a40fe02268e7"
      },
      "execution_count": null,
      "outputs": [
        {
          "output_type": "execute_result",
          "data": {
            "text/plain": [
              "array([7, 8, 9])"
            ]
          },
          "metadata": {},
          "execution_count": 45
        }
      ]
    },
    {
      "cell_type": "code",
      "source": [
        "arr[arr%2==0]"
      ],
      "metadata": {
        "colab": {
          "base_uri": "https://localhost:8080/"
        },
        "id": "AH_jLOf1BV_O",
        "outputId": "94a1ebca-c8ca-4e92-db12-f1427d413755"
      },
      "execution_count": null,
      "outputs": [
        {
          "output_type": "execute_result",
          "data": {
            "text/plain": [
              "array([0, 2, 4, 6, 8])"
            ]
          },
          "metadata": {},
          "execution_count": 46
        }
      ]
    },
    {
      "cell_type": "code",
      "source": [
        "arr2=np.arange(1,99,2)\n",
        "arr2"
      ],
      "metadata": {
        "colab": {
          "base_uri": "https://localhost:8080/"
        },
        "id": "bQyMuJzlBiY8",
        "outputId": "7f0beb81-bdd1-444d-d42b-0e9710d2abbb"
      },
      "execution_count": null,
      "outputs": [
        {
          "output_type": "execute_result",
          "data": {
            "text/plain": [
              "array([ 1,  3,  5,  7,  9, 11, 13, 15, 17, 19, 21, 23, 25, 27, 29, 31, 33,\n",
              "       35, 37, 39, 41, 43, 45, 47, 49, 51, 53, 55, 57, 59, 61, 63, 65, 67,\n",
              "       69, 71, 73, 75, 77, 79, 81, 83, 85, 87, 89, 91, 93, 95, 97])"
            ]
          },
          "metadata": {},
          "execution_count": 48
        }
      ]
    },
    {
      "cell_type": "code",
      "source": [
        "arr2[(arr2%5==0)  | (arr2%7 ==0)]"
      ],
      "metadata": {
        "colab": {
          "base_uri": "https://localhost:8080/"
        },
        "id": "jMWynEE5BvaW",
        "outputId": "1feba79b-68c1-4174-d338-4e7c516f4a2b"
      },
      "execution_count": null,
      "outputs": [
        {
          "output_type": "execute_result",
          "data": {
            "text/plain": [
              "array([ 5,  7, 15, 21, 25, 35, 45, 49, 55, 63, 65, 75, 77, 85, 91, 95])"
            ]
          },
          "metadata": {},
          "execution_count": 54
        }
      ]
    },
    {
      "cell_type": "code",
      "source": [
        "import numpy as np"
      ],
      "metadata": {
        "id": "8jEWlzBZGwCe"
      },
      "execution_count": null,
      "outputs": []
    },
    {
      "cell_type": "code",
      "source": [
        "import numpy as np\n",
        "survey = np.loadtxt('survey.txt',dtype='int')"
      ],
      "metadata": {
        "id": "kBly0t4UG4eU"
      },
      "execution_count": null,
      "outputs": []
    },
    {
      "cell_type": "code",
      "source": [
        "type(survey)"
      ],
      "metadata": {
        "colab": {
          "base_uri": "https://localhost:8080/"
        },
        "id": "etSPwsCFHO0N",
        "outputId": "11a620c6-e89a-4118-9f0e-b05503349f35"
      },
      "execution_count": null,
      "outputs": [
        {
          "output_type": "execute_result",
          "data": {
            "text/plain": [
              "numpy.ndarray"
            ]
          },
          "metadata": {},
          "execution_count": 66
        }
      ]
    },
    {
      "cell_type": "code",
      "source": [
        "len(survey)"
      ],
      "metadata": {
        "colab": {
          "base_uri": "https://localhost:8080/"
        },
        "id": "1kAimukeHVin",
        "outputId": "50aff625-d3d3-4237-b7a7-332eeeccdcbd"
      },
      "execution_count": null,
      "outputs": [
        {
          "output_type": "execute_result",
          "data": {
            "text/plain": [
              "1167"
            ]
          },
          "metadata": {},
          "execution_count": 67
        }
      ]
    },
    {
      "cell_type": "code",
      "source": [
        "survey"
      ],
      "metadata": {
        "colab": {
          "base_uri": "https://localhost:8080/"
        },
        "id": "v7cmK32VIDLH",
        "outputId": "19d77652-c46a-405d-b063-ac88c9f5b003"
      },
      "execution_count": null,
      "outputs": [
        {
          "output_type": "execute_result",
          "data": {
            "text/plain": [
              "array([ 7, 10,  5, ...,  5,  9, 10])"
            ]
          },
          "metadata": {},
          "execution_count": 68
        }
      ]
    },
    {
      "cell_type": "markdown",
      "source": [
        "#NPS Solution"
      ],
      "metadata": {
        "id": "Q5DyLXGtjyjB"
      }
    },
    {
      "cell_type": "code",
      "source": [
        "import numpy as np #importing the library"
      ],
      "metadata": {
        "id": "v9nYJRP2fv04"
      },
      "execution_count": null,
      "outputs": []
    },
    {
      "cell_type": "code",
      "source": [
        "data=np.loadtxt('survey.txt',dtype='int')#Loading the data"
      ],
      "metadata": {
        "id": "f5wYD_FcfxqT"
      },
      "execution_count": null,
      "outputs": []
    },
    {
      "cell_type": "code",
      "source": [
        "data"
      ],
      "metadata": {
        "colab": {
          "base_uri": "https://localhost:8080/"
        },
        "id": "u5XUAzjggEc-",
        "outputId": "cc7801d4-10b4-4526-e737-4642cd6b998e"
      },
      "execution_count": null,
      "outputs": [
        {
          "output_type": "execute_result",
          "data": {
            "text/plain": [
              "array([ 7, 10,  5, ...,  5,  9, 10])"
            ]
          },
          "metadata": {},
          "execution_count": 3
        }
      ]
    },
    {
      "cell_type": "code",
      "source": [
        "promoters=data[data>=9] #Creating an array for promoters\n",
        "promoters"
      ],
      "metadata": {
        "colab": {
          "base_uri": "https://localhost:8080/"
        },
        "id": "Bmmw8xfigRjl",
        "outputId": "00f6ce02-93a3-40b0-c72d-c7fb5195fe18"
      },
      "execution_count": null,
      "outputs": [
        {
          "output_type": "execute_result",
          "data": {
            "text/plain": [
              "array([10,  9,  9,  9,  9,  9, 10,  9,  9, 10,  9,  9,  9,  9,  9,  9,  9,\n",
              "       10, 10,  9, 10,  9, 10,  9,  9, 10, 10,  9, 10,  9, 10, 10, 10,  9,\n",
              "        9, 10, 10, 10,  9, 10,  9, 10,  9,  9,  9, 10,  9,  9,  9,  9,  9,\n",
              "        9, 10,  9,  9,  9, 10,  9, 10,  9,  9,  9,  9,  9, 10, 10,  9, 10,\n",
              "        9,  9, 10,  9,  9, 10,  9,  9,  9,  9,  9,  9,  9,  9,  9,  9,  9,\n",
              "       10,  9,  9,  9,  9,  9,  9,  9,  9, 10,  9,  9,  9,  9,  9, 10, 10,\n",
              "        9, 10, 10, 10, 10,  9, 10,  9,  9,  9,  9,  9,  9,  9, 10,  9, 10,\n",
              "        9, 10,  9, 10, 10, 10,  9,  9, 10, 10,  9,  9,  9,  9, 10,  9,  9,\n",
              "        9,  9, 10, 10,  9,  9,  9, 10,  9,  9,  9,  9,  9, 10,  9,  9,  9,\n",
              "       10,  9, 10, 10,  9,  9,  9,  9, 10,  9, 10,  9,  9,  9,  9, 10,  9,\n",
              "       10,  9,  9,  9,  9,  9,  9,  9,  9,  9,  9,  9, 10, 10,  9,  9,  9,\n",
              "       10,  9, 10, 10, 10, 10, 10,  9,  9,  9,  9, 10, 10, 10,  9,  9, 10,\n",
              "        9, 10, 10, 10, 10,  9, 10, 10,  9, 10,  9,  9,  9,  9, 10,  9, 10,\n",
              "        9, 10,  9,  9,  9,  9, 10,  9,  9,  9,  9,  9, 10,  9, 10, 10,  9,\n",
              "       10, 10, 10,  9,  9,  9,  9,  9,  9, 10,  9,  9, 10,  9, 10, 10,  9,\n",
              "        9,  9, 10, 10, 10, 10,  9,  9,  9, 10, 10,  9, 10,  9,  9,  9, 10,\n",
              "        9,  9,  9,  9,  9,  9,  9,  9,  9,  9, 10,  9,  9,  9, 10,  9, 10,\n",
              "        9, 10,  9, 10,  9,  9, 10, 10,  9,  9,  9, 10,  9,  9, 10,  9,  9,\n",
              "        9,  9,  9,  9, 10, 10,  9, 10,  9,  9,  9,  9, 10,  9,  9,  9,  9,\n",
              "       10,  9, 10,  9, 10,  9, 10, 10,  9, 10, 10,  9, 10,  9,  9,  9,  9,\n",
              "        9, 10,  9, 10, 10,  9, 10, 10,  9,  9, 10,  9, 10, 10,  9, 10, 10,\n",
              "       10,  9,  9,  9, 10,  9,  9,  9, 10,  9,  9,  9,  9,  9, 10,  9,  9,\n",
              "        9, 10,  9,  9,  9,  9,  9, 10,  9, 10,  9,  9, 10,  9,  9,  9,  9,\n",
              "        9,  9, 10,  9,  9,  9,  9,  9,  9,  9,  9,  9,  9, 10,  9, 10,  9,\n",
              "        9,  9,  9,  9,  9,  9,  9,  9,  9,  9,  9,  9,  9, 10, 10,  9,  9,\n",
              "        9,  9, 10,  9, 10,  9, 10, 10,  9,  9, 10,  9, 10, 10, 10,  9,  9,\n",
              "        9, 10, 10,  9,  9,  9, 10,  9,  9,  9,  9, 10,  9, 10,  9,  9, 10,\n",
              "        9,  9,  9, 10,  9,  9,  9,  9, 10,  9,  9,  9,  9,  9,  9, 10,  9,\n",
              "       10, 10,  9,  9,  9, 10, 10, 10, 10,  9,  9, 10, 10,  9, 10,  9, 10,\n",
              "        9, 10,  9,  9, 10,  9, 10, 10,  9,  9,  9,  9,  9,  9,  9,  9,  9,\n",
              "        9,  9,  9,  9,  9,  9,  9,  9,  9,  9,  9,  9,  9,  9,  9,  9,  9,\n",
              "       10, 10,  9,  9,  9,  9, 10, 10,  9, 10, 10,  9, 10, 10,  9, 10, 10,\n",
              "       10,  9,  9, 10, 10, 10,  9,  9, 10, 10,  9,  9,  9,  9,  9,  9, 10,\n",
              "       10, 10, 10, 10, 10,  9,  9,  9,  9, 10, 10,  9,  9,  9,  9,  9, 10,\n",
              "       10,  9, 10, 10,  9, 10, 10,  9, 10, 10,  9, 10,  9, 10, 10,  9, 10,\n",
              "       10,  9,  9,  9,  9, 10,  9,  9, 10, 10, 10, 10,  9, 10])"
            ]
          },
          "metadata": {},
          "execution_count": 7
        }
      ]
    },
    {
      "cell_type": "code",
      "source": [
        "detractors=data[data<=6] #Creating array for detractors\n",
        "detractors"
      ],
      "metadata": {
        "colab": {
          "base_uri": "https://localhost:8080/"
        },
        "id": "g_yQtjtlgXdE",
        "outputId": "606ed2df-ff51-404b-ba07-448621d71802"
      },
      "execution_count": null,
      "outputs": [
        {
          "output_type": "execute_result",
          "data": {
            "text/plain": [
              "array([5, 4, 4, 5, 1, 5, 5, 1, 4, 5, 4, 4, 4, 5, 1, 4, 1, 4, 1, 5, 5, 1,\n",
              "       1, 4, 1, 5, 4, 1, 1, 4, 1, 5, 1, 4, 4, 1, 1, 1, 1, 1, 1, 1, 4, 1,\n",
              "       1, 5, 5, 5, 4, 4, 1, 4, 1, 4, 1, 5, 1, 1, 5, 4, 4, 4, 4, 1, 4, 5,\n",
              "       4, 4, 1, 1, 5, 5, 1, 5, 1, 5, 5, 4, 5, 4, 1, 1, 1, 1, 4, 1, 4, 4,\n",
              "       5, 4, 1, 1, 1, 1, 5, 4, 5, 5, 4, 1, 5, 1, 4, 4, 1, 1, 1, 4, 4, 5,\n",
              "       5, 4, 5, 5, 5, 1, 4, 1, 5, 5, 1, 5, 1, 1, 5, 5, 4, 4, 1, 4, 4, 4,\n",
              "       1, 1, 4, 4, 4, 5, 5, 1, 1, 4, 1, 4, 1, 4, 1, 4, 1, 4, 1, 5, 4, 4,\n",
              "       5, 1, 4, 5, 5, 5, 1, 5, 4, 1, 1, 5, 5, 5, 4, 5, 4, 4, 1, 4, 4, 4,\n",
              "       4, 5, 1, 5, 5, 1, 4, 4, 5, 1, 1, 4, 5, 5, 5, 1, 4, 5, 5, 4, 1, 5,\n",
              "       5, 5, 1, 1, 5, 5, 1, 1, 1, 4, 5, 5, 4, 4, 4, 5, 1, 4, 1, 4, 5, 4,\n",
              "       5, 5, 1, 5, 1, 5, 5, 1, 4, 5, 5, 4, 1, 5, 1, 4, 1, 4, 1, 1, 1, 1,\n",
              "       1, 1, 4, 1, 5, 4, 5, 1, 5, 1, 5, 4, 4, 4, 4, 5, 5, 1, 4, 1, 5, 5,\n",
              "       1, 4, 1, 1, 4, 4, 4, 4, 1, 4, 1, 1, 4, 1, 5, 4, 1, 1, 5, 4, 5, 4,\n",
              "       4, 4, 1, 5, 5, 1, 4, 5, 4, 4, 4, 1, 4, 1, 4, 4, 4, 5, 1, 1, 1, 4,\n",
              "       5, 5, 1, 5, 4, 5, 5, 4, 1, 1, 5, 5, 5, 1, 4, 5, 4, 5, 5, 5, 1, 4,\n",
              "       1, 5])"
            ]
          },
          "metadata": {},
          "execution_count": 8
        }
      ]
    },
    {
      "cell_type": "code",
      "source": [
        "promoters_percent= np.round(len(promoters)/len(data) *100,2)\n",
        "promoters_percent"
      ],
      "metadata": {
        "colab": {
          "base_uri": "https://localhost:8080/"
        },
        "id": "g3nty8BEgmeJ",
        "outputId": "cae700e9-5604-4285-ac21-a4d90e331806"
      },
      "execution_count": null,
      "outputs": [
        {
          "output_type": "execute_result",
          "data": {
            "text/plain": [
              "52.19"
            ]
          },
          "metadata": {},
          "execution_count": 13
        }
      ]
    },
    {
      "cell_type": "code",
      "source": [
        "detractors_percent =np.round(len(detractors)/len(data) *100 ,2)\n",
        "detractors_percent"
      ],
      "metadata": {
        "colab": {
          "base_uri": "https://localhost:8080/"
        },
        "id": "R157XcRvibzE",
        "outputId": "dd0d5804-7ca1-4d19-fa0e-34e4a9fb0a97"
      },
      "execution_count": null,
      "outputs": [
        {
          "output_type": "execute_result",
          "data": {
            "text/plain": [
              "28.45"
            ]
          },
          "metadata": {},
          "execution_count": 14
        }
      ]
    },
    {
      "cell_type": "code",
      "source": [
        "NPS=promoters_percent - detractors_percent\n",
        "print(f'Nps score is {NPS}')"
      ],
      "metadata": {
        "colab": {
          "base_uri": "https://localhost:8080/"
        },
        "id": "ocFtyU7PimVt",
        "outputId": "cea81159-0235-4f85-e6df-d303b6fc3a73"
      },
      "execution_count": null,
      "outputs": [
        {
          "output_type": "stream",
          "name": "stdout",
          "text": [
            "Nps score is 23.74\n"
          ]
        }
      ]
    }
  ]
}