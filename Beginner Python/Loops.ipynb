{
  "nbformat": 4,
  "nbformat_minor": 0,
  "metadata": {
    "colab": {
      "provenance": []
    },
    "kernelspec": {
      "name": "python3",
      "display_name": "Python 3"
    },
    "language_info": {
      "name": "python"
    }
  },
  "cells": [
    {
      "cell_type": "markdown",
      "source": [
        "#Loops"
      ],
      "metadata": {
        "id": "V12LKfXWKSAA"
      }
    },
    {
      "cell_type": "markdown",
      "source": [
        "##While Loop"
      ],
      "metadata": {
        "id": "4_1ZOia_KFR8"
      }
    },
    {
      "cell_type": "code",
      "source": [
        "# I want to print all the numbers from 0  to 7(include 7)\n",
        "number = 0\n",
        "while number <=7:\n",
        "  print(number, end=' ')\n",
        "  number += 1"
      ],
      "metadata": {
        "colab": {
          "base_uri": "https://localhost:8080/"
        },
        "id": "ainNK_V4wBHw",
        "outputId": "52041306-8335-41e7-9388-930c505d4d47"
      },
      "execution_count": null,
      "outputs": [
        {
          "output_type": "stream",
          "name": "stdout",
          "text": [
            "0 1 2 3 4 5 6 7 "
          ]
        }
      ]
    },
    {
      "cell_type": "markdown",
      "source": [
        "### Practsie Questions"
      ],
      "metadata": {
        "id": "slBZGMBmKW_2"
      }
    },
    {
      "cell_type": "code",
      "source": [],
      "metadata": {
        "id": "fn71pIcTwGZu"
      },
      "execution_count": null,
      "outputs": []
    },
    {
      "cell_type": "markdown",
      "source": [
        " - Question 1 : Print all the numbers from 0 to 5 (5 included)\n",
        " - Question 2 : Take an input from user and print all the alternate numbers from 1 till input\n",
        " - Question 3 : Take input from the user, print alternate numbers from  1.Input will be positive\n",
        "   - Input --->7\n",
        "   - Output -->1 3 5 7\n",
        " - Question 4 : Take an input from the user, print all the alternate number from 1. If the number is less then 1 print \"Number is small'\n"
      ],
      "metadata": {
        "id": "2Fs-wsaOwwKn"
      }
    },
    {
      "cell_type": "code",
      "source": [
        "# - Question 1 : Print all the numbers from 0 to 5 (5 included)\n",
        "number = 1\n",
        "while number<=5:\n",
        "  print(number, end =' ')\n",
        "  number+=1"
      ],
      "metadata": {
        "colab": {
          "base_uri": "https://localhost:8080/"
        },
        "id": "iWTJkphow22p",
        "outputId": "fdd337ba-cf7a-41ba-e1dc-6bf1b6b1c630"
      },
      "execution_count": null,
      "outputs": [
        {
          "output_type": "stream",
          "name": "stdout",
          "text": [
            "1 2 3 4 5 "
          ]
        }
      ]
    },
    {
      "cell_type": "code",
      "source": [
        "# Question 2 : Take an input from user and print all the alternate numbers from 1 till input"
      ],
      "metadata": {
        "id": "5TemSkZS7705"
      },
      "execution_count": null,
      "outputs": []
    },
    {
      "cell_type": "code",
      "source": [
        "inp=int(input('Please enter a number - '))\n",
        "number =1\n",
        "while number <= inp:\n",
        "  print(number, end =' ')\n",
        "  number = number + 2\n"
      ],
      "metadata": {
        "colab": {
          "base_uri": "https://localhost:8080/"
        },
        "id": "3l3iQu6V_Rck",
        "outputId": "f8c6c2ca-f8f1-44b4-84cd-c3e20c05c82a"
      },
      "execution_count": null,
      "outputs": [
        {
          "output_type": "stream",
          "name": "stdout",
          "text": [
            "Please enter a number - 21\n",
            "1 3 5 7 9 11 13 15 17 19 21 "
          ]
        }
      ]
    },
    {
      "cell_type": "code",
      "source": [
        "#Take an input print all the even numbers till the input number"
      ],
      "metadata": {
        "id": "pEFDOwu_AObS"
      },
      "execution_count": null,
      "outputs": []
    },
    {
      "cell_type": "code",
      "source": [
        "inp=int(input('Please enter a number-'))\n",
        "number = 2\n",
        "while number<=inp:\n",
        "  print(number, end=\" \")\n",
        "  number = number + 2"
      ],
      "metadata": {
        "colab": {
          "base_uri": "https://localhost:8080/"
        },
        "id": "SMgiNq7oAOeX",
        "outputId": "aa954eae-dccf-4817-e9b8-e06dbd5f5744"
      },
      "execution_count": null,
      "outputs": [
        {
          "output_type": "stream",
          "name": "stdout",
          "text": [
            "Please enter a number-21\n",
            "2 4 6 8 10 12 14 16 18 20 "
          ]
        }
      ]
    },
    {
      "cell_type": "code",
      "source": [
        "#Take an input from the user and check if it is even or odd. If it even print it as even number else odd number\n",
        "# Use if else here"
      ],
      "metadata": {
        "id": "oH4zW79REE_b"
      },
      "execution_count": null,
      "outputs": []
    },
    {
      "cell_type": "code",
      "source": [
        "inp=int(input('Please enter a number '))\n",
        "if inp%2 ==0:\n",
        "  print('This is an even number')\n",
        "else:\n",
        "  print('This is an odd number')\n"
      ],
      "metadata": {
        "colab": {
          "base_uri": "https://localhost:8080/"
        },
        "id": "-serY8I_ET86",
        "outputId": "b262d4b9-6889-4f84-d000-86e253e1d803"
      },
      "execution_count": null,
      "outputs": [
        {
          "output_type": "stream",
          "name": "stdout",
          "text": [
            "Please enter a number 21\n",
            "This is an odd number\n"
          ]
        }
      ]
    },
    {
      "cell_type": "markdown",
      "source": [
        "Question 4 : Take an input from the user, print all the alternate number from 1 if the number is greather than 1. If the number is less then 1 print \"Number is small'"
      ],
      "metadata": {
        "id": "d29oB1BiIKdH"
      }
    },
    {
      "cell_type": "code",
      "source": [
        "inp=int(input())\n",
        "if inp>1:\n",
        "  number = 1\n",
        "  while number<inp:\n",
        "    print(number)\n",
        "    number = number +2\n",
        "else:\n",
        "  print('Number is small')\n"
      ],
      "metadata": {
        "id": "AFoT-vh5IBog"
      },
      "execution_count": null,
      "outputs": []
    },
    {
      "cell_type": "code",
      "source": [
        "x= int(input())\n",
        "if x>1:\n",
        "  number  =1\n",
        "  while number <= x:\n",
        "    print(number)\n",
        "    number = number + 2\n",
        "  #do sommething\n",
        "else:\n",
        "  print('Number is small')"
      ],
      "metadata": {
        "colab": {
          "base_uri": "https://localhost:8080/"
        },
        "id": "g1Jd83jDIlo4",
        "outputId": "0bde49fe-b835-4011-8fce-20dc609e80bb"
      },
      "execution_count": null,
      "outputs": [
        {
          "output_type": "stream",
          "name": "stdout",
          "text": [
            "-1\n",
            "Number is small\n"
          ]
        }
      ]
    },
    {
      "cell_type": "code",
      "source": [
        "#Take an input from the user for start and end values and print every third number"
      ],
      "metadata": {
        "id": "JTiC6Hs9LKGC"
      },
      "execution_count": null,
      "outputs": []
    },
    {
      "cell_type": "code",
      "source": [
        "start = int(input('Enter the start value '))\n",
        "end = int(input('Enter the end value'))\n",
        "\n",
        "while start<end:\n",
        "  print(start)\n",
        "  start = start+ 3"
      ],
      "metadata": {
        "colab": {
          "base_uri": "https://localhost:8080/"
        },
        "id": "3TKS9YjXMDWD",
        "outputId": "f59f173d-faa9-413e-b3ab-2995888fbd6f"
      },
      "execution_count": null,
      "outputs": [
        {
          "output_type": "stream",
          "name": "stdout",
          "text": [
            "Enter the start value 1\n",
            "Enter the end value21\n",
            "1\n",
            "4\n",
            "7\n",
            "10\n",
            "13\n",
            "16\n",
            "19\n"
          ]
        }
      ]
    },
    {
      "cell_type": "code",
      "source": [
        "#  You are a bowler and you have to bowl 1 over. (6 balls) \"Bowling ball number - ball_number"
      ],
      "metadata": {
        "id": "_fAxZV5PPB9W"
      },
      "execution_count": null,
      "outputs": []
    },
    {
      "cell_type": "code",
      "source": [
        "ball =1\n",
        "while ball<=6:\n",
        "  print('over ball ',ball)\n",
        "  ball+=1"
      ],
      "metadata": {
        "colab": {
          "base_uri": "https://localhost:8080/"
        },
        "id": "qNNNp5cUQGdP",
        "outputId": "24e66f33-8bff-46cc-8d53-2d87f7f6a077"
      },
      "execution_count": null,
      "outputs": [
        {
          "output_type": "stream",
          "name": "stdout",
          "text": [
            "over ball  1\n",
            "over ball  2\n",
            "over ball  3\n",
            "over ball  4\n",
            "over ball  5\n",
            "over ball  6\n"
          ]
        }
      ]
    },
    {
      "cell_type": "code",
      "source": [
        "# Take an input from the user for start and end values. Print all even numbers between them.\n"
      ],
      "metadata": {
        "id": "ddEJqsNrSPcc"
      },
      "execution_count": null,
      "outputs": []
    },
    {
      "cell_type": "code",
      "source": [
        "55/11"
      ],
      "metadata": {
        "id": "3zgoHNngViRx",
        "outputId": "5105c1fc-f135-4f5b-e00d-6ae5c7e57bc2",
        "colab": {
          "base_uri": "https://localhost:8080/"
        }
      },
      "execution_count": null,
      "outputs": [
        {
          "output_type": "execute_result",
          "data": {
            "text/plain": [
              "5.0"
            ]
          },
          "metadata": {},
          "execution_count": 18
        }
      ]
    },
    {
      "cell_type": "markdown",
      "source": [
        "##For Loops\n"
      ],
      "metadata": {
        "id": "pyD0L72HKH34"
      }
    },
    {
      "cell_type": "code",
      "source": [
        "for i in range(10):\n",
        "  print(i)"
      ],
      "metadata": {
        "colab": {
          "base_uri": "https://localhost:8080/"
        },
        "id": "TwaZtUs9Ve9O",
        "outputId": "3e6b16f3-d157-4bc5-85f7-d20709af79cc"
      },
      "execution_count": null,
      "outputs": [
        {
          "output_type": "stream",
          "name": "stdout",
          "text": [
            "0\n",
            "1\n",
            "2\n",
            "3\n",
            "4\n",
            "5\n",
            "6\n",
            "7\n",
            "8\n",
            "9\n"
          ]
        }
      ]
    },
    {
      "cell_type": "code",
      "source": [
        "for i in range(1,15):\n",
        "  print(i,end=' ')"
      ],
      "metadata": {
        "colab": {
          "base_uri": "https://localhost:8080/"
        },
        "id": "bc444Y65VoSg",
        "outputId": "0ef2c699-787d-4082-911e-8709b3c6f479"
      },
      "execution_count": null,
      "outputs": [
        {
          "output_type": "stream",
          "name": "stdout",
          "text": [
            "1 2 3 4 5 6 7 8 9 10 11 12 13 14 "
          ]
        }
      ]
    },
    {
      "cell_type": "code",
      "source": [
        "for i in range(1,15,2):\n",
        "  print(i,end=' ')"
      ],
      "metadata": {
        "colab": {
          "base_uri": "https://localhost:8080/"
        },
        "id": "-NpIdx8KVxK-",
        "outputId": "ba9cf0a9-d00f-40ae-fe0c-86b6b450216d"
      },
      "execution_count": null,
      "outputs": [
        {
          "output_type": "stream",
          "name": "stdout",
          "text": [
            "1 3 5 7 9 11 13 "
          ]
        }
      ]
    },
    {
      "cell_type": "code",
      "source": [
        "#Take an input from the user for start and end,print all the values between start and end(Include last value)\n",
        "start = int(input('Enter start number -'))\n",
        "end=int(input('Enter end number - '))\n",
        "for i in range(start,end+1):\n",
        "  print(i,end=\" \")"
      ],
      "metadata": {
        "colab": {
          "base_uri": "https://localhost:8080/"
        },
        "id": "8XCN-P7eV6VV",
        "outputId": "1f192fe8-fed1-41d5-e348-50f8efb3be3b"
      },
      "execution_count": null,
      "outputs": [
        {
          "output_type": "stream",
          "name": "stdout",
          "text": [
            "Enter start number -15\n",
            "Enter end number - 21\n",
            "15 16 17 18 19 20 21 "
          ]
        }
      ]
    },
    {
      "cell_type": "code",
      "source": [
        "for i in range(1,11,2):\n",
        "  print(i)"
      ],
      "metadata": {
        "colab": {
          "base_uri": "https://localhost:8080/"
        },
        "id": "hyeuoKk4XgwX",
        "outputId": "1d64234a-2122-4a00-d490-c0afae129f7d"
      },
      "execution_count": null,
      "outputs": [
        {
          "output_type": "stream",
          "name": "stdout",
          "text": [
            "1\n",
            "3\n",
            "5\n",
            "7\n",
            "9\n"
          ]
        }
      ]
    },
    {
      "cell_type": "code",
      "source": [
        "#Take an input from the user and calculate the sum of numbers from 1.(Last number should be included)"
      ],
      "metadata": {
        "id": "qCORSqjyXzvC"
      },
      "execution_count": null,
      "outputs": []
    },
    {
      "cell_type": "code",
      "source": [
        "inp = int(input())\n",
        "for i in range(inp):\n"
      ],
      "metadata": {
        "id": "ifoO6ChFYc4U"
      },
      "execution_count": null,
      "outputs": []
    },
    {
      "cell_type": "code",
      "source": [
        "inp = int(input())\n",
        "sum_value = 0\n",
        "for i in range(inp+1):\n",
        "  sum_value=sum_value+i\n",
        "  print(sum_value)"
      ],
      "metadata": {
        "colab": {
          "base_uri": "https://localhost:8080/"
        },
        "id": "78dD91qzYqhC",
        "outputId": "b259b4b8-505e-43da-f488-d7c3fecf0d69"
      },
      "execution_count": null,
      "outputs": [
        {
          "output_type": "stream",
          "name": "stdout",
          "text": [
            "5\n",
            "0\n",
            "1\n",
            "3\n",
            "6\n",
            "10\n",
            "15\n"
          ]
        }
      ]
    },
    {
      "cell_type": "code",
      "source": [
        "for i in range(10,0,-1):\n",
        "  print(i)"
      ],
      "metadata": {
        "colab": {
          "base_uri": "https://localhost:8080/"
        },
        "id": "tTyVKuXwZ9V7",
        "outputId": "453383cc-0938-423d-b3e6-07c4c0f428c1"
      },
      "execution_count": null,
      "outputs": [
        {
          "output_type": "stream",
          "name": "stdout",
          "text": [
            "10\n",
            "9\n",
            "8\n",
            "7\n",
            "6\n",
            "5\n",
            "4\n",
            "3\n",
            "2\n",
            "1\n"
          ]
        }
      ]
    },
    {
      "cell_type": "code",
      "source": [
        "for i in range(10,-1):\n",
        "  print(i)"
      ],
      "metadata": {
        "colab": {
          "base_uri": "https://localhost:8080/"
        },
        "id": "Nb4xAsFYark1",
        "outputId": "a0180680-af8f-4df8-daae-2fbc62de48aa"
      },
      "execution_count": null,
      "outputs": [
        {
          "output_type": "stream",
          "name": "stdout",
          "text": [
            "10\n",
            "9\n",
            "8\n",
            "7\n",
            "6\n",
            "5\n",
            "4\n",
            "3\n",
            "2\n"
          ]
        }
      ]
    },
    {
      "cell_type": "code",
      "source": [
        "len(range(6))"
      ],
      "metadata": {
        "colab": {
          "base_uri": "https://localhost:8080/"
        },
        "id": "7M7ae33xcn8n",
        "outputId": "79b19e9d-d422-4d44-cbe0-4a9c64949bb0"
      },
      "execution_count": null,
      "outputs": [
        {
          "output_type": "execute_result",
          "data": {
            "text/plain": [
              "6"
            ]
          },
          "metadata": {},
          "execution_count": 19
        }
      ]
    },
    {
      "cell_type": "code",
      "source": [
        "len(range(1,6))"
      ],
      "metadata": {
        "colab": {
          "base_uri": "https://localhost:8080/"
        },
        "id": "YFnnbxJTcsOI",
        "outputId": "5f15d7a6-b313-4487-d91d-3bfbe6362dd3"
      },
      "execution_count": null,
      "outputs": [
        {
          "output_type": "execute_result",
          "data": {
            "text/plain": [
              "5"
            ]
          },
          "metadata": {},
          "execution_count": 20
        }
      ]
    },
    {
      "cell_type": "code",
      "source": [
        "len(range(1,6,3))"
      ],
      "metadata": {
        "colab": {
          "base_uri": "https://localhost:8080/"
        },
        "id": "F06K8gIPcujM",
        "outputId": "73f31750-0805-491a-b59e-85cd2c35d059"
      },
      "execution_count": null,
      "outputs": [
        {
          "output_type": "execute_result",
          "data": {
            "text/plain": [
              "2"
            ]
          },
          "metadata": {},
          "execution_count": 21
        }
      ]
    },
    {
      "cell_type": "code",
      "source": [
        "n=6\n",
        "len(range(n+1))"
      ],
      "metadata": {
        "colab": {
          "base_uri": "https://localhost:8080/"
        },
        "id": "icMJg6SCcxzz",
        "outputId": "f6d0e672-3136-4cef-b101-53c407a4cb70"
      },
      "execution_count": null,
      "outputs": [
        {
          "output_type": "execute_result",
          "data": {
            "text/plain": [
              "7"
            ]
          },
          "metadata": {},
          "execution_count": 22
        }
      ]
    },
    {
      "cell_type": "code",
      "source": [
        "'''\n",
        "Question 2 -\n",
        "sumL ->\n",
        "Take N an input from the user.\n",
        "Calculate the sum of all numbers from 1 to N (N is included).\n",
        "'''"
      ],
      "metadata": {
        "id": "-EanC0iBngKJ"
      },
      "execution_count": null,
      "outputs": []
    },
    {
      "cell_type": "code",
      "source": [
        "n=int(input())\n",
        "sum=0\n",
        "for i in range(0,n+1):\n",
        "  sum=sum+i\n",
        "  print(sum)\n"
      ],
      "metadata": {
        "colab": {
          "base_uri": "https://localhost:8080/"
        },
        "id": "Kv8QayCYnjHu",
        "outputId": "58cb0b21-f8d6-4cba-d4a1-14b62ba611d1"
      },
      "execution_count": null,
      "outputs": [
        {
          "output_type": "stream",
          "name": "stdout",
          "text": [
            "4\n",
            "0\n",
            "1\n",
            "3\n",
            "6\n",
            "10\n"
          ]
        }
      ]
    },
    {
      "cell_type": "code",
      "source": [
        "'''\n",
        "Question 1 -\n",
        "Sum ->\n",
        "Take N an input from the user.\n",
        "Calculate the sum of all numbers from 1 to N (N is included).\n",
        "'''"
      ],
      "metadata": {
        "id": "w8rXcOnIVfG5"
      },
      "execution_count": null,
      "outputs": []
    },
    {
      "cell_type": "code",
      "source": [
        "'''\n",
        "Question 2 -\n",
        "FACTORIAL ->\n",
        "Take N an input from the user.\n",
        "Calculate the product of all numbers from 1 to N (N is included).\n",
        "'''"
      ],
      "metadata": {
        "id": "8Ejz4dKyUpP9"
      },
      "execution_count": null,
      "outputs": []
    },
    {
      "cell_type": "code",
      "source": [
        "'''\n",
        "Question 3 -\n",
        "Take N as input from the user.\n",
        "Calculate the product of all even numbers between 1 and N. Both included.\n",
        "'''"
      ],
      "metadata": {
        "id": "xo_i4uBqWb2K"
      },
      "execution_count": null,
      "outputs": []
    },
    {
      "cell_type": "code",
      "source": [
        "'''\n",
        "Question 4 -\n",
        "Take start and end as input from the user.\n",
        "Calculate the product of all even numbers between start and end.\n",
        "Both included.\n",
        "\n",
        "GIVEN - Both start and end will be greater than 0.\n",
        "'''"
      ],
      "metadata": {
        "id": "AReIy0mMXPUL"
      },
      "execution_count": null,
      "outputs": []
    },
    {
      "cell_type": "code",
      "source": [],
      "metadata": {
        "id": "2q4qxOkrdAa2"
      },
      "execution_count": null,
      "outputs": []
    },
    {
      "cell_type": "code",
      "source": [],
      "metadata": {
        "colab": {
          "base_uri": "https://localhost:8080/"
        },
        "id": "2I_QqkrbdXjv",
        "outputId": "01f73c50-2b73-4b81-ff30-f3b926ce5ffa"
      },
      "execution_count": null,
      "outputs": [
        {
          "output_type": "stream",
          "name": "stdout",
          "text": [
            "6\n",
            "6 5 4 3 2 1 "
          ]
        }
      ]
    },
    {
      "cell_type": "code",
      "source": [
        "'''\n",
        "Question 6 -\n",
        "Print all the numbers from an input N to 1 in reverse order.\n",
        "N > 1 -> Given\n",
        "'''\n",
        "#Answer\n",
        "n = int(input())\n",
        "for i in range(n,0,-1):\n",
        "  print(i, end= \" \")"
      ],
      "metadata": {
        "colab": {
          "base_uri": "https://localhost:8080/"
        },
        "id": "WaYfocLiXQoN",
        "outputId": "4ebff1b6-e491-421d-a94b-a4e2e8686d14"
      },
      "execution_count": null,
      "outputs": [
        {
          "output_type": "stream",
          "name": "stdout",
          "text": [
            "3\n",
            "3 2 1 "
          ]
        }
      ]
    },
    {
      "cell_type": "code",
      "source": [
        "'''\n",
        "Question 7 -\n",
        "Print all the numbers from an input N to 1 in reverse order.\n",
        "WITHOUT USING NEGATIVE JUMP!\n",
        "N > 1 -> Given\n",
        "'''\n",
        "n=int(input())\n",
        "for i in range(n+1):\n",
        "  print(n-i,end=\" \")"
      ],
      "metadata": {
        "colab": {
          "base_uri": "https://localhost:8080/"
        },
        "id": "B_0TfmSfXeNR",
        "outputId": "61e1f083-1a83-40b4-aa6a-f3e7416fa853"
      },
      "execution_count": null,
      "outputs": [
        {
          "output_type": "stream",
          "name": "stdout",
          "text": [
            "6\n",
            "6 5 4 3 2 1 0 "
          ]
        }
      ]
    },
    {
      "cell_type": "markdown",
      "source": [
        "#Quiz"
      ],
      "metadata": {
        "id": "PPuawNsMKLd6"
      }
    },
    {
      "cell_type": "markdown",
      "source": [
        "\n",
        "![image.png](data:image/png;base64,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)\n",
        "What will be the output of the following code?\n",
        "x = 1\n",
        "while x <= 100:\n",
        "if x % 3 == 0 and x % 5 == 0:\n",
        "print(\"FizzBuzz\")\n",
        "elif x % 3 == 0:\n",
        "print(\"Fizz\")\n",
        "elif x % 5 == 0:\n",
        "print(\"Buzz\")\n",
        "else:\n",
        "print(x)\n",
        "x += 1\n",
        "a) FizzBuzz\n",
        "b) Fizz\n",
        "c) Buzz\n",
        "d) A combination of Fizz, Buzz, and/or integers"
      ],
      "metadata": {
        "id": "3n493CJvKNw3"
      }
    },
    {
      "cell_type": "markdown",
      "source": [
        "How many numbers are included in the below range?\n",
        "range(1, 11, 2)\n",
        "A. 4\n",
        "B. 5\n",
        "C. 6\n",
        "D. 7\n",
        "![image.png](data:image/png;base64,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)"
      ],
      "metadata": {
        "id": "29o_oZBVKhBs"
      }
    },
    {
      "cell_type": "markdown",
      "source": [
        " Quiz-4\n",
        "How many numbers are included in the below range?\n",
        "range(11)\n",
        "A. 11\n",
        "B. 10\n",
        "C. 12\n",
        "![image.png](data:image/png;base64,iVBORw0KGgoAAAANSUhEUgAAArIAAADcCAYAAACMGEKDAAAAAXNSR0IArs4c6QAAAARnQU1BAACxjwv8YQUAAAAJcEhZcwAADsMAAA7DAcdvqGQAAC1DSURBVHhe7d0HeBTVwsbxN5uQQKR36S2hCYIg0hEJSpf2UW3gRdSr14IKIgheFbmWqygCCtIEKQKhRnoRkNBDE5AQWoCEBAKBhGzY3fk2yYQEpARMkOH+fzz7sHtm9uyZOWcn787OzHoYbgIAAAAsxmb+DwAAAFgKQRYAAACWRJAFAACAJRFkAQAAYEkEWQAAAFgSQRYAAACWRJAFAACAJRFkAQAAYEkEWQAAAFgSQRYAAACWRJAFAACAJRFkAQAAYEkEWQAAAFgSQRYAAACWRJAFAACAJRFkAQAAYEkEWQAAAFgSQRYAAACWRJAFAACAJRFkAQAAYEkEWQAAAFhSFgdZh8JWT9NPi0J02mUWpRP7+2JNm7Zc++PNAtw97Gv0bj1/NR66QXaz6H9C3B4FjhyjJWGJZsFf5wwdqQ7+ldRndpxZcnvs6wapgX8TDQ3+Cz1iX6dBDfzVZGiwWXCVLFj+JPY176qef2MN3ZCJoylTxqhToSM7yL9SH/3F7rnnOKJ2KGjCCH36yWf6ZvJS7T17jY04APzNsjjI2rV96gca+s0yhf9pG+hU9JrvNWToeAXHsoHE3cFxeKl++OZrTV57yiz535Ipy39hm6Z/8YWmb401C2A1ifsn6YW2/6fXv5qjtZvWaMbnL6tDx4H65RTbagB3Fw4tANLxqvov/bRurcY+XcIs+d+SGcvvitulBd9/r/m740XssaJ4rRn7rdZ5ttaXS1dqQeBCrZjxuqqcDNR3Mw+a8wDA3cFzqJt5Pwtc0t4F32tF7EPq0qOBil4Rmw3FbPlZU4K91LhXR9XI6ZFS7IhSyIIpmvjTbC36dZciPO5XhTJ5lc09yXl4uSZM3aCE0g+opDl/4r4gjZ19QLmr+6mAZ1KJUyfWTdXkZVEq/GA55b3iNZ06unKSpm68pGI59itw/ETNWLBaOyKyq3SlkvI9vVVzJozXlDmLFfxHnPJV8FORHGa73Fxn92rJ1En68ef5Wha8TzG+peVfLGfKpwHnUa2cNFUbE0sq/8kgjf9hiuYu36ZwWwlVdrffS7EKmfODZm13qkzVErrPrNZ5dKUm/bhcp/I/qAr50zc2ta2JKpn/pILG/6Apc5drW7hNJSqXUV6vlHnClo3XTxsuqtQDpZS6CuN2ztW42fvkU6WSinia7bpUTDn2B2r8xBlasHqHIrKXVqWSvjq9dY4mjJ+iOYuD9UdcPlXwK6LkRXYe0YqJC3SsfEs10RpNmOB+3q97dCZnOVUsdt8Vn4AcUSGaPzl1vZ1XrrJ+KuqbNEfKMkz5LV55XVv045gftf6iv+r75XFPs+vYuhkaP2Ga5i5Zr90RNhWrUFp5kzr6mlw6u3eJpk76UT/PX6bgfTHyLe2vYjlTWpK8Hqf8pvi8Lm35cYx+XH9Rzer7JU9LHlPzJ2v8lDlaHPyHzucqK7+ivtf8FOeK2ab505fqeJ6a8i9oZKAPTBeP6bfZkzRpeqAW/7bXPTbKqIJ7bCQNSePMJs2cukm+AX3Vroq3nGHLNP6nDbpY6gGVSus0zR03W/t8qqhSEe/kIlfMLs0fP1aTA5dpyxGnCvse1vygoyrf4Wk9WsJ88ZstmytGu+aP19jJgVq25YichX11eH6QjpbvoF6P/jmsXrn8tpT1OnWjEkvm18mg8fphylwt3xYuW4nKKnPFCkji1OHlEzV18QZt2npIFzw9deHEeeWv4ac8x1Zo4oJjqtC2pXyDx2vc1Llaca16bqGvMj5GHYoKma/JqeP8fC6V9Suq5CHq3g6d2TRTUzf5KqBvO7m7J1nSmF4wZaJ+mr1Iv+6KkMf9FdztTBmcmbUduub7wnVWe5dMdW8Tftb8ZcHaF+Or0v7FlDLMM7JNSOLS6R3zNH7cZM1ZukWHHYVUJGaVprjbcn+1MspttuX671uXvPKW0cMt2qlZxXzubZf7A04eQ/sC52hX/gA9/1ip5OcDwN3gis3r3y4uRKOfaaUug6Zpx2m74g4t0X/7tFXnD1YqyiV5ZD+pNd8O0/crT5t7euzaPHWYPv/8U00LMY/pc53R6rGf6Ns1ESmB7AoOHVr2vb4c/oa6Pf2xgvZHKvrgak0c8qy6v9JffTq+oNFrj+jMqb0KGvmGuj8/Sr+b1TrCZuqVNh301qTNir7k1NmQ6Rrco5PenHcipS2OQ1r2/Vf6fNBz6vKvidpy/IyOBU/Tx3166L0lSe31leehhfr6w6+16ETqfiqHDsz5Up+MXquolL+q6aS09avPB+m5Lv/SxC3HdeZYsKZ93Ec93ltiHnPs0MHFYzRiwhoddyQ/yc3lXo2zNGLELIXEuWdKbteXGv5GNz39cZD2R0br4OqJGvJsd73Sv486vjBaa4+c0am9QRr5Rnc9P+p3pR0d6f6wsXSgnh40R7tPndbhX8drYI/OemdhhLn+3fltzzj1btNFQ2btVkxCjEKmvaduHd/WguNJc5jL8OlbeubZ9/XTmm3aczTp62a7do5+Ru16f67FBy8o8dxezRveW+16fqkt1zxO0aGwma+oTYe3NGlztC45zypk+mD16PSm5pnr0nFomb7/6lO99cyzev+nNdq252hyubuBGte7jboMmaXdMQmKCZmm97p11NsLjl9ehvSM0+51POJrzd2TdNRlRvrAvcZj1mpY1zZ67rNfFBrrfo2dMzWkRzv1nbQ/3bpM4zi4WGNGTNCatE6Tyz32Z40YoVkhKSvAFb1SQ7t2Ub/vVuhgdJT2L/xAzwxcrDNG8uQUN1s2V7RWDu2qLv2+04qD0Yrav1AfPDNQi6+o5EpXLn/qev1cg57ron9N3KLjZ44peNrH6tPjPS3504HvTsWG79GOPeG6YBi64L6/c9cRXT600jin1e72vDZpq05cq55b7KsUNxujF7VnXG+16TJEs3bHKCEmRNPe66aOby9Q8hC9hriQ0XqmVRcNmrZDp+1xOrTkv+rTtrM+WBmVXGdmbYf+9L5whGnmK23U4a1J2hx9Sc6zIZo+uIc6vTlPKcM8I+PRpahl76lL1376blmoTkfv16J/P+3eJn2sr8au0BFzyN34feuj0nVaqkWdUu57KeyhG7Q1wkcVKlcwSwDgLmFkqQvGrH9UNMo/3MUY8Nnnxuefp799Zrz/VH2jvH93Y+JJp3veS8bvI9oZFSu3NT7fcj7l6YbdODilt1HLr77Rf8U5w3AcNr7/v4pGzX8tctecNHmj8UHTKkbVqhWNZh9vdc/tdiHIeO2hisb/fX/EcCQ9vkKCsXpAXaPCA12M0b8nmGUxxpJ+9Yzy5aob3cf+4Z4jidM4Oa2XUd2vuTF8e1KtdmPTp08a9Vu+ZyyLSZ4huS3julYy/DuONg4mvVDCamNA3fKGf7OBxopTScvjdmGdMbhJBaP6y/OMpCW6tO9ro51/JaP7hHD3K7g5Dhgj2/sbDzw3zYg0n5Impa3l/ZsZA1ecSpnfvdTrBjcxKlR/2ZiXvIoSjKVv1jL8HvvY2JK88EmcRuSknoa/f09jUlKlye2qYDzQZbSRtshLjH71yhvlqnc3xv5hFjpPGtN6VTf8mg83khfZXJ6KLf5trI8xG5ew1xjTtZrh1/Tfxsakp13ab3zbsbJRrctIY09cyizOU4uM1+v5GY3eX+9uXeoyBBjvLY9w97ApuW4/o/6AVSn96HZu9UCjsV9145/zU/s+Hfsm49Mn6xst31vm7q0UjsPjjK6V/I2Oow8m93PC6gFG3fL+RsB7y42Iyy90ydj/bUejcrUuxsi0BhqLXq9n+DV631ifuj7ScRz4xmjvV9H4x6yklmWsD7YMCzD8HnzKmBCa2gnnjOAPHzf8a/zTmHf26jrdz1j6pntMP2Z8nNZphjNyktHT39/oOSnS/chubB/+uOFXtaMxYofZbnedWz5vZ1Su0NgYsiF55d902ezbhxuP+1U1Oo7YYVyuZcvnRrvKFYzGQzaYJVf6U1vN9dps4AojbVgPNppUqG68nLIC/sQZMdHo4V6W7hNPmussI/Xcel9lZIxe2v+t0bFyNaPLyD3mOnAapxa9btTza2S8n1ypwzjwTXvDr+I/jORFvvS7MaJdRaNy28+NtM3QQWNKb/f7rH5/I2kzlFnboavfF/ZNnxpP1m9pvJe2kTEOj+tqVPLvaIxO2cjcfDzatxgfN/MzKrf/r7E9pQvdnb7Z+LRtZaNCg0HGuuShc7P37ZUcxxcbAwIqG1Vaf2psTh1IAHCXuCN7ZF1x4doZvEEbNqS/BWv7kfO6vG/IcUCLl+6VV/2n9FytnGaht8p17qu2xaO0cvFm2T2Lq1EDP8VvC9YOu5S4e4XWnn5EL/R+UBFrV2mfI6lsk0Li/NWwcbHkr3WvxaPgA3qofOq+htx6sFpZeXpW0mMtypt7IGzKX8lfhRWjqOikFnrr4bfnan3QRwrIfVExJ47p8JEE5SmcS0ZMlKKdyU9ys6lIwzZqUMhcrTkqqmIpmxKio3TOJXlVaK1W1QxtX7pMJ92PneGrtGZvdtVt2UwFr9MTtiIN1aZBIXPXeQ5VrFhKtoRoRSVVmGEeKvjAQ0pb5AdVraynPCs9phaphbb8quRfWEpansudYlPhRwJUK/V7UZ9K6ta1vrKHb9JvYQ45Dy3Vkl3ZVL/bU6rimzKLrVBTtaqXW5FbNuqguffHVqSBWjcskvwVZTKPPMqbS4rdt17rQs8pafXlbvJvLd0RrC9apfZ9Ot4P6+256xX0UYByX4zRiWOHdSQhjwrnMtzNjU5+fjJbETVo3VBFUl/IeUhLl+xStvrd9FRaA9W0VT3ljtyijakNvIkb9oFjn1auPiLfhl3Vubz5vbR7TNV+7l0N7ONuS+Kt9JPJEaY16w/Ju243PV3dbLe7zgceqaZ8qXv3brpsCQpbs16HvOuq29PVdbmWBx5RtcuVZJB7vTZs00Bpw7qiStkSFB11LqUgo25Uz2331Y3GqF2Hli7Rrmz11e2pKuY6sKlQ01aqlztSWzb++XhPx4HFWrrXS/Wfek5pm6Fy6ty3rYpHrdTize4NTyZth65+X3g//Lbmrg/SRwG5dTHmhI4dPqKEPIWVy0jaDl0e5Tccj46wtdpw1EuPdH1a1e9LnsHd6dVUr3o+91YgRUbft8nituqrF99SoOMJffTtG6qdOpAA4C5hbv2zllfJ9ho2fZZmzUp/m6GvuldI28g7j+t4pFSkTFm5M06abGVVroSHzp04oViXl8o1rq+SUVsUHHpR+1b+qlMPNlPn9s1U5egarQq16/CmbYoo1UCNy16OTTfl4eHexHu4g90Va8Pm/mfISA118fs1Z0hPNa35oB4JaKOOXXrqw2Vn0qZfi80juW5DLrmS5vMsrVatH5JHyFItO+lQxMpV2uVTVy2bFchgR9iS6/Nw1+VKrvB2JbUraZE9r3xdm/uRe4FuVHOO4sVUQKeT/7A6joUrwnleS/vVVLly5cxbVfUNPCPnudM6k/a390re1fXi8AF6NGGWXn2ijmo37aS+74/X2pOGfK7zVz9+/xwN6dlUNR98RAFtOqpLzw+17MyN2+puoMIjnDq/tJ9qXm5fOVXtG+hu2zmdvm4Db+SqPnCeUsRpqUCx+90fd9J4lnhUz77cTY+kprZb4YzSqWh3nSVKKTWL/MlNl+2SolIqUanrVnJ7bEnLn7ICzJLbc0U9mdhXaWPUrmPhEXKeX6p+NdPqLFe1rwLd9Z07fcZ8Rhrn8eOKVBGVKXvFVsi9GSqnEh7ndOJErPvdnDXboaSTrPbPGaKeTWvqQXc4b9Oxi3p+uExnbryRuWI8OqOidEb5VaJkrutuUzL+vnUpauEoTdxXTM/9d7g6lL6VZQGAO+M2/spmlezK4SPZ7YlXhhMjTvEXDXlkyyYvd2u9qzRR/UKHtOm3YK1YE66qjz2qoqUD1LRimFYv36HgzQdVpH4TVU6fKv4yuzZ9+bLeDfJUp1ErFbJ7h7ZtWa+v2xe6vJcjYzxVvGUr1baFaOnS3VqxaqeyN2ippgXuom64CePiRSUom9zd4e4ML3l5FlHrj2Zo9uzZV9xmfddX1VPOjbkGm/I81Fvf/BKsdQu+1/s93OF+00i91PF5jd1/jT1v9k368uV3FeTZSaNWhmj3jm3asv5rtS90s7XvLS8vTxVp/ZFmXNW+2bO+U9/rN/AW+MjHPdYciZduHKpvhYe7Tvd74dKlq94LV7j5svmkVKLETGtYVsq8vkobox7uIeolzyKt9dGMq+qcPUvf9a1uPiOd7DncPWqX/aqVZsTF66Lh4a7TK3mjmRXbIfumL/Xyu0Hy7DRKK0N2a8e2LVr/dXvddJin4+GT3d1+h9xD5/oy/L516XRcNpWt/YSaVjG/uQGAu8zdk6CyVVS1Stl1attGhabbCLuigrXxgFT2gaope2p9aqhRvdzaE/ilgg5VUdPHisrmWVoBj1XQgaVfa9HuXKrX5MHLJylkCme4Nm85Js9aHdSrQQnzbOdLik+4lDz5VtgKP6E29bJp++yPNWu7jxq0aqp85rTb4ZOUouxJf2TNArdEd6jKLPb4uLSv7pNONgnZo9NeZeRXzh0U/CqpfLYzOnIqp6rVrKmaqbcqVVS5csnLZ0dfzXEgUMMGfKRZ+zxV2B0IOvR5T6Mm99MjF7dq8aqj6V4vhTN8s7Yc81StDr3UoIR5BvuleN109WfzU6Xy2XTmyCnlrJaufTWrqErlyip5vQbeimz+qlzeS5F7dupkuoYn7pykd14ZpqBrnVHkDpje7rCU9AHtssRE94gyeZVzt9tH0Tu3KCxdrne5P+RdfnjTZfNWuUrl5RO9U1uurESJ1/iskKlu7dNdir/QV9cfoznk514H2c4c0amc1dLVWVNVqlRW5ZK5zeekyVaxmiplP6VtG0PTnajnUlTwRh1QWT1Q1dxTm+nbIafCN2/RMc9a6tCrgUqYJ39eik9IGxcZ4FXe/Z70OaOd20LTxoq7/QnpOj3j71svVeo9RvN/elOPkGMB3KUy4S95JrEVUqtenVTy4CQNHDZfv0dd0NmwNRrV/yuty9ZEz3apYh5L5qs6jR+W1/7dOur/qJoVT/ou2lNlA5qq3L7ftMWjjho/nCN5zkzjWVClS+TSpc0zNWbJTh0M3aagEW/ok1/OyJWYIPut7PFyL2fz1g3ks3er9vg0UqvGSZeiul3ZVKl6JWWPXKkpM7YrPOKYdi0dpSETtt/SH7/rc/8BXzBcgyZv0MHjx/X7L19oyKS9yvtYJz1e0CZbkTbq9eT92v9DPw2auV0nYmN1au8v+uL5ALUfvlHX+8E2W34fRa6arE+Hjdavh8/p4oXj2rZwnQ4aeVWqdME/HVPoWbC0SuS6pM0zx2jJzoMK3RakEW98ol/OuJSYYL/+XktbEbXp9aTu3/+D+g2aqe0nYhV7aq9++eJ5BbQfro2Z8YtytsJq9VQrFdgxToNGrlJYjHsd7FmgT4b8V0HhOVXyGocWZKtU3R2WIrVyygxtD4/QsV1LNWrIBG1P7TRbfjXv0kKF9k3UwE8Wamf4CYVtmq4PvghKvnpHyjw3Wzab8jfvohaF9mniwE+0cGe4ToRt0vQPvlDQ5Uqyhi17buXK5tLxPVt08FiUMvR7J7fdVzcao14q0qaXnrx/v37oN0gzt59QbOwp7XXP83xAew2/RqW2Qq3Uq1NJHZw0UMPm/66oC2cVtmaU+n+1TtmaPKsuVVK/Xs/s7ZCnCpYuoVyXNmvmmCXaeTBU24JG6I1PftEZV6ISMriRseULUOfHC+rA5EH6ZMFOHTsRpk3Th+qLRSlXXEieJ8PvW5fObp2mL0ctvXy1AwC429w9QdYtZ4MBGvtpB2Vf0l9tH6muhwJe0OSYeuo/5jN1KZkWb3LWbaxavl6q2PQxlTKLvSo0V1M/L+Ws3UT1rnG+0F+TRy3e+VDdS4Xqu5faq/nj3TR4RR61fKKcbKePKOxPlyG6sXyPtVGTfJ4q0KSVGv95p9AtsKlwh7fUr5m31n7QSY3rN1HnQSuUv0altBOr/hJP+bcMkGv6S2rRqJHa/HOCjlV+UZ8PaWOesJNXTQeP1fAOObVmSGc1rFFDddsN0CLv9nr7udqXTzC6mq1AC73/TT89HD1RfR6rqarVG6nbl/vl3/c/GvDENVZInhZ658PuKhX6nV5q31yPdxusFXla6olyNp0+EnbNnz9OlbfpYI0d3kE51wxR54Y1VKNuOw1Y5K32bz+XSSeu2FTgifc1+v2GOvfjiwqo5V4HTw7Uylw99NW3L6vaNb5athXuoLf6NZP32g/UqXF9Nek8SCvy11Cly51mU76AQfrqzYd1Zvprat+4oZ7oM17nazdS2XQp/2bLlhRqBn31ph4+M12vtW+shk/00fjztdUofSVZIWcjdW5fWlGz/qUnmg/Usotm+U3cXl/dZIzmbarBY4erQ841GtK5oWrUqKt2AxbJu/3beu6aleZUgwFj9WmH7FrSv60eqf6QAl6YrJh6/TXmsy5KtxnK9O1Qnhbv6MPupRT63Utq3/xxdRu8QnlaPqFyttM6EnbanOsmbPnUfPBXeqP2GU1/vb2aNHxcfcadk3/1pOPwU3eVZ/R961DYsgka890sbY7J2g8/AHC7PJIuXWDev3u44hV1LEIXfQurWKGcmRTKMkOizh0/pmgVUInieW/78AVX5DQ9//jXKvTFcn0akBln4rgUd+qwTl7IrsKliil3pq8wu2LCjyvGVlCliuW+Zn+44qMUfvK8PAsUV/G8GV0zDsVGhuvUeS8VKFlC+W72tMRzOn4s5QSmjL+GKWlMhZ/Uec8CKv4X+u6GHLGKCI9WYs77VaJgjpt+SnTFndLhkxeUvXApFbtOpzkvROpIZKLylCipAtdr9M2WzXlBkUcilZinhEpet5LMlqiz4eGK9Smi4oXu+9Ne9hu6rb662Rh1KT4qXCfPuz9AFi+ujAyfpDF9LOKifAsXU6Gcd24rlHjuuFKGecbaeW1O9zbhmCIScqpYiexa/q8G6hf2jALn91PVdIty0/ety664BE/d5w7sAHA3ujuD7L3MGa21H/bUC2vqaULQUNXN5KMgAPwvi9OWL1/Vd8bTev+fTVXSx6FT675Q35d/UGy3nxQ0sHbWfIgDgL/JXXVowb0uLugdNardSL2mJ6r12y+qDiEWQKbKoRLV/XXh55fUrNbDqvdILTV6doKiavfTZ68QYgHce9gjewc5jq7T7HWRKlwrQE0q5uFTBICskRitP7ZtV+hpl/KUq6nalQsTYgHckwiyAAAAsCR2CgIAAMCSCLIAAACwJIIsAAAALIkgCwAAAEsiyAIAAMCSCLIAAACwJIIsAAAALIkgCwAAAEsiyAIAAMCSCLIAAACwJIIsAAAALIkgCwAAAEsiyAIAAMCSCLIAAACwJIIsAAAALIkgCwAAAEsiyAIAAMCSCLIAAACwJIIsAAAALIkgCwAAAEsiyAIAAMCSCLIAAACwJIIsAAAALIkgCwAAAEsiyAIAAMCSCLIAAACwJIIsAAAALIkgCwAAAEsiyAIAAMCSCLIAAACwJIIsAAAALIkgCwAAAEsiyAIAAMCSCLIAAACwJILsDcXr2I5tCot1mY8zx7GQzK8TAADgfw1B9gbsIaP1zwELFeV1ndVkj9Ce337V5rBYsyA9uyL2/KZfN4fp6qmxq/6tF7/YoDjzMQAAAG4dQfZ6XFFaOGaW7uv0jGr7mmWpHBEKnjRYPQOaqd1T/9Dg2YfkMCe5JyoieJIG9wxQs3ZP6R+DZ+tQ2sRklXt2U6mlo/XzUadZAgAAgFt19wVZl10X4uxK/8W7Iz5WsfFXpcH0kp4Te1HXioUue5xiL94gMDovKvYaz3WdWKTZwWX1RMtS8jTLUrjkilmlKXNO66E3R+iVh73McpMrRqumzNHph97UiFce1lVTk9kKN1eLar9r7rzQdAEYAAAAt+KuCLLOY5PVp+mrGj3tXT1Zv44aPFxD9V6cKfuaYWpTt6qqPNRQjerUUoOuQ7XoiBn9nAc17tmmennYZ3omoKHq16mpet1Hamvq9/Wus9o08jk1rlVbDeo2VKd3++uZR1/U9EgzIjuOa+nwp9XkoYdUv0Ft1W7+ssaHpB0EEBu8XnuK1dJDRa5eRTbZCnXV1/NGqd+TlZXHwyxOZSukrl/P06h+T6rynyamyquHa5dX6Pp1iuBQWQAAgNtyd+yRdcbrzIlVmrG2vD74ZZt27N6oyX2ry7NYY706ZoV2/L5TO7Yt0ftlftX7wxfqbNJzjEuKizmudSHeenPuRm3/9VPVPTxO45anhFH71m/17tizenL8Bvdz5+sVz60KPnlWKTt2nTowoZ8GLCuk12dv1e4dGzSxw1mNfvsbbbYnP12HQg/LUbSESl9rl2pSmDXvXYvtpmvVU0VLlZDPkVCFXjKLAAAAcEvujiCbxFZcrV54RjXyebrv51bFmpXk5ddQTYuf046VizRv0QbF3pdPiUcO6ujl7+OzqXrbHqqe2ybPwo1Uv6JDJ45FumOqQ/vXrFNE9U56tnZe2TwLqVGP1vJLPUbAEapfFoQoX7WqMnYtUeC8FQorUFGlItdq1d6Uyi/GJ8gzew55Jz/KAtmzyzshXvHmQwAAANyauyfIehZVydLpY6NTxxf2V6uA7nrv+1latGSJlu2IlCPRLsflr+Ntui9nTnMhvJUtm+RyOGS4n3v2TKyy5S2gXOYS2vLnV57UpXWeUuRpdwx2xep4eLjCk26n8uvRF7qrTsGUwwHy5sst54VYXciir/6d588rPlde5TMfAwAA4NbcPUHW3RSP9K1xhilwXJAK/HOOlsycoO/HjNF//s9PnobcQfVmPFWwYB5dio7UGTOIuiJPXb4vz/zK7061+Wt11z9ffVWvpt5eeVaPlkjZbVu6kr98j4bqYJZ89e/Q4dBDkn9V+bnDNwAAAG7dXRRkr8Ew5HQ4Uq5gEBuiST9vUWLyhJvxUoXHHlOp3TM0ZkW4LsYf1sJJixSWemkCLz81a1ZGe2ZP1ObTZrpNjNKu1ZsVbs5zX73H9Ej8Fm04mAXXFXCe0Prgk6rRtLHy3909AAAAcNe6e2OUZzl16NNKMaM7qknzFmraerCOV6gm3+tdCOAq3jVe0n/e8tfWd5urZr3eWlCknqpns8mWvMPVWzVe+kLvlFulFx9rqOYtm6l+nQC98P1mnU4Nu3kD1LPVRf0SGCLz/K904jT7hSqq4N9EwzYl6I8xnVSpQmX1nHQiZersF1Slgr+aDNukhD/GqFOlCqrcc5JOmJnZcWCuFp1oqh5tit7lnyQAAADuXh6Gm3n/rpQYc1gHjl5UnrL+KpH7yiu63orEbZ+oTd9IvbHmK7VM9wMHF6NCFXriku4rVlplCvleESxdx3/Wy71X64nJ36jDny7DdfuWD2ihCRVGavI/Klx1jVoAAABk1F0fZG+bY7/Gvvpv7bm/lirkjdeuBXN15NFvNPu9errPnAUAAADWde8GWcXryPoF+mXDAUXE+6hYjcfVqfWDKsAuUAAAgHvCPRxkAQAAcC/jXCMAAABYEkEWAAAAlkSQBQAAgCURZAEAAGBJBFkAAABYEkEWAAAAlkSQBQAAgCURZAEAAGBJBFkAAABYEkEWAAAAlkSQBQAAgCURZAEAAGBJBFkAAABYEkEWAAAAlkSQBQAAgCURZAEAAGBJBFkAAABYEkEWAAAAlkSQBQAAgCURZAEAAGBJBFkAAABYEkEWAAAAlkSQBQAAgCURZAEAAGBJBFkAAABYEkEWAAAAlkSQBQAAgCURZAEAAGBJBFkAAABYEkEWAAAAlkSQBQAAgCURZAEAAGBJBFkAAABYEkEWAAAAlnQHg6xLUdsX6Keff9Mxp1l0u+yRClm8Rvvt5uNrycg8AAAAsKw7F2SdYfr5w7c1aOBA/bD5dtKlXRHuIDx6UG+1bNBYHV8fr60XzEmXZWQeAAAA3AvuWJB1/D5PC/f4qmCeE1oyZ63izPKMip/3ugI699fkPd6qWqWoPM3y9DIyDwAAAO4NdyjI2rUtcJEOluiowX1q6tyKuVpx1pyUQd7Vemn04g1aF/itXmtUVB5meXoZmQcAAAD3hjsTZON/05zFx1WuZTs93raNatvXau7iSLnMyRnhVa6OGvnlueFe1ozMAwAAgHvDHQmy51YFavnpimrZpop8irZQm3pS8NyFf/2kLwAAAPzPyvog64rSkrlrdKFaK7Xx83K/YiE1b91APiHzNO+Aw5wJAAAAuDVZHmSdJxZp7vqLKlOlhKK3bdbmzZsVmq+iKmfbpwVzdynRnA8AAAC4FVkcZJ0KmzdPWxMc+mPKv9Sta1d1Tbr1GqHgOIcOLZqjTRfNWQEAAIBbkLVB1rFH8xbsUfZmw7R2127t3p122z6hh+6PXKrAtbHmzAAAAEDGZWmQtW8N1MKwnGrUtoWK3+crX9+0W5567dWiZIxWzFmh0y4pdttkDR0yTsExt3ItAwAAAPyvysIgG6d1cxbrRN5H1fbRvGZZOt411KZFOcWvC9QvEZcUsXGeZs6Yo/VHCbIAAAC4OQ/Dzbz/N0tUfLzk6+ttPgYAAACu7y4KsgAAAEDGZfnltwAAAICsQJAFAACAJRFkAQAAYEkEWQAAAFgSQRYAAACWRJAFAACAJRFkAQAAYEkEWQAAAFgSQRYAAACWRJAFAACAJRFkAQAAYEkEWQAAAFgSQRYAAACWRJAFAACAJRFkAQAAYEkEWQAAAFgSQRYAAACWRJAFAACAJRFkAQAAYEkehpt5Pws4FLb6Z/0W7kx56GGTl09OFSz7oOrULK3ctxmj7ZEhWrUvh5o2qSgfsyyVI2qHlixao98j7cpetKoebf2EqhX0NKcCAADgXpHFQTZOs/vU0tu/+qhI4dzycpcY9lidio7XfQ/01PAx7+uJYhlMs/YIbV8aqNmB87V4/X5dqPuR1k/qoQLm5CSO0Cl68el/a70qqXbl3Dq7d6v2q5E+mDpK3cslvToAAADuFXfk0AKvsk9pzKq1Wrt2rdZt2qr1U/+h0gen6sPRv8luznNj8Zr3eoA695+sPd5VVaXotfawxmrpN1/p1+ydNCporn4cP0XzFnyjjt6r9eU3y9xTAQAAcC/5G46R9VKhOp3V3N9DUQf2K9plFt+Qt6r1Gq3FG9Yp8NvX1Kioh1mejn2rft0Yq9KPd1GDfCmLZSvYWJ0fL6mzwb9qe8YSMwAAACzibwiykuv0Lv1+3FC+UqVlZs6b8FK5Oo3kl+f6x7q6YsN1PMam+0uXcsfeVF4qVaKoPGJO6ES8WQQAAIB7wh0Jss7ojfrxP8M0bNgwfTT4NXXvNESbS/XSx/0ek685z19lXExQgiH5eKc//csmHx9veRh2xcdnaNcvAAAALOLO7JFNjNGxAwd0wH0LPRKh85cMOS9G69SZTPy+/4bnrLmnZeEpbQAAALjz7kiQ9SzWQgPHTdCECRM0cfIMBa34UU97L9YH/cdqr8Oc6S/y8LTJ5iG5XFfueXUlJ1hPeXHRAgAAgHvK33KMrO6rqhaPlpfrj63afs4s+4tsufMqt6ehC7Gx7vCayqlz5y7IyJZbuXP+PYsKAACArPE3pbsEHT8RLSN7HuXNYRb9Vb6VVamModCdO3TBLEq6ju3uXWEyylRUpexmEQAAAO4JdyTIGgkR2rsxWMHB7tu6pZr+n39qyNwzKtm2kxomne0Vu02Thw7RuOCYlCfcDq+KatO2mhKWfaNhgXsVFRutvfM+0ciVdlVv01p+HFoAAABwT7kjQdZ5NFADn+6hHj16qGev1/TpolhVf2GExg9qotxJ0yM2at7MGZqz/mjKE26Llyr2/kwfdciuFQNa65EaddT6neXK/uRH+rS3f/KvigEAAODekcU/UZtxifHxkq9vumvA3j5HbISOnoqXb+FSKpqbCAsAAHAvumuCLAAAAHArOJUfAAAAlkSQBQAAgCURZAEAAGBJBFkAAABYEkEWAAAAlkSQBQAAgCURZAEAAGBJBFkAAABYEkEWAAAAlkSQBQAAgCURZAEAAGBJBFkAAABYEkEWAAAAlkSQBQAAgCURZAEAAGBJBFkAAABYEkEWAAAAlkSQBQAAgCURZAEAAGBJBFkAAABYkofhZt7PUvbIbVq+OFj7Iy7Ilr+cajVroUblcppTb5E9UiGr9ilH0yaq6GOWpYo/qg2/LFFw6Gk5chRV1Sat9fiDheRlTgYAAMC94Q4E2TjtnNhP//p0uaLy+KtqmVxKOL5Pe0/lUpN3Ruvr3tXka855Y3ZFbF+qwNmBmr94vfZfqKuP1k9SjwLmZDdn+AK9+9wAzY0uqho1yijbqV3aesDQQ/3GadyLD2bwdQAAAGAFWX5oQeyvw/X6sHXK2fU7LVsTpJnTZmj+quUa1y2X1v3nHX0bkmjOeWPx815XQOf+mrzHW1WrFJWnWZ7mnJZ8/qHmXgzQ54uWaObEHzR14QL9t62PNn/7leadcpnzAQAA4F6QtUHWFalFE+YqvGQ3DRnQTMW8zXLPQmry6j/UOHuoguaHKCNR1rtaL41evEHrAr/Va42KysMsv8z+uzaFxKposy56orh5IIGtiJq1qKPc9qM6dMyRUgYAAIB7QtYGWft2d7hMUOH6j6r61cey5gvQW6NG6b12Ja6xd/XPvMrVUSO/PNef16eehq7ep1//3UBpL+VS9PEIxfmUVrlSHCULAABwL8nSIOu6EKXoeA8VKFLkzydb2fLIv0FzBdQolqEgeztcp1dr5ORtKtTmKbUqxAUaAAAA7iVZm+6cLjnd/3l6ZlVUvQF7qKb1f1eB6qAh/R5VbrMYAAAA94YsDbI23xzK4SElJth1R67xlcoVocVD+uqjED/1G/m+AgqyNxYAAOBek7UJz6eUShaRjoeFKd4suswRqsCP39LAyRk72SvDXOe08b8vqf8vudR75Eg9XzWHOQEAAAD3kiwOsg8qoHERxa2bo6DjV17+ynFgkSZMXqg/LubOxGNk7do3+TW9OuGCWn/2nfrVzZvFCwgAAIC/SxbnvByq9+IbCvBZq09eGqxpwaE6ceq49q37SYPfGa99hdupT6cyyUE2dttkDR0yTsExt3u9V6fC57+rvsO3q/hTb6pL0Ujt3rlTO83bnrDozN3zCwAAgL/VHfmJ2vh9czR86H81Z8sJxSflVM9cKl23s94Y8pbaVUj66t+pP0Z3UfsRF/X8jPnq9+CNLpXl1LGxPdTsi+wamv6XvVxRmvJsQ72//pJZcKVsdQZp5U+9VZxdtAAAAPeEOxJkU7hkP31C4WcSlaNICRXLnfrrCKkSFR8v+fpeXQ4AAAD82R0MsgAAAEDm4Yt2AAAAWBJBFgAAAJZEkAUAAIAlEWQBAABgSQRZAAAAWBJBFgAAAJZEkAUAAIAlEWQBAABgSQRZAAAAWBJBFgAAAJZEkAUAAIAlEWQBAABgSQRZAAAAWBJBFgAAAJZEkAUAAIAlEWQBAABgSQRZAAAAWJD0/66Fy0JmXBiuAAAAAElFTkSuQmCC)"
      ],
      "metadata": {
        "id": "xrnwR-kBKkxl"
      }
    },
    {
      "cell_type": "markdown",
      "source": [
        "Questions ![image.png](data:image/png;base64,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)"
      ],
      "metadata": {
        "id": "XW0OjVitMq70"
      }
    },
    {
      "cell_type": "code",
      "source": [],
      "metadata": {
        "id": "uIgxReVXMDw7"
      },
      "execution_count": null,
      "outputs": []
    },
    {
      "cell_type": "code",
      "source": [
        "##Home work\n",
        "#Take input from user if it is even number print range else print in reverse order"
      ],
      "metadata": {
        "id": "958i-bdmKadV"
      },
      "execution_count": null,
      "outputs": []
    },
    {
      "cell_type": "code",
      "source": [
        "n=int(input())\n",
        "for i in range(1,11):\n",
        "  print(f\"{n} * {i} =\",n*i )"
      ],
      "metadata": {
        "colab": {
          "base_uri": "https://localhost:8080/"
        },
        "id": "-F3lqApwrWSy",
        "outputId": "766baf99-fc84-4ec5-8895-2b4cf78ed451"
      },
      "execution_count": null,
      "outputs": [
        {
          "output_type": "stream",
          "name": "stdout",
          "text": [
            "3\n",
            "3 * 1 = 3\n",
            "3 * 2 = 6\n",
            "3 * 3 = 9\n",
            "3 * 4 = 12\n",
            "3 * 5 = 15\n",
            "3 * 6 = 18\n",
            "3 * 7 = 21\n",
            "3 * 8 = 24\n",
            "3 * 9 = 27\n",
            "3 * 10 = 30\n"
          ]
        }
      ]
    },
    {
      "cell_type": "code",
      "source": [
        "n= 3\n",
        "for i in range(1,11):\n",
        "  print('3 *' ,i , '=' , n*i)"
      ],
      "metadata": {
        "colab": {
          "base_uri": "https://localhost:8080/"
        },
        "id": "_e4UF9XmsAtz",
        "outputId": "bb55019e-866e-4652-e9ee-d90f2dec32a7"
      },
      "execution_count": null,
      "outputs": [
        {
          "output_type": "stream",
          "name": "stdout",
          "text": [
            "3 * 1 = 3\n",
            "3 * 2 = 6\n",
            "3 * 3 = 9\n",
            "3 * 4 = 12\n",
            "3 * 5 = 15\n",
            "3 * 6 = 18\n",
            "3 * 7 = 21\n",
            "3 * 8 = 24\n",
            "3 * 9 = 27\n",
            "3 * 10 = 30\n"
          ]
        }
      ]
    },
    {
      "cell_type": "code",
      "source": [
        "n= int(input())\n",
        "for i in range(1,11):\n",
        "  print(n*i)"
      ],
      "metadata": {
        "colab": {
          "base_uri": "https://localhost:8080/"
        },
        "id": "MpcpxfhcsXD2",
        "outputId": "e3699856-95c2-4522-973b-4606d2f5789c"
      },
      "execution_count": null,
      "outputs": [
        {
          "output_type": "stream",
          "name": "stdout",
          "text": [
            "3\n",
            "3\n",
            "6\n",
            "9\n",
            "12\n",
            "15\n",
            "18\n",
            "21\n",
            "24\n",
            "27\n",
            "30\n"
          ]
        }
      ]
    }
  ]
}