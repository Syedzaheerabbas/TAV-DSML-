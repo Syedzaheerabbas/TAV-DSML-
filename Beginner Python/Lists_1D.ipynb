{
  "nbformat": 4,
  "nbformat_minor": 0,
  "metadata": {
    "colab": {
      "provenance": []
    },
    "kernelspec": {
      "name": "python3",
      "display_name": "Python 3"
    },
    "language_info": {
      "name": "python"
    }
  },
  "cells": [
    {
      "cell_type": "markdown",
      "source": [
        "#List"
      ],
      "metadata": {
        "id": "2sVLs0HXRnyn"
      }
    },
    {
      "cell_type": "code",
      "source": [
        "sample_list=[1,2,3,4,5]"
      ],
      "metadata": {
        "id": "DJe2Dy2sRo2G"
      },
      "execution_count": null,
      "outputs": []
    },
    {
      "cell_type": "code",
      "source": [
        "sample_list"
      ],
      "metadata": {
        "colab": {
          "base_uri": "https://localhost:8080/"
        },
        "id": "U4dUcT-wRtJC",
        "outputId": "5196213c-e58e-4362-e568-5db69f250aca"
      },
      "execution_count": null,
      "outputs": [
        {
          "output_type": "execute_result",
          "data": {
            "text/plain": [
              "[1, 2, 3, 4, 5]"
            ]
          },
          "metadata": {},
          "execution_count": 3
        }
      ]
    },
    {
      "cell_type": "code",
      "source": [
        "sample_list[3]"
      ],
      "metadata": {
        "colab": {
          "base_uri": "https://localhost:8080/"
        },
        "id": "Xx0J-iPtU_By",
        "outputId": "063b70ab-adf7-4cf4-d5d9-ec25ff95ae45"
      },
      "execution_count": null,
      "outputs": [
        {
          "output_type": "execute_result",
          "data": {
            "text/plain": [
              "4"
            ]
          },
          "metadata": {},
          "execution_count": 8
        }
      ]
    },
    {
      "cell_type": "code",
      "source": [
        "sample_list[0]"
      ],
      "metadata": {
        "colab": {
          "base_uri": "https://localhost:8080/"
        },
        "id": "wTfPlP5wVDc0",
        "outputId": "efc37c93-756b-4592-ab8f-5e2ab8febf77"
      },
      "execution_count": null,
      "outputs": [
        {
          "output_type": "execute_result",
          "data": {
            "text/plain": [
              "1"
            ]
          },
          "metadata": {},
          "execution_count": 9
        }
      ]
    },
    {
      "cell_type": "code",
      "source": [
        "len(sample_list)"
      ],
      "metadata": {
        "colab": {
          "base_uri": "https://localhost:8080/"
        },
        "id": "wPxVTxznTIr8",
        "outputId": "ab18b351-17be-4aa0-8df3-07ee5a5f6d64"
      },
      "execution_count": null,
      "outputs": [
        {
          "output_type": "execute_result",
          "data": {
            "text/plain": [
              "5"
            ]
          },
          "metadata": {},
          "execution_count": 6
        }
      ]
    },
    {
      "cell_type": "code",
      "source": [
        "virat_runs=[0,4,1,4,4,0,2,1,1,3,1,2,0,0,1,0,2,6]"
      ],
      "metadata": {
        "id": "bf4AGSO4StYc"
      },
      "execution_count": null,
      "outputs": []
    },
    {
      "cell_type": "code",
      "source": [
        "len(virat_runs)"
      ],
      "metadata": {
        "colab": {
          "base_uri": "https://localhost:8080/"
        },
        "id": "9sZAPEFpSysL",
        "outputId": "0765eef4-3baa-4dd3-8980-d7de53f33abe"
      },
      "execution_count": null,
      "outputs": [
        {
          "output_type": "execute_result",
          "data": {
            "text/plain": [
              "5"
            ]
          },
          "metadata": {},
          "execution_count": 5
        }
      ]
    },
    {
      "cell_type": "code",
      "source": [],
      "metadata": {
        "id": "uPXeeKvXRw0y"
      },
      "execution_count": null,
      "outputs": []
    },
    {
      "cell_type": "code",
      "source": [
        "my_marks"
      ],
      "metadata": {
        "colab": {
          "base_uri": "https://localhost:8080/"
        },
        "id": "wnyfUIX7ZIWR",
        "outputId": "4c968316-1258-4131-8f19-32507e1eab27"
      },
      "execution_count": null,
      "outputs": [
        {
          "output_type": "execute_result",
          "data": {
            "text/plain": [
              "[91, 90, 76, 85, 78]"
            ]
          },
          "metadata": {},
          "execution_count": 11
        }
      ]
    },
    {
      "cell_type": "markdown",
      "source": [
        "#Accessing an element in the list"
      ],
      "metadata": {
        "id": "mu7b5wRvRk6X"
      }
    },
    {
      "cell_type": "code",
      "source": [
        "virat_runs[1]"
      ],
      "metadata": {
        "colab": {
          "base_uri": "https://localhost:8080/"
        },
        "id": "Z--BrC02U3Ah",
        "outputId": "96b051d4-5a48-4ac1-f4b5-6cdb7e0eb3b5"
      },
      "execution_count": null,
      "outputs": [
        {
          "output_type": "execute_result",
          "data": {
            "text/plain": [
              "4"
            ]
          },
          "metadata": {},
          "execution_count": 7
        }
      ]
    },
    {
      "cell_type": "code",
      "source": [
        "virat_runs[0]"
      ],
      "metadata": {
        "colab": {
          "base_uri": "https://localhost:8080/"
        },
        "id": "jukRl8XvVVyr",
        "outputId": "2141f543-2f29-4ff4-d399-a8ef9e946f40"
      },
      "execution_count": null,
      "outputs": [
        {
          "output_type": "execute_result",
          "data": {
            "text/plain": [
              "0"
            ]
          },
          "metadata": {},
          "execution_count": 11
        }
      ]
    },
    {
      "cell_type": "code",
      "source": [
        "virat_runs[len(virat_runs)-1]"
      ],
      "metadata": {
        "colab": {
          "base_uri": "https://localhost:8080/"
        },
        "id": "Y13aBwgsVdEv",
        "outputId": "d26cb133-c898-49eb-a102-bad6fbac0022"
      },
      "execution_count": null,
      "outputs": [
        {
          "output_type": "execute_result",
          "data": {
            "text/plain": [
              "6"
            ]
          },
          "metadata": {},
          "execution_count": 12
        }
      ]
    },
    {
      "cell_type": "code",
      "source": [
        "sample_list=[1,2,3,4,5]"
      ],
      "metadata": {
        "id": "dQqtb-T8VtSj"
      },
      "execution_count": null,
      "outputs": []
    },
    {
      "cell_type": "code",
      "source": [
        "len(sample_list)"
      ],
      "metadata": {
        "colab": {
          "base_uri": "https://localhost:8080/"
        },
        "id": "mEL9EnA9VtUb",
        "outputId": "1408066b-2098-4f3e-9460-4ebce50daa73"
      },
      "execution_count": null,
      "outputs": [
        {
          "output_type": "execute_result",
          "data": {
            "text/plain": [
              "5"
            ]
          },
          "metadata": {},
          "execution_count": 14
        }
      ]
    },
    {
      "cell_type": "code",
      "source": [
        "my_marks[-1]"
      ],
      "metadata": {
        "colab": {
          "base_uri": "https://localhost:8080/"
        },
        "id": "AbBd0ghya4Pq",
        "outputId": "067d18cf-2b57-4cfd-cea1-18590c8f829b"
      },
      "execution_count": null,
      "outputs": [
        {
          "output_type": "execute_result",
          "data": {
            "text/plain": [
              "78"
            ]
          },
          "metadata": {},
          "execution_count": 13
        }
      ]
    },
    {
      "cell_type": "code",
      "source": [
        "# To access last element in the list\n",
        "sample_list[len(sample_list)-1]"
      ],
      "metadata": {
        "colab": {
          "base_uri": "https://localhost:8080/"
        },
        "id": "v2LDZCDlV3Au",
        "outputId": "abf3887c-40fb-43de-ca26-ad5d4ed5556e"
      },
      "execution_count": null,
      "outputs": [
        {
          "output_type": "execute_result",
          "data": {
            "text/plain": [
              "5"
            ]
          },
          "metadata": {},
          "execution_count": 15
        }
      ]
    },
    {
      "cell_type": "code",
      "source": [
        "my_marks=[91,90,76,85,78]"
      ],
      "metadata": {
        "id": "gO_phlIzb3On"
      },
      "execution_count": null,
      "outputs": []
    },
    {
      "cell_type": "code",
      "source": [
        "len(my_marks)"
      ],
      "metadata": {
        "colab": {
          "base_uri": "https://localhost:8080/"
        },
        "id": "6TIFZr4RZK1i",
        "outputId": "2bc8e093-f96c-4759-ba58-a03c70f96d17"
      },
      "execution_count": null,
      "outputs": [
        {
          "output_type": "execute_result",
          "data": {
            "text/plain": [
              "5"
            ]
          },
          "metadata": {},
          "execution_count": 12
        }
      ]
    },
    {
      "cell_type": "code",
      "source": [
        "my_marks[-3]"
      ],
      "metadata": {
        "colab": {
          "base_uri": "https://localhost:8080/"
        },
        "id": "1iH2ufUybMVf",
        "outputId": "80104e35-44f9-48b4-d692-e13f27afc51d"
      },
      "execution_count": null,
      "outputs": [
        {
          "output_type": "execute_result",
          "data": {
            "text/plain": [
              "76"
            ]
          },
          "metadata": {},
          "execution_count": 14
        }
      ]
    },
    {
      "cell_type": "code",
      "source": [
        "type(my_marks)"
      ],
      "metadata": {
        "colab": {
          "base_uri": "https://localhost:8080/"
        },
        "id": "HWpdmd3rbVTD",
        "outputId": "dbc1d1fb-a1af-45a3-e6c9-13fc0ad6e8ed"
      },
      "execution_count": null,
      "outputs": [
        {
          "output_type": "execute_result",
          "data": {
            "text/plain": [
              "list"
            ]
          },
          "metadata": {},
          "execution_count": 15
        }
      ]
    },
    {
      "cell_type": "code",
      "source": [
        "a=[1,2,3,'Hi',4.0,True]"
      ],
      "metadata": {
        "id": "IypfW7aybYcQ"
      },
      "execution_count": null,
      "outputs": []
    },
    {
      "cell_type": "code",
      "source": [
        "type(a)"
      ],
      "metadata": {
        "colab": {
          "base_uri": "https://localhost:8080/"
        },
        "id": "EI9zSy6hbflx",
        "outputId": "7b4160c6-2a76-4021-a76b-f17a563b0f97"
      },
      "execution_count": null,
      "outputs": [
        {
          "output_type": "execute_result",
          "data": {
            "text/plain": [
              "list"
            ]
          },
          "metadata": {},
          "execution_count": 25
        }
      ]
    },
    {
      "cell_type": "code",
      "source": [
        "a[-1]"
      ],
      "metadata": {
        "colab": {
          "base_uri": "https://localhost:8080/"
        },
        "id": "OBnVeXXibiN8",
        "outputId": "b679170c-b68b-4541-fb30-c3f15407af7b"
      },
      "execution_count": null,
      "outputs": [
        {
          "output_type": "execute_result",
          "data": {
            "text/plain": [
              "True"
            ]
          },
          "metadata": {},
          "execution_count": 27
        }
      ]
    },
    {
      "cell_type": "markdown",
      "source": [
        "#Modifying an element of the list"
      ],
      "metadata": {
        "id": "Kza-0y76T_0e"
      }
    },
    {
      "cell_type": "code",
      "source": [
        "my_marks[2]=81"
      ],
      "metadata": {
        "id": "rUpjY7oJcPQ6"
      },
      "execution_count": null,
      "outputs": []
    },
    {
      "cell_type": "code",
      "source": [
        "my_marks"
      ],
      "metadata": {
        "colab": {
          "base_uri": "https://localhost:8080/"
        },
        "id": "4472KhORcYim",
        "outputId": "3211bd07-e70f-4e9c-c28d-7972eb4f2d79"
      },
      "execution_count": null,
      "outputs": [
        {
          "output_type": "execute_result",
          "data": {
            "text/plain": [
              "[91, 90, 81, 85, 78]"
            ]
          },
          "metadata": {},
          "execution_count": 31
        }
      ]
    },
    {
      "cell_type": "code",
      "source": [
        "a"
      ],
      "metadata": {
        "colab": {
          "base_uri": "https://localhost:8080/"
        },
        "id": "2joRbCPIcccH",
        "outputId": "19d833c2-2d50-484f-e8a7-461f858058fb"
      },
      "execution_count": null,
      "outputs": [
        {
          "output_type": "execute_result",
          "data": {
            "text/plain": [
              "[1, 2, 3, 'Hi', 4.0, True]"
            ]
          },
          "metadata": {},
          "execution_count": 32
        }
      ]
    },
    {
      "cell_type": "code",
      "source": [
        "a[-3]='Bye'\n",
        "print(a)"
      ],
      "metadata": {
        "colab": {
          "base_uri": "https://localhost:8080/"
        },
        "id": "9nmG1s7Gcea5",
        "outputId": "f7a4235e-65d4-4fe6-daec-65e43380c609"
      },
      "execution_count": null,
      "outputs": [
        {
          "output_type": "stream",
          "name": "stdout",
          "text": [
            "[1, 2, 3, 'Bye', 4.0, True]\n"
          ]
        }
      ]
    },
    {
      "cell_type": "markdown",
      "source": [
        "#Iterating over a list"
      ],
      "metadata": {
        "id": "ghTkhNIiSPNW"
      }
    },
    {
      "cell_type": "code",
      "source": [
        "my_marks"
      ],
      "metadata": {
        "colab": {
          "base_uri": "https://localhost:8080/"
        },
        "id": "YGqbyOWDco7P",
        "outputId": "21ba9e82-540d-4af6-e724-18b58f8f8d10"
      },
      "execution_count": null,
      "outputs": [
        {
          "output_type": "execute_result",
          "data": {
            "text/plain": [
              "[91, 90, 81, 85, 78]"
            ]
          },
          "metadata": {},
          "execution_count": 35
        }
      ]
    },
    {
      "cell_type": "code",
      "source": [
        "for i in my_marks:\n",
        "  print(i)"
      ],
      "metadata": {
        "colab": {
          "base_uri": "https://localhost:8080/"
        },
        "id": "tz4-s6cucrgZ",
        "outputId": "02622f1e-63bd-4999-ca17-2b07617d3e5c"
      },
      "execution_count": null,
      "outputs": [
        {
          "output_type": "stream",
          "name": "stdout",
          "text": [
            "91\n",
            "90\n",
            "81\n",
            "85\n",
            "78\n"
          ]
        }
      ]
    },
    {
      "cell_type": "code",
      "source": [
        "#Increase the each value in the list by 1\n",
        "for i in my_marks:\n",
        "  print(i+1)"
      ],
      "metadata": {
        "colab": {
          "base_uri": "https://localhost:8080/"
        },
        "id": "e-MyTcXScy3n",
        "outputId": "89e211b7-8964-40b5-d58a-e8b691093981"
      },
      "execution_count": null,
      "outputs": [
        {
          "output_type": "stream",
          "name": "stdout",
          "text": [
            "92\n",
            "91\n",
            "82\n",
            "86\n",
            "79\n"
          ]
        }
      ]
    },
    {
      "cell_type": "code",
      "source": [
        "for i in my_marks:\n",
        "  print(i//2)"
      ],
      "metadata": {
        "colab": {
          "base_uri": "https://localhost:8080/"
        },
        "id": "QeNOhFZadSr6",
        "outputId": "3360d1c5-6837-4568-eb38-f9275d945951"
      },
      "execution_count": null,
      "outputs": [
        {
          "output_type": "stream",
          "name": "stdout",
          "text": [
            "45\n",
            "45\n",
            "40\n",
            "42\n",
            "39\n"
          ]
        }
      ]
    },
    {
      "cell_type": "code",
      "source": [
        "#Method 1\n",
        "for i in range(len(my_marks)):\n",
        "  print(my_marks[i])"
      ],
      "metadata": {
        "colab": {
          "base_uri": "https://localhost:8080/"
        },
        "id": "e_scEkeAhGqC",
        "outputId": "71c20392-60aa-4208-ccbb-e60338d4e539"
      },
      "execution_count": null,
      "outputs": [
        {
          "output_type": "stream",
          "name": "stdout",
          "text": [
            "91\n",
            "90\n",
            "76\n",
            "85\n",
            "78\n"
          ]
        }
      ]
    },
    {
      "cell_type": "code",
      "source": [
        "#Method 2\n",
        "for i in my_marks:\n",
        "  print(i)"
      ],
      "metadata": {
        "colab": {
          "base_uri": "https://localhost:8080/"
        },
        "id": "qrwb1Gx7hOr6",
        "outputId": "6a4b9bd5-a9c1-4fd2-8d00-601458bf893f"
      },
      "execution_count": null,
      "outputs": [
        {
          "output_type": "stream",
          "name": "stdout",
          "text": [
            "91\n",
            "90\n",
            "76\n",
            "85\n",
            "78\n"
          ]
        }
      ]
    },
    {
      "cell_type": "markdown",
      "source": [
        "#Modifying existing elements in the list"
      ],
      "metadata": {
        "id": "qxSGRgwkSR-F"
      }
    },
    {
      "cell_type": "markdown",
      "source": [
        "## Expansion  of list\n",
        "- Append\n",
        "(Adding anelement at the end)\n",
        "\n",
        "- Extend (Extending a list with multiple elements)\n",
        "- insert (insert a new element into the left-most position of a list)\n",
        "\n",
        "##Shrinking of list\n",
        "- Pop (Popping out the last element , Popping an element, if you know the index)\n",
        "- remove (Removing an element whose 'value' you know)"
      ],
      "metadata": {
        "id": "VTGJg9JdSsU1"
      }
    },
    {
      "cell_type": "code",
      "source": [
        "a=[1,2,3,4,5]"
      ],
      "metadata": {
        "id": "1hq0CgmcmJ1h"
      },
      "execution_count": null,
      "outputs": []
    },
    {
      "cell_type": "code",
      "source": [
        "a.append(7)\n",
        "print(a)"
      ],
      "metadata": {
        "colab": {
          "base_uri": "https://localhost:8080/"
        },
        "id": "Kp5JE78hmMrT",
        "outputId": "03164717-ed1e-4cea-e881-f2ec6a6d64cd"
      },
      "execution_count": null,
      "outputs": [
        {
          "output_type": "stream",
          "name": "stdout",
          "text": [
            "[1, 2, 3, 4, 5, 6, 6, 6, 7]\n"
          ]
        }
      ]
    },
    {
      "cell_type": "code",
      "source": [
        "a.insert(0,0)"
      ],
      "metadata": {
        "id": "GZZ-FuxhmifJ"
      },
      "execution_count": null,
      "outputs": []
    },
    {
      "cell_type": "code",
      "source": [
        "a"
      ],
      "metadata": {
        "colab": {
          "base_uri": "https://localhost:8080/"
        },
        "id": "J0bhV_UKmtkZ",
        "outputId": "5d890152-a246-4a03-cfc7-f11f4de7bf61"
      },
      "execution_count": null,
      "outputs": [
        {
          "output_type": "execute_result",
          "data": {
            "text/plain": [
              "[0, 1, 2, 3, 4, 5, 6, 6, 6, 7]"
            ]
          },
          "metadata": {},
          "execution_count": 64
        }
      ]
    },
    {
      "cell_type": "code",
      "source": [
        "a.insert(3,'HI')"
      ],
      "metadata": {
        "id": "sXcyOiG4mvlZ"
      },
      "execution_count": null,
      "outputs": []
    },
    {
      "cell_type": "code",
      "source": [
        "a"
      ],
      "metadata": {
        "colab": {
          "base_uri": "https://localhost:8080/"
        },
        "id": "Lg5sda_rm0sB",
        "outputId": "015cfa75-ab29-4bbd-9eb8-0e82aefed099"
      },
      "execution_count": null,
      "outputs": [
        {
          "output_type": "execute_result",
          "data": {
            "text/plain": [
              "[0, 1, 2, 'HI', 3, 4, 5, 6, 6, 6, 7]"
            ]
          },
          "metadata": {},
          "execution_count": 66
        }
      ]
    },
    {
      "cell_type": "code",
      "source": [
        "x=[1,2,3]\n",
        "y=[4,5,6]"
      ],
      "metadata": {
        "id": "bxWzqfolnVfD"
      },
      "execution_count": null,
      "outputs": []
    },
    {
      "cell_type": "code",
      "source": [
        "x.extend(y)"
      ],
      "metadata": {
        "id": "VTmZJX6anbfr"
      },
      "execution_count": null,
      "outputs": []
    },
    {
      "cell_type": "code",
      "source": [
        "x"
      ],
      "metadata": {
        "colab": {
          "base_uri": "https://localhost:8080/"
        },
        "id": "stdnCDxPng_m",
        "outputId": "0f055f52-a218-4895-80bf-546d0962fc4d"
      },
      "execution_count": null,
      "outputs": [
        {
          "output_type": "execute_result",
          "data": {
            "text/plain": [
              "[1, 2, 3, 4, 5, 6]"
            ]
          },
          "metadata": {},
          "execution_count": 69
        }
      ]
    },
    {
      "cell_type": "code",
      "source": [
        "a=[1,2,3,4]"
      ],
      "metadata": {
        "id": "SRZLy51eoPEe"
      },
      "execution_count": null,
      "outputs": []
    },
    {
      "cell_type": "markdown",
      "source": [
        "###Shrinkage of list"
      ],
      "metadata": {
        "id": "UgUJuuNTitqw"
      }
    },
    {
      "cell_type": "code",
      "source": [
        "a.pop()"
      ],
      "metadata": {
        "colab": {
          "base_uri": "https://localhost:8080/"
        },
        "id": "aAZLcNb2oR43",
        "outputId": "3444ee45-c424-406a-cdfe-ee3209891ae6"
      },
      "execution_count": null,
      "outputs": [
        {
          "output_type": "execute_result",
          "data": {
            "text/plain": [
              "4"
            ]
          },
          "metadata": {},
          "execution_count": 73
        }
      ]
    },
    {
      "cell_type": "code",
      "source": [
        "a"
      ],
      "metadata": {
        "colab": {
          "base_uri": "https://localhost:8080/"
        },
        "id": "PPYmcv7UoUdw",
        "outputId": "4bffe5d9-985b-4753-8255-e0eb7cf76459"
      },
      "execution_count": null,
      "outputs": [
        {
          "output_type": "execute_result",
          "data": {
            "text/plain": [
              "[1, 2, 3]"
            ]
          },
          "metadata": {},
          "execution_count": 74
        }
      ]
    },
    {
      "cell_type": "code",
      "source": [
        "a.pop(1)"
      ],
      "metadata": {
        "colab": {
          "base_uri": "https://localhost:8080/"
        },
        "id": "MBMlGnDroWQ6",
        "outputId": "a58910c4-b585-46d2-ac3f-882e17945a6f"
      },
      "execution_count": null,
      "outputs": [
        {
          "output_type": "execute_result",
          "data": {
            "text/plain": [
              "2"
            ]
          },
          "metadata": {},
          "execution_count": 75
        }
      ]
    },
    {
      "cell_type": "code",
      "source": [
        "a"
      ],
      "metadata": {
        "colab": {
          "base_uri": "https://localhost:8080/"
        },
        "id": "em2wSAXCocpX",
        "outputId": "c8c44e46-fe12-4301-e7cc-9bc01472b413"
      },
      "execution_count": null,
      "outputs": [
        {
          "output_type": "execute_result",
          "data": {
            "text/plain": [
              "[1, 3]"
            ]
          },
          "metadata": {},
          "execution_count": 76
        }
      ]
    },
    {
      "cell_type": "code",
      "source": [
        "a.remove(3) #Direct value"
      ],
      "metadata": {
        "id": "FuEfe_Y4ojNf"
      },
      "execution_count": null,
      "outputs": []
    },
    {
      "cell_type": "code",
      "source": [
        "a"
      ],
      "metadata": {
        "colab": {
          "base_uri": "https://localhost:8080/"
        },
        "id": "jP6butgaomPs",
        "outputId": "2d6bf4e8-ee1b-47b8-903c-5ea54ef624fe"
      },
      "execution_count": null,
      "outputs": [
        {
          "output_type": "execute_result",
          "data": {
            "text/plain": [
              "[1]"
            ]
          },
          "metadata": {},
          "execution_count": 78
        }
      ]
    },
    {
      "cell_type": "code",
      "source": [
        "b=[1,2,2,3,4]"
      ],
      "metadata": {
        "id": "gAawnfUFooQm"
      },
      "execution_count": null,
      "outputs": []
    },
    {
      "cell_type": "code",
      "source": [
        "b.remove(2)"
      ],
      "metadata": {
        "id": "F_VYrBs0orfT"
      },
      "execution_count": null,
      "outputs": []
    },
    {
      "cell_type": "code",
      "source": [
        "b"
      ],
      "metadata": {
        "colab": {
          "base_uri": "https://localhost:8080/"
        },
        "id": "DdsbKWPKotdR",
        "outputId": "367c381a-6c3f-4b98-ccff-928ae4fd50e1"
      },
      "execution_count": null,
      "outputs": [
        {
          "output_type": "execute_result",
          "data": {
            "text/plain": [
              "[1, 2, 3, 4]"
            ]
          },
          "metadata": {},
          "execution_count": 81
        }
      ]
    },
    {
      "cell_type": "code",
      "source": [
        "#Home work\n",
        "#understand delete function"
      ],
      "metadata": {
        "colab": {
          "base_uri": "https://localhost:8080/",
          "height": 109
        },
        "id": "o4PJgtOvoxyA",
        "outputId": "9bfd5bf4-88d2-49af-c3e5-30a8e0480e81"
      },
      "execution_count": null,
      "outputs": [
        {
          "output_type": "error",
          "ename": "SyntaxError",
          "evalue": "invalid syntax (<ipython-input-83-5f2bd3935846>, line 1)",
          "traceback": [
            "\u001b[0;36m  File \u001b[0;32m\"<ipython-input-83-5f2bd3935846>\"\u001b[0;36m, line \u001b[0;32m1\u001b[0m\n\u001b[0;31m    b.del[1:2]\u001b[0m\n\u001b[0m      ^\u001b[0m\n\u001b[0;31mSyntaxError\u001b[0m\u001b[0;31m:\u001b[0m invalid syntax\n"
          ]
        }
      ]
    },
    {
      "cell_type": "code",
      "source": [
        "a=[12,13,14,15]"
      ],
      "metadata": {
        "id": "rck9jQwNjGbJ"
      },
      "execution_count": null,
      "outputs": []
    },
    {
      "cell_type": "code",
      "source": [
        "del a[2]"
      ],
      "metadata": {
        "id": "jA07gnUKjLp-"
      },
      "execution_count": null,
      "outputs": []
    },
    {
      "cell_type": "code",
      "source": [
        "a"
      ],
      "metadata": {
        "colab": {
          "base_uri": "https://localhost:8080/"
        },
        "id": "azMksf_JjRMV",
        "outputId": "317aeafc-af90-497c-ef3f-78bb422d575a"
      },
      "execution_count": null,
      "outputs": [
        {
          "output_type": "execute_result",
          "data": {
            "text/plain": [
              "[12, 13, 15]"
            ]
          },
          "metadata": {},
          "execution_count": 3
        }
      ]
    },
    {
      "cell_type": "code",
      "source": [
        "#Difference between delete, pop and remove"
      ],
      "metadata": {
        "id": "ppJZl5DujWOi"
      },
      "execution_count": null,
      "outputs": []
    },
    {
      "cell_type": "markdown",
      "source": [
        "#Quiz"
      ],
      "metadata": {
        "id": "EaYbPmCYRywT"
      }
    },
    {
      "cell_type": "code",
      "source": [
        "#average marks in the last 3 subjects for this student\n",
        "my_marks = [91,90,76,85,78]\n",
        "sum=(my_marks[-1]+my_marks[-2]+my_marks[-3])\n",
        "avg=sum/3\n",
        "print(avg)"
      ],
      "metadata": {
        "colab": {
          "base_uri": "https://localhost:8080/"
        },
        "id": "XwjqRx8hR1QY",
        "outputId": "0a8dee1a-2f00-46da-b7db-221589739f6b"
      },
      "execution_count": null,
      "outputs": [
        {
          "output_type": "stream",
          "name": "stdout",
          "text": [
            "79.66666666666667\n"
          ]
        }
      ]
    },
    {
      "cell_type": "code",
      "source": [
        "#Accessing ALL elements using a for loop\n",
        "for i in range(len(my_marks)):\n",
        "  print(my_marks[i])"
      ],
      "metadata": {
        "colab": {
          "base_uri": "https://localhost:8080/"
        },
        "id": "tHUOMAGyR2HE",
        "outputId": "2a4b0f39-dedb-40f7-cd9a-cb2eff0ee1dc"
      },
      "execution_count": null,
      "outputs": [
        {
          "output_type": "stream",
          "name": "stdout",
          "text": [
            "91\n",
            "90\n",
            "76\n",
            "85\n",
            "78\n"
          ]
        }
      ]
    },
    {
      "cell_type": "code",
      "source": [
        "#write code to find average marks\n",
        "my_marks = [91,90,76,85,78]\n",
        "sum =0\n",
        "for i in my_marks:\n",
        "  sum=sum + i\n",
        "print('Total sum is - ',sum)\n",
        "average = sum/ len(my_marks)\n",
        "print('Average marks are -', average)"
      ],
      "metadata": {
        "colab": {
          "base_uri": "https://localhost:8080/"
        },
        "id": "UiM7EJimSESx",
        "outputId": "05ee071b-da62-4b15-b3cb-00d53172c075"
      },
      "execution_count": null,
      "outputs": [
        {
          "output_type": "stream",
          "name": "stdout",
          "text": [
            "Total sum is -  420\n",
            "Average marks are - 84.0\n"
          ]
        }
      ]
    },
    {
      "cell_type": "code",
      "source": [
        "\n",
        "#print only the even numbers in My marks list\n",
        "my_marks = [91,90,76,85,78]\n",
        "for i in my_marks:\n",
        "  if i%2==0:\n",
        "    print(i)\n"
      ],
      "metadata": {
        "colab": {
          "base_uri": "https://localhost:8080/"
        },
        "id": "XzoM7ozvSFBL",
        "outputId": "8583f000-9084-4512-a71f-e4b677e03187"
      },
      "execution_count": null,
      "outputs": [
        {
          "output_type": "stream",
          "name": "stdout",
          "text": [
            "90\n",
            "76\n",
            "78\n"
          ]
        }
      ]
    },
    {
      "cell_type": "code",
      "source": [
        "#given an integer list,\n",
        "#print only the numbers at even positions\n",
        "a=[10,11,12,13,14,15,16]\n",
        "for i in range(0,len(a),2):\n",
        "  print(a[i])"
      ],
      "metadata": {
        "id": "tSdGzAhhSK4y",
        "colab": {
          "base_uri": "https://localhost:8080/"
        },
        "outputId": "6e233fbb-32c8-416a-b7f8-762caaeb4d38"
      },
      "execution_count": null,
      "outputs": [
        {
          "output_type": "stream",
          "name": "stdout",
          "text": [
            "10\n",
            "12\n",
            "14\n",
            "16\n"
          ]
        }
      ]
    },
    {
      "cell_type": "code",
      "source": [
        "#Given a list of all runs by Virat Kohli, create a new list of odd runs .\n",
        "#virat_runs=[0,3,100,56,71,89,96,51,88,11]\n",
        "virat_runs=[0,3,100,56,71,89,96,51,88,11]\n",
        "result= []\n",
        "for i in virat_runs:\n",
        "  if i%2!=0:\n",
        "    result.append(i)\n",
        "print(result)"
      ],
      "metadata": {
        "colab": {
          "base_uri": "https://localhost:8080/"
        },
        "id": "r_ONJkljdT4E",
        "outputId": "5001d131-cb37-4235-a2cd-0da9e3ffda29"
      },
      "execution_count": null,
      "outputs": [
        {
          "output_type": "stream",
          "name": "stdout",
          "text": [
            "[3, 71, 89, 51, 11]\n"
          ]
        }
      ]
    },
    {
      "cell_type": "code",
      "source": [
        "for i in range(len(virat_runs)):\n",
        "  print(i,'--->', virat_runs[i])"
      ],
      "metadata": {
        "colab": {
          "base_uri": "https://localhost:8080/"
        },
        "id": "97buKBLGnBMr",
        "outputId": "7f14f553-7684-4c8d-cacb-e37f3fbd8401"
      },
      "execution_count": null,
      "outputs": [
        {
          "output_type": "stream",
          "name": "stdout",
          "text": [
            "0 ---> 0\n",
            "1 ---> 3\n",
            "2 ---> 100\n",
            "3 ---> 56\n",
            "4 ---> 71\n",
            "5 ---> 89\n",
            "6 ---> 96\n",
            "7 ---> 51\n",
            "8 ---> 88\n",
            "9 ---> 11\n"
          ]
        }
      ]
    },
    {
      "cell_type": "markdown",
      "source": [
        "##Question-4\n",
        "Rotate a list by 1 element (last element should be removed and added to the start).\n",
        "\n",
        "[1, 2, 3, 4, 5]  ⇒  [5, 1, 2, 3, 4]"
      ],
      "metadata": {
        "id": "e_BcrBZ2ejD0"
      }
    },
    {
      "cell_type": "code",
      "source": [
        "a=[1,2,3,4,5]\n",
        "last_element=a[-1:-2:-1]\n",
        "new_a=a[:len(a)-1]\n",
        "last_element.extend(new_a)\n",
        "print(last_element)"
      ],
      "metadata": {
        "colab": {
          "base_uri": "https://localhost:8080/"
        },
        "id": "D3q2uSmbtKsY",
        "outputId": "54700a7d-a359-4678-a2f9-738a664b163a"
      },
      "execution_count": null,
      "outputs": [
        {
          "output_type": "stream",
          "name": "stdout",
          "text": [
            "[5, 1, 2, 3, 4]\n"
          ]
        }
      ]
    },
    {
      "cell_type": "code",
      "source": [
        "''' **Question-5**\n",
        "Write a program to reverse a list.'''\n",
        "a=[1,2,3,4,5]\n",
        "a[::-1]"
      ],
      "metadata": {
        "id": "bCTgOM2seq60"
      },
      "execution_count": null,
      "outputs": []
    },
    {
      "cell_type": "code",
      "source": [
        "'''\n",
        "Question 6 -\n",
        "Given a list of all runs,\n",
        "make a new list of runs made in reverse order.\n",
        "'''"
      ],
      "metadata": {
        "id": "FfZBGK4pfCrP"
      },
      "execution_count": null,
      "outputs": []
    },
    {
      "cell_type": "code",
      "source": [
        "'''\n",
        "Question 7 -\n",
        "a = [10,20,30,40,50,60,70,80,90,100]\n",
        "\n",
        "1. a[3:5]\n",
        "2. a[:8]\n",
        "3. a[:]\n",
        "4. a[7:]\n",
        "5. a[-2:-5:-1]\n",
        "6. a[-2:-7]\n",
        "7. a[:-5]\n",
        "8. a[-2:]\n",
        "9. a[-8:5]\n",
        "10. a[-8:5:-1]\n",
        "'''"
      ],
      "metadata": {
        "id": "Oek0GArtfO8L"
      },
      "execution_count": null,
      "outputs": []
    },
    {
      "cell_type": "markdown",
      "source": [
        "#List Slicing"
      ],
      "metadata": {
        "id": "13dghhGBUU3o"
      }
    },
    {
      "cell_type": "code",
      "source": [
        "virat_runs=[0,3,100,56,71,89,96,51,88,11]\n",
        "\n",
        "virat_runs[2:3]"
      ],
      "metadata": {
        "colab": {
          "base_uri": "https://localhost:8080/"
        },
        "id": "xZxaVQRmoukn",
        "outputId": "bac55b0a-a8bd-4ccc-aa52-fdca56aa884b"
      },
      "execution_count": null,
      "outputs": [
        {
          "output_type": "execute_result",
          "data": {
            "text/plain": [
              "[100]"
            ]
          },
          "metadata": {},
          "execution_count": 11
        }
      ]
    },
    {
      "cell_type": "code",
      "source": [
        "virat_runs=[0,3,100,56,71,89,96,51,88,11]\n",
        "virat_runs[1:5]"
      ],
      "metadata": {
        "colab": {
          "base_uri": "https://localhost:8080/"
        },
        "id": "1Ss11uwvo2Nq",
        "outputId": "32ab6c35-243d-47ed-c3c8-49b6ec4ad414"
      },
      "execution_count": null,
      "outputs": [
        {
          "output_type": "execute_result",
          "data": {
            "text/plain": [
              "[3, 100, 56, 71]"
            ]
          },
          "metadata": {},
          "execution_count": 12
        }
      ]
    },
    {
      "cell_type": "code",
      "source": [
        "marks=[98,86,72,63,98,71,89]"
      ],
      "metadata": {
        "id": "FGFtDcCRrA07"
      },
      "execution_count": null,
      "outputs": []
    },
    {
      "cell_type": "code",
      "source": [
        "marks[0:len(marks)]"
      ],
      "metadata": {
        "colab": {
          "base_uri": "https://localhost:8080/"
        },
        "id": "Lyk9JX2jrI6z",
        "outputId": "6735d370-60c6-4d98-a67d-c45dcaa80590"
      },
      "execution_count": null,
      "outputs": [
        {
          "output_type": "execute_result",
          "data": {
            "text/plain": [
              "[98, 86, 72, 63, 98, 71, 89]"
            ]
          },
          "metadata": {},
          "execution_count": 14
        }
      ]
    },
    {
      "cell_type": "code",
      "source": [
        "marks[:len(marks)]"
      ],
      "metadata": {
        "colab": {
          "base_uri": "https://localhost:8080/"
        },
        "id": "sSjmdJN1rQcq",
        "outputId": "352c5441-3b52-4cf7-bd8a-8f9ad32ae895"
      },
      "execution_count": null,
      "outputs": [
        {
          "output_type": "execute_result",
          "data": {
            "text/plain": [
              "[98, 86, 72, 63, 98, 71, 89]"
            ]
          },
          "metadata": {},
          "execution_count": 15
        }
      ]
    },
    {
      "cell_type": "code",
      "source": [
        "marks[0:]"
      ],
      "metadata": {
        "colab": {
          "base_uri": "https://localhost:8080/"
        },
        "id": "-dtPj7BerUBF",
        "outputId": "b676d619-ec21-4c78-a64b-ad45eda681ba"
      },
      "execution_count": null,
      "outputs": [
        {
          "output_type": "execute_result",
          "data": {
            "text/plain": [
              "[98, 86, 72, 63, 98, 71, 89]"
            ]
          },
          "metadata": {},
          "execution_count": 16
        }
      ]
    },
    {
      "cell_type": "code",
      "source": [
        "marks[:3]"
      ],
      "metadata": {
        "colab": {
          "base_uri": "https://localhost:8080/"
        },
        "id": "GhlgVHTyrXg7",
        "outputId": "e06a1492-b518-44e0-97a3-9cbb7d324886"
      },
      "execution_count": null,
      "outputs": [
        {
          "output_type": "execute_result",
          "data": {
            "text/plain": [
              "[98, 86, 72]"
            ]
          },
          "metadata": {},
          "execution_count": 17
        }
      ]
    },
    {
      "cell_type": "code",
      "source": [
        "marks[0:3]"
      ],
      "metadata": {
        "colab": {
          "base_uri": "https://localhost:8080/"
        },
        "id": "jXl5-Bx6rbrV",
        "outputId": "37c22857-a519-452f-d7e7-b69d12f152a0"
      },
      "execution_count": null,
      "outputs": [
        {
          "output_type": "execute_result",
          "data": {
            "text/plain": [
              "[98, 86, 72]"
            ]
          },
          "metadata": {},
          "execution_count": 18
        }
      ]
    },
    {
      "cell_type": "code",
      "source": [
        "marks[3:]"
      ],
      "metadata": {
        "colab": {
          "base_uri": "https://localhost:8080/"
        },
        "id": "J1HVlbWbrlHf",
        "outputId": "84abb58a-d6ba-46b2-c31d-b1694b70eebc"
      },
      "execution_count": null,
      "outputs": [
        {
          "output_type": "execute_result",
          "data": {
            "text/plain": [
              "[63, 98, 71, 89]"
            ]
          },
          "metadata": {},
          "execution_count": 19
        }
      ]
    },
    {
      "cell_type": "code",
      "source": [
        "marks[::2]"
      ],
      "metadata": {
        "colab": {
          "base_uri": "https://localhost:8080/"
        },
        "id": "idGoXqQ1r21l",
        "outputId": "7a25db89-b936-4963-b89c-bb35e93e4f18"
      },
      "execution_count": null,
      "outputs": [
        {
          "output_type": "execute_result",
          "data": {
            "text/plain": [
              "[98, 72, 98, 89]"
            ]
          },
          "metadata": {},
          "execution_count": 20
        }
      ]
    },
    {
      "cell_type": "code",
      "source": [
        "marks=[98,86,72,63,98,71,89]"
      ],
      "metadata": {
        "id": "yHv5O686r5Rq"
      },
      "execution_count": null,
      "outputs": []
    },
    {
      "cell_type": "code",
      "source": [
        "marks[::]"
      ],
      "metadata": {
        "id": "aMVQtwodr8MO"
      },
      "execution_count": null,
      "outputs": []
    },
    {
      "cell_type": "code",
      "source": [
        "marks[1:len(marks)-1:2]"
      ],
      "metadata": {
        "colab": {
          "base_uri": "https://localhost:8080/"
        },
        "id": "IrGpvjOqsJuE",
        "outputId": "b6ab6b94-75a0-48b5-d708-973c036af0c4"
      },
      "execution_count": null,
      "outputs": [
        {
          "output_type": "execute_result",
          "data": {
            "text/plain": [
              "[86, 63, 71]"
            ]
          },
          "metadata": {},
          "execution_count": 22
        }
      ]
    },
    {
      "cell_type": "code",
      "source": [
        "marks[::-1]"
      ],
      "metadata": {
        "colab": {
          "base_uri": "https://localhost:8080/"
        },
        "id": "ljUcTd4HsR3a",
        "outputId": "7d8b0c0b-4552-42f3-df32-64a2f2f6afd0"
      },
      "execution_count": null,
      "outputs": [
        {
          "output_type": "execute_result",
          "data": {
            "text/plain": [
              "[89, 71, 98, 63, 72, 86, 98]"
            ]
          },
          "metadata": {},
          "execution_count": 23
        }
      ]
    }
  ]
}