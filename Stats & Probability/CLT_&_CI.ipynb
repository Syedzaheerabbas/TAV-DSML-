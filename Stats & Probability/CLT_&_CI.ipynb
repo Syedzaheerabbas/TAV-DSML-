{
  "nbformat": 4,
  "nbformat_minor": 0,
  "metadata": {
    "colab": {
      "provenance": []
    },
    "kernelspec": {
      "name": "python3",
      "display_name": "Python 3"
    },
    "language_info": {
      "name": "python"
    }
  },
  "cells": [
    {
      "cell_type": "code",
      "execution_count": null,
      "metadata": {
        "id": "6V16eEgTpsII"
      },
      "outputs": [],
      "source": [
        "import numpy as np\n",
        "import pandas as pd\n",
        "import matplotlib.pyplot as plt\n",
        "import seaborn as sns\n"
      ]
    },
    {
      "cell_type": "code",
      "source": [
        "!wget --no-check-certificate https://drive.google.com/uc?id=1Mrt008vkE4nVb1zE4f06_rtq70QPfkIo -O weight-height.csv"
      ],
      "metadata": {
        "colab": {
          "base_uri": "https://localhost:8080/"
        },
        "id": "B_8fyU7Dp3m5",
        "outputId": "2285429d-4323-4923-eaba-18e2089c70c8"
      },
      "execution_count": null,
      "outputs": [
        {
          "output_type": "stream",
          "name": "stdout",
          "text": [
            "--2025-07-28 11:08:19--  https://drive.google.com/uc?id=1Mrt008vkE4nVb1zE4f06_rtq70QPfkIo\n",
            "Resolving drive.google.com (drive.google.com)... 142.250.98.101, 142.250.98.138, 142.250.98.100, ...\n",
            "Connecting to drive.google.com (drive.google.com)|142.250.98.101|:443... connected.\n",
            "HTTP request sent, awaiting response... 303 See Other\n",
            "Location: https://drive.usercontent.google.com/download?id=1Mrt008vkE4nVb1zE4f06_rtq70QPfkIo [following]\n",
            "--2025-07-28 11:08:19--  https://drive.usercontent.google.com/download?id=1Mrt008vkE4nVb1zE4f06_rtq70QPfkIo\n",
            "Resolving drive.usercontent.google.com (drive.usercontent.google.com)... 142.251.107.132, 2607:f8b0:400c:c32::84\n",
            "Connecting to drive.usercontent.google.com (drive.usercontent.google.com)|142.251.107.132|:443... connected.\n",
            "HTTP request sent, awaiting response... 200 OK\n",
            "Length: 428120 (418K) [application/octet-stream]\n",
            "Saving to: ‘weight-height.csv’\n",
            "\n",
            "weight-height.csv   100%[===================>] 418.09K  --.-KB/s    in 0.004s  \n",
            "\n",
            "2025-07-28 11:08:20 (97.6 MB/s) - ‘weight-height.csv’ saved [428120/428120]\n",
            "\n"
          ]
        }
      ]
    },
    {
      "cell_type": "code",
      "source": [
        "df = pd .read_csv('/content/weight-height.csv')\n",
        "df.head()"
      ],
      "metadata": {
        "colab": {
          "base_uri": "https://localhost:8080/",
          "height": 206
        },
        "id": "yWNQJIT7p5mZ",
        "outputId": "a1eb897f-17d8-4389-86ad-6211ab1830f8"
      },
      "execution_count": null,
      "outputs": [
        {
          "output_type": "execute_result",
          "data": {
            "text/plain": [
              "  Gender     Height      Weight\n",
              "0   Male  73.847017  241.893563\n",
              "1   Male  68.781904  162.310473\n",
              "2   Male  74.110105  212.740856\n",
              "3   Male  71.730978  220.042470\n",
              "4   Male  69.881796  206.349801"
            ],
            "text/html": [
              "\n",
              "  <div id=\"df-0b7a599f-57be-4a07-ba7c-f5fdb4173f70\" class=\"colab-df-container\">\n",
              "    <div>\n",
              "<style scoped>\n",
              "    .dataframe tbody tr th:only-of-type {\n",
              "        vertical-align: middle;\n",
              "    }\n",
              "\n",
              "    .dataframe tbody tr th {\n",
              "        vertical-align: top;\n",
              "    }\n",
              "\n",
              "    .dataframe thead th {\n",
              "        text-align: right;\n",
              "    }\n",
              "</style>\n",
              "<table border=\"1\" class=\"dataframe\">\n",
              "  <thead>\n",
              "    <tr style=\"text-align: right;\">\n",
              "      <th></th>\n",
              "      <th>Gender</th>\n",
              "      <th>Height</th>\n",
              "      <th>Weight</th>\n",
              "    </tr>\n",
              "  </thead>\n",
              "  <tbody>\n",
              "    <tr>\n",
              "      <th>0</th>\n",
              "      <td>Male</td>\n",
              "      <td>73.847017</td>\n",
              "      <td>241.893563</td>\n",
              "    </tr>\n",
              "    <tr>\n",
              "      <th>1</th>\n",
              "      <td>Male</td>\n",
              "      <td>68.781904</td>\n",
              "      <td>162.310473</td>\n",
              "    </tr>\n",
              "    <tr>\n",
              "      <th>2</th>\n",
              "      <td>Male</td>\n",
              "      <td>74.110105</td>\n",
              "      <td>212.740856</td>\n",
              "    </tr>\n",
              "    <tr>\n",
              "      <th>3</th>\n",
              "      <td>Male</td>\n",
              "      <td>71.730978</td>\n",
              "      <td>220.042470</td>\n",
              "    </tr>\n",
              "    <tr>\n",
              "      <th>4</th>\n",
              "      <td>Male</td>\n",
              "      <td>69.881796</td>\n",
              "      <td>206.349801</td>\n",
              "    </tr>\n",
              "  </tbody>\n",
              "</table>\n",
              "</div>\n",
              "    <div class=\"colab-df-buttons\">\n",
              "\n",
              "  <div class=\"colab-df-container\">\n",
              "    <button class=\"colab-df-convert\" onclick=\"convertToInteractive('df-0b7a599f-57be-4a07-ba7c-f5fdb4173f70')\"\n",
              "            title=\"Convert this dataframe to an interactive table.\"\n",
              "            style=\"display:none;\">\n",
              "\n",
              "  <svg xmlns=\"http://www.w3.org/2000/svg\" height=\"24px\" viewBox=\"0 -960 960 960\">\n",
              "    <path d=\"M120-120v-720h720v720H120Zm60-500h600v-160H180v160Zm220 220h160v-160H400v160Zm0 220h160v-160H400v160ZM180-400h160v-160H180v160Zm440 0h160v-160H620v160ZM180-180h160v-160H180v160Zm440 0h160v-160H620v160Z\"/>\n",
              "  </svg>\n",
              "    </button>\n",
              "\n",
              "  <style>\n",
              "    .colab-df-container {\n",
              "      display:flex;\n",
              "      gap: 12px;\n",
              "    }\n",
              "\n",
              "    .colab-df-convert {\n",
              "      background-color: #E8F0FE;\n",
              "      border: none;\n",
              "      border-radius: 50%;\n",
              "      cursor: pointer;\n",
              "      display: none;\n",
              "      fill: #1967D2;\n",
              "      height: 32px;\n",
              "      padding: 0 0 0 0;\n",
              "      width: 32px;\n",
              "    }\n",
              "\n",
              "    .colab-df-convert:hover {\n",
              "      background-color: #E2EBFA;\n",
              "      box-shadow: 0px 1px 2px rgba(60, 64, 67, 0.3), 0px 1px 3px 1px rgba(60, 64, 67, 0.15);\n",
              "      fill: #174EA6;\n",
              "    }\n",
              "\n",
              "    .colab-df-buttons div {\n",
              "      margin-bottom: 4px;\n",
              "    }\n",
              "\n",
              "    [theme=dark] .colab-df-convert {\n",
              "      background-color: #3B4455;\n",
              "      fill: #D2E3FC;\n",
              "    }\n",
              "\n",
              "    [theme=dark] .colab-df-convert:hover {\n",
              "      background-color: #434B5C;\n",
              "      box-shadow: 0px 1px 3px 1px rgba(0, 0, 0, 0.15);\n",
              "      filter: drop-shadow(0px 1px 2px rgba(0, 0, 0, 0.3));\n",
              "      fill: #FFFFFF;\n",
              "    }\n",
              "  </style>\n",
              "\n",
              "    <script>\n",
              "      const buttonEl =\n",
              "        document.querySelector('#df-0b7a599f-57be-4a07-ba7c-f5fdb4173f70 button.colab-df-convert');\n",
              "      buttonEl.style.display =\n",
              "        google.colab.kernel.accessAllowed ? 'block' : 'none';\n",
              "\n",
              "      async function convertToInteractive(key) {\n",
              "        const element = document.querySelector('#df-0b7a599f-57be-4a07-ba7c-f5fdb4173f70');\n",
              "        const dataTable =\n",
              "          await google.colab.kernel.invokeFunction('convertToInteractive',\n",
              "                                                    [key], {});\n",
              "        if (!dataTable) return;\n",
              "\n",
              "        const docLinkHtml = 'Like what you see? Visit the ' +\n",
              "          '<a target=\"_blank\" href=https://colab.research.google.com/notebooks/data_table.ipynb>data table notebook</a>'\n",
              "          + ' to learn more about interactive tables.';\n",
              "        element.innerHTML = '';\n",
              "        dataTable['output_type'] = 'display_data';\n",
              "        await google.colab.output.renderOutput(dataTable, element);\n",
              "        const docLink = document.createElement('div');\n",
              "        docLink.innerHTML = docLinkHtml;\n",
              "        element.appendChild(docLink);\n",
              "      }\n",
              "    </script>\n",
              "  </div>\n",
              "\n",
              "\n",
              "    <div id=\"df-c651c19f-b749-40ba-9bc9-c2c557855527\">\n",
              "      <button class=\"colab-df-quickchart\" onclick=\"quickchart('df-c651c19f-b749-40ba-9bc9-c2c557855527')\"\n",
              "                title=\"Suggest charts\"\n",
              "                style=\"display:none;\">\n",
              "\n",
              "<svg xmlns=\"http://www.w3.org/2000/svg\" height=\"24px\"viewBox=\"0 0 24 24\"\n",
              "     width=\"24px\">\n",
              "    <g>\n",
              "        <path d=\"M19 3H5c-1.1 0-2 .9-2 2v14c0 1.1.9 2 2 2h14c1.1 0 2-.9 2-2V5c0-1.1-.9-2-2-2zM9 17H7v-7h2v7zm4 0h-2V7h2v10zm4 0h-2v-4h2v4z\"/>\n",
              "    </g>\n",
              "</svg>\n",
              "      </button>\n",
              "\n",
              "<style>\n",
              "  .colab-df-quickchart {\n",
              "      --bg-color: #E8F0FE;\n",
              "      --fill-color: #1967D2;\n",
              "      --hover-bg-color: #E2EBFA;\n",
              "      --hover-fill-color: #174EA6;\n",
              "      --disabled-fill-color: #AAA;\n",
              "      --disabled-bg-color: #DDD;\n",
              "  }\n",
              "\n",
              "  [theme=dark] .colab-df-quickchart {\n",
              "      --bg-color: #3B4455;\n",
              "      --fill-color: #D2E3FC;\n",
              "      --hover-bg-color: #434B5C;\n",
              "      --hover-fill-color: #FFFFFF;\n",
              "      --disabled-bg-color: #3B4455;\n",
              "      --disabled-fill-color: #666;\n",
              "  }\n",
              "\n",
              "  .colab-df-quickchart {\n",
              "    background-color: var(--bg-color);\n",
              "    border: none;\n",
              "    border-radius: 50%;\n",
              "    cursor: pointer;\n",
              "    display: none;\n",
              "    fill: var(--fill-color);\n",
              "    height: 32px;\n",
              "    padding: 0;\n",
              "    width: 32px;\n",
              "  }\n",
              "\n",
              "  .colab-df-quickchart:hover {\n",
              "    background-color: var(--hover-bg-color);\n",
              "    box-shadow: 0 1px 2px rgba(60, 64, 67, 0.3), 0 1px 3px 1px rgba(60, 64, 67, 0.15);\n",
              "    fill: var(--button-hover-fill-color);\n",
              "  }\n",
              "\n",
              "  .colab-df-quickchart-complete:disabled,\n",
              "  .colab-df-quickchart-complete:disabled:hover {\n",
              "    background-color: var(--disabled-bg-color);\n",
              "    fill: var(--disabled-fill-color);\n",
              "    box-shadow: none;\n",
              "  }\n",
              "\n",
              "  .colab-df-spinner {\n",
              "    border: 2px solid var(--fill-color);\n",
              "    border-color: transparent;\n",
              "    border-bottom-color: var(--fill-color);\n",
              "    animation:\n",
              "      spin 1s steps(1) infinite;\n",
              "  }\n",
              "\n",
              "  @keyframes spin {\n",
              "    0% {\n",
              "      border-color: transparent;\n",
              "      border-bottom-color: var(--fill-color);\n",
              "      border-left-color: var(--fill-color);\n",
              "    }\n",
              "    20% {\n",
              "      border-color: transparent;\n",
              "      border-left-color: var(--fill-color);\n",
              "      border-top-color: var(--fill-color);\n",
              "    }\n",
              "    30% {\n",
              "      border-color: transparent;\n",
              "      border-left-color: var(--fill-color);\n",
              "      border-top-color: var(--fill-color);\n",
              "      border-right-color: var(--fill-color);\n",
              "    }\n",
              "    40% {\n",
              "      border-color: transparent;\n",
              "      border-right-color: var(--fill-color);\n",
              "      border-top-color: var(--fill-color);\n",
              "    }\n",
              "    60% {\n",
              "      border-color: transparent;\n",
              "      border-right-color: var(--fill-color);\n",
              "    }\n",
              "    80% {\n",
              "      border-color: transparent;\n",
              "      border-right-color: var(--fill-color);\n",
              "      border-bottom-color: var(--fill-color);\n",
              "    }\n",
              "    90% {\n",
              "      border-color: transparent;\n",
              "      border-bottom-color: var(--fill-color);\n",
              "    }\n",
              "  }\n",
              "</style>\n",
              "\n",
              "      <script>\n",
              "        async function quickchart(key) {\n",
              "          const quickchartButtonEl =\n",
              "            document.querySelector('#' + key + ' button');\n",
              "          quickchartButtonEl.disabled = true;  // To prevent multiple clicks.\n",
              "          quickchartButtonEl.classList.add('colab-df-spinner');\n",
              "          try {\n",
              "            const charts = await google.colab.kernel.invokeFunction(\n",
              "                'suggestCharts', [key], {});\n",
              "          } catch (error) {\n",
              "            console.error('Error during call to suggestCharts:', error);\n",
              "          }\n",
              "          quickchartButtonEl.classList.remove('colab-df-spinner');\n",
              "          quickchartButtonEl.classList.add('colab-df-quickchart-complete');\n",
              "        }\n",
              "        (() => {\n",
              "          let quickchartButtonEl =\n",
              "            document.querySelector('#df-c651c19f-b749-40ba-9bc9-c2c557855527 button');\n",
              "          quickchartButtonEl.style.display =\n",
              "            google.colab.kernel.accessAllowed ? 'block' : 'none';\n",
              "        })();\n",
              "      </script>\n",
              "    </div>\n",
              "\n",
              "    </div>\n",
              "  </div>\n"
            ],
            "application/vnd.google.colaboratory.intrinsic+json": {
              "type": "dataframe",
              "variable_name": "df",
              "summary": "{\n  \"name\": \"df\",\n  \"rows\": 10000,\n  \"fields\": [\n    {\n      \"column\": \"Gender\",\n      \"properties\": {\n        \"dtype\": \"category\",\n        \"num_unique_values\": 2,\n        \"samples\": [\n          \"Female\",\n          \"Male\"\n        ],\n        \"semantic_type\": \"\",\n        \"description\": \"\"\n      }\n    },\n    {\n      \"column\": \"Height\",\n      \"properties\": {\n        \"dtype\": \"number\",\n        \"std\": 3.8475281207732324,\n        \"min\": 54.2631333250971,\n        \"max\": 78.9987423463896,\n        \"num_unique_values\": 10000,\n        \"samples\": [\n          68.6872321923365,\n          68.8293337723017\n        ],\n        \"semantic_type\": \"\",\n        \"description\": \"\"\n      }\n    },\n    {\n      \"column\": \"Weight\",\n      \"properties\": {\n        \"dtype\": \"number\",\n        \"std\": 32.108439006519546,\n        \"min\": 64.700126712753,\n        \"max\": 269.989698505106,\n        \"num_unique_values\": 10000,\n        \"samples\": [\n          173.115812588004,\n          195.162042097346\n        ],\n        \"semantic_type\": \"\",\n        \"description\": \"\"\n      }\n    }\n  ]\n}"
            }
          },
          "metadata": {},
          "execution_count": 3
        }
      ]
    },
    {
      "cell_type": "markdown",
      "source": [
        "We are going to work on height column so let's store it in a different dataframe."
      ],
      "metadata": {
        "id": "CEzbt7fOqqOi"
      }
    },
    {
      "cell_type": "code",
      "source": [
        "df_height = df[\"Height\"]"
      ],
      "metadata": {
        "id": "ANoUI7ZHqBF6"
      },
      "execution_count": null,
      "outputs": []
    },
    {
      "cell_type": "code",
      "source": [
        "sns.histplot(df_height)"
      ],
      "metadata": {
        "colab": {
          "base_uri": "https://localhost:8080/",
          "height": 467
        },
        "id": "iO9h41eQqty0",
        "outputId": "6e33ec3e-3d50-4a49-96e3-c10c97bf44eb"
      },
      "execution_count": null,
      "outputs": [
        {
          "output_type": "execute_result",
          "data": {
            "text/plain": [
              "<Axes: xlabel='Height', ylabel='Count'>"
            ]
          },
          "metadata": {},
          "execution_count": 5
        },
        {
          "output_type": "display_data",
          "data": {
            "text/plain": [
              "<Figure size 640x480 with 1 Axes>"
            ],
            "image/png": "[encoded data removed]"
          },
          "metadata": {}
        }
      ]
    },
    {
      "cell_type": "code",
      "source": [
        "# mean of the entire population\n",
        "mu = df_height.mean()\n",
        "mu"
      ],
      "metadata": {
        "colab": {
          "base_uri": "https://localhost:8080/"
        },
        "id": "CH4ZxBR3qv2q",
        "outputId": "18295596-2fd8-46bd-de23-25a11cc18ed1"
      },
      "execution_count": null,
      "outputs": [
        {
          "output_type": "execute_result",
          "data": {
            "text/plain": [
              "np.float64(66.36755975482124)"
            ]
          },
          "metadata": {},
          "execution_count": 6
        }
      ]
    },
    {
      "cell_type": "code",
      "source": [
        "sigma = df_height.std()\n",
        "sigma"
      ],
      "metadata": {
        "colab": {
          "base_uri": "https://localhost:8080/"
        },
        "id": "ZFwoHPKOq22y",
        "outputId": "800df55e-f390-41aa-ae66-f9c8565a258f"
      },
      "execution_count": null,
      "outputs": [
        {
          "output_type": "execute_result",
          "data": {
            "text/plain": [
              "3.8475281207732324"
            ]
          },
          "metadata": {},
          "execution_count": 7
        }
      ]
    },
    {
      "cell_type": "markdown",
      "source": [
        "We will now randomly select five samples and determine the average height of these samples"
      ],
      "metadata": {
        "id": "cSG6p9BBq6DD"
      }
    },
    {
      "cell_type": "markdown",
      "source": [
        "## <font color='purple'>**Sample size = 5**</font>"
      ],
      "metadata": {
        "id": "bCUMIGdoq8jX"
      }
    },
    {
      "cell_type": "code",
      "source": [
        "df_height.sample(5)"
      ],
      "metadata": {
        "colab": {
          "base_uri": "https://localhost:8080/",
          "height": 240
        },
        "id": "4dfinlKYq3ry",
        "outputId": "bc094806-3b53-44a8-c372-e13dfaa6d2aa"
      },
      "execution_count": null,
      "outputs": [
        {
          "output_type": "execute_result",
          "data": {
            "text/plain": [
              "5474    66.674360\n",
              "3578    70.606092\n",
              "2836    70.859347\n",
              "641     71.568734\n",
              "3886    69.231469\n",
              "Name: Height, dtype: float64"
            ],
            "text/html": [
              "<div>\n",
              "<style scoped>\n",
              "    .dataframe tbody tr th:only-of-type {\n",
              "        vertical-align: middle;\n",
              "    }\n",
              "\n",
              "    .dataframe tbody tr th {\n",
              "        vertical-align: top;\n",
              "    }\n",
              "\n",
              "    .dataframe thead th {\n",
              "        text-align: right;\n",
              "    }\n",
              "</style>\n",
              "<table border=\"1\" class=\"dataframe\">\n",
              "  <thead>\n",
              "    <tr style=\"text-align: right;\">\n",
              "      <th></th>\n",
              "      <th>Height</th>\n",
              "    </tr>\n",
              "  </thead>\n",
              "  <tbody>\n",
              "    <tr>\n",
              "      <th>5474</th>\n",
              "      <td>66.674360</td>\n",
              "    </tr>\n",
              "    <tr>\n",
              "      <th>3578</th>\n",
              "      <td>70.606092</td>\n",
              "    </tr>\n",
              "    <tr>\n",
              "      <th>2836</th>\n",
              "      <td>70.859347</td>\n",
              "    </tr>\n",
              "    <tr>\n",
              "      <th>641</th>\n",
              "      <td>71.568734</td>\n",
              "    </tr>\n",
              "    <tr>\n",
              "      <th>3886</th>\n",
              "      <td>69.231469</td>\n",
              "    </tr>\n",
              "  </tbody>\n",
              "</table>\n",
              "</div><br><label><b>dtype:</b> float64</label>"
            ]
          },
          "metadata": {},
          "execution_count": 8
        }
      ]
    },
    {
      "cell_type": "code",
      "source": [
        "np.mean(df_height.sample(5))"
      ],
      "metadata": {
        "colab": {
          "base_uri": "https://localhost:8080/"
        },
        "id": "EUpbeWjUq_6w",
        "outputId": "b5b7802c-8eee-48d4-bfb0-34da32b4bdb5"
      },
      "execution_count": null,
      "outputs": [
        {
          "output_type": "execute_result",
          "data": {
            "text/plain": [
              "np.float64(67.4731359964739)"
            ]
          },
          "metadata": {},
          "execution_count": 9
        }
      ]
    },
    {
      "cell_type": "markdown",
      "source": [
        "<font color='orange'>**Observation**</font>\n",
        "-  We can notice that on running the above code, it is generating 5 different samples every time and the sample mean is also changing with that.  "
      ],
      "metadata": {
        "id": "6vnYKbbfrD8F"
      }
    },
    {
      "cell_type": "markdown",
      "source": [
        "Let's repeat this process 10,000 times so we will get sample means of 10,000 unique samples (size = 5).\n",
        "\n",
        "We will plot the distributions of these 10,000 sample means to see if they follow the normal distribution."
      ],
      "metadata": {
        "id": "u0ZJ20jFrHI1"
      }
    },
    {
      "cell_type": "code",
      "source": [
        "sample_5 = [np.mean(df_height.sample(5)) for i in range(10000) ]"
      ],
      "metadata": {
        "id": "htOwdGa4rEy0"
      },
      "execution_count": null,
      "outputs": []
    },
    {
      "cell_type": "code",
      "source": [
        "sns.histplot(sample_5, kde=True)"
      ],
      "metadata": {
        "colab": {
          "base_uri": "https://localhost:8080/",
          "height": 448
        },
        "id": "M6rrxUJSr2eB",
        "outputId": "393dcc66-48df-44c5-f6d8-61f061745e10"
      },
      "execution_count": null,
      "outputs": [
        {
          "output_type": "execute_result",
          "data": {
            "text/plain": [
              "<Axes: ylabel='Count'>"
            ]
          },
          "metadata": {},
          "execution_count": 11
        },
        {
          "output_type": "display_data",
          "data": {
            "text/plain": [
              "<Figure size 640x480 with 1 Axes>"
            ],
            "image/png": "[encoded data removed]"
          },
          "metadata": {}
        }
      ]
    },
    {
      "cell_type": "code",
      "source": [
        "np.mean(sample_5)"
      ],
      "metadata": {
        "colab": {
          "base_uri": "https://localhost:8080/"
        },
        "id": "WNkHRPJPr6SZ",
        "outputId": "6c82c347-bd1a-4c32-d589-cb212d6aae13"
      },
      "execution_count": null,
      "outputs": [
        {
          "output_type": "execute_result",
          "data": {
            "text/plain": [
              "np.float64(66.36288524668917)"
            ]
          },
          "metadata": {},
          "execution_count": 12
        }
      ]
    },
    {
      "cell_type": "code",
      "source": [
        "np.std(sample_5)"
      ],
      "metadata": {
        "colab": {
          "base_uri": "https://localhost:8080/"
        },
        "id": "VPeihegir7-3",
        "outputId": "d8834dd0-9570-40b2-fe95-1afff60776bb"
      },
      "execution_count": null,
      "outputs": [
        {
          "output_type": "execute_result",
          "data": {
            "text/plain": [
              "np.float64(1.6943189092569417)"
            ]
          },
          "metadata": {},
          "execution_count": 13
        }
      ]
    },
    {
      "cell_type": "markdown",
      "source": [
        "<font color='orange'>**Observation**</font>  \n",
        "\n",
        "- We can conclude that the distribution of those 10000 samples means is normally distributed and most of the values lies between 62 and 72.  \n",
        "\n",
        "- There might be some cases where the samples contain only short peoples that is why we can see some values between 60 and 62  \n",
        "\n",
        "- Similarly, there might be some cases where the samples contain only tall people that is why we can see some values between 70 and 72.  "
      ],
      "metadata": {
        "id": "kTikNbSLr-n_"
      }
    },
    {
      "cell_type": "markdown",
      "source": [
        "## <font color='purple'>**Sample size = 20**</font>\n",
        "\n",
        "> <font color='purple'>**Q1. What would happen If we increase the size of our sample?**</font>  \n",
        "\n",
        "We studied earlier in the lecture that as we increase the size of the sample, the spread of data will be less.   \n",
        "\n",
        "- This means, as we increase the size of the sample, the sample mean will come closer and closer to the population mean\n",
        "\n",
        "Let's try this out.\n",
        "\n",
        "- Let's increase the sample size to 20.\n",
        "- We will again perform 10,00 iterations and plot the distributions of the sample means"
      ],
      "metadata": {
        "id": "6nUybL5rsBiV"
      }
    },
    {
      "cell_type": "code",
      "source": [
        "sample_20 = [np.mean(df_height.sample(20)) for i in range(10000) ]"
      ],
      "metadata": {
        "id": "QOQ2gVQ9r8zC"
      },
      "execution_count": null,
      "outputs": []
    },
    {
      "cell_type": "code",
      "source": [
        "sns.histplot(sample_20, kde=True)"
      ],
      "metadata": {
        "colab": {
          "base_uri": "https://localhost:8080/",
          "height": 448
        },
        "id": "uXFmcxLDsNNa",
        "outputId": "dbbaed6b-9a92-4390-98e4-fff6292e61c5"
      },
      "execution_count": null,
      "outputs": [
        {
          "output_type": "execute_result",
          "data": {
            "text/plain": [
              "<Axes: ylabel='Count'>"
            ]
          },
          "metadata": {},
          "execution_count": 15
        },
        {
          "output_type": "display_data",
          "data": {
            "text/plain": [
              "<Figure size 640x480 with 1 Axes>"
            ],
            "image/png": "[encoded data removed]"
          },
          "metadata": {}
        }
      ]
    },
    {
      "cell_type": "code",
      "source": [
        "np.mean(sample_20)"
      ],
      "metadata": {
        "colab": {
          "base_uri": "https://localhost:8080/"
        },
        "id": "buGhpvn-sPuw",
        "outputId": "7b127068-7ae6-4c84-a998-f6d07dfa06cc"
      },
      "execution_count": null,
      "outputs": [
        {
          "output_type": "execute_result",
          "data": {
            "text/plain": [
              "np.float64(66.36055592849031)"
            ]
          },
          "metadata": {},
          "execution_count": 16
        }
      ]
    },
    {
      "cell_type": "code",
      "source": [
        "np.std(sample_20)"
      ],
      "metadata": {
        "colab": {
          "base_uri": "https://localhost:8080/"
        },
        "id": "LHmS0_3tsR6F",
        "outputId": "ee93d4ba-5dc0-4d9a-f5cd-ece908e793b7"
      },
      "execution_count": null,
      "outputs": [
        {
          "output_type": "execute_result",
          "data": {
            "text/plain": [
              "np.float64(0.8613409836645549)"
            ]
          },
          "metadata": {},
          "execution_count": 17
        }
      ]
    },
    {
      "cell_type": "markdown",
      "source": [
        "<font color='orange'>**Observation**</font>   \n",
        "\n",
        "\n",
        "- We can clearly see that as <font color='purple'>**we increase the number of samples from 5 to 20, the sample means come closer to the actual mean and the standard deviation becomes less**</font>.  \n",
        "\n",
        "- Previously the majority of the values were between 62 and 72. Now the spread of the data has decreased and values lie between 64 and 69  \n",
        "\n",
        "So we can assert that by <font color='purple'>increasing the size of the sample, the variability or SD of the sample distributions decreases and the sample mean tends to be much closer to the population mean</font>."
      ],
      "metadata": {
        "id": "AGhD4TkTsZI-"
      }
    },
    {
      "cell_type": "markdown",
      "source": [
        "## <font color='purple'>**Comparison of Statistics**</font>\n",
        "\n",
        "Let's compare the statistics of population data and sample data to observe some patterns"
      ],
      "metadata": {
        "id": "cILLwYAmseMm"
      }
    },
    {
      "cell_type": "code",
      "source": [
        "# population mean\n",
        "mu = df_height.mean()\n",
        "\n",
        "# population SD\n",
        "sigma = df_height.std()\n",
        "\n",
        "# mean of sample distributions having sample size = 5\n",
        "mu_5 = np.mean(sample_5)\n",
        "\n",
        "# SD of sample distributions having sample size = 5\n",
        "sigma_5 = np.std(sample_5)\n",
        "\n",
        "# mean of sample distributions having sample size = 20\n",
        "mu_20 = np.mean(sample_20)\n",
        "\n",
        "# SD of sample distributions having sample size = 20\n",
        "sigma_20 = np.std(sample_20)"
      ],
      "metadata": {
        "id": "Y0C6D9xLsg66"
      },
      "execution_count": null,
      "outputs": []
    },
    {
      "cell_type": "code",
      "source": [
        "print(mu, mu_5, mu_20)\n",
        "print(sigma, sigma_5, sigma_20)"
      ],
      "metadata": {
        "colab": {
          "base_uri": "https://localhost:8080/"
        },
        "id": "2QUipmwhsVzW",
        "outputId": "d8424cf3-9a0e-47ee-add6-2d0f141d394a"
      },
      "execution_count": null,
      "outputs": [
        {
          "output_type": "stream",
          "name": "stdout",
          "text": [
            "66.36755975482124 66.36288524668917 66.36055592849031\n",
            "3.8475281207732324 1.6943189092569417 0.8613409836645549\n"
          ]
        }
      ]
    },
    {
      "cell_type": "markdown",
      "source": [
        "<font color='orange'>**Observation**</font>  \n",
        "\n",
        "Here,  \n",
        "\n",
        "**Population Statistics:**  \n",
        "- $μ$ = population mean  \n",
        "- $σ$ = population standard deviation  \n",
        "\n",
        "**Sample Statistics:**  \n",
        "- $μ_5$ = mean of sample means (from samples of size 5)  \n",
        "- $σ_5$ = standard deviation of the sample means (from samples of size 5)\n",
        "\n",
        "- $μ_{20}$ = mean of sample means (from samples of size 20)  \n",
        "- $σ_{20}$ = standard deviation of the sample means (from samples of size 20)\n",
        "\n",
        "\n",
        "<br>\n",
        "\n",
        "**Observations:**\n",
        "\n",
        "1. <font color=\"purple\"> Mean of the sampling distribution is equal to the mean of the population</font>\n",
        "\n",
        "  - $\\Large μ_{\\bar x} = μ$  \n",
        "\n",
        "\n",
        "\n",
        "2. <font color='purple'>As we increase the sample size, the SD of sample means decreases</font>.  \n",
        "\n",
        "  - The **SD of sampling distribution ($σ_{\\bar x}$) is less than the population SD ($σ$).**\n",
        "\n",
        "  - $\\Large σ > σ_5 > σ_{20}$  \n",
        "\n",
        "<br>\n",
        "\n",
        "This aligns with the CLT, which states that the standard deviation of the sampling distribution ($σ_{\\bar x}$) is the standard deviation of the population ($σ$) divided by the square root of the sample size: $\\Large σ_{\\bar x} = \\frac{σ}{\\sqrt n}$   \n",
        "\n",
        "  We have already studied it, it is known as **Standard Error**. It indicates that how far my sample mean is from the actual mean.  "
      ],
      "metadata": {
        "id": "EoVahB3bspu1"
      }
    },
    {
      "cell_type": "markdown",
      "source": [
        "## <font color='blue'>**Summarizing CLT**</font>\n",
        "\n",
        "> <font color='purple'>How can we mathematically represent it?</font>  \n",
        "\n",
        "We can describe the sampling distribution of the mean using this notation:  \n",
        "\n",
        "<font color='purple'>**$\\Large {\\bar X} \\backsim \\Large N(μ \\ , \\ \\frac{σ}{\\sqrt n})$**</font>  \n",
        "\n",
        "Where:\n",
        "\n",
        "- $\\bar X$ is the sampling distribution of the sample means  \n",
        "\n",
        "- $ \\backsim$ means “follows the distribution”   \n",
        "\n",
        "- $N$ is the normal distribution  \n",
        "\n",
        "- $µ$ is the mean of the population  \n",
        "\n",
        "- $σ/\\sqrt n$ is the standard deviation of sample means distribution  \n",
        "\n",
        "\n"
      ],
      "metadata": {
        "id": "-iTiyZ15sv3T"
      }
    },
    {
      "cell_type": "markdown",
      "source": [
        "## <font color='purple'>**Example 1:**</font>\n",
        "```  \n",
        "Systolic blood pressure of a group of people is known to have an average of 122 mmHg\n",
        "and a standard deviation of 10 mmHg.\n",
        "Calculate the probability that the average blood pressure of 16 people will be greater than 125 mmHg.  \n",
        "\n",
        "```\n",
        "\n",
        "Given,  \n",
        "For the entire population  \n",
        "\n",
        "- $μ$ = 122\n",
        "- $σ$ = 10\n",
        "\n",
        "We need to calculate the probability that average BP of 16 people will be > 125  \n",
        "\n",
        "- Sample size n = 16  \n",
        "- and by CLT, the $\\bar X$ = $μ$ = 122  \n",
        "- The standard deviation will be\n",
        "\n",
        "<br>"
      ],
      "metadata": {
        "id": "Ls7-onrns09V"
      }
    },
    {
      "cell_type": "markdown",
      "source": [
        "So, the probability of finding people having greater than 125 average BP will be  \n",
        "we know,  \n",
        "\n",
        "$P[X>125] = 1 - P[X < 125] $  \n",
        "\n",
        "> <font color='purple'>**How can we find P[X < 125]?**</font>  \n",
        "\n",
        "by calculating \"norm.cdf(zscore)\""
      ],
      "metadata": {
        "id": "fmj69Jb0tLp3"
      }
    },
    {
      "cell_type": "code",
      "source": [
        "# SE = σ/sqrt(n)\n",
        "\n",
        "sigma = 10/np.sqrt(16)\n",
        "sigma"
      ],
      "metadata": {
        "colab": {
          "base_uri": "https://localhost:8080/"
        },
        "id": "286yG-B8svsD",
        "outputId": "9a079520-8cc2-4c18-cc41-bf5f99c9611b"
      },
      "execution_count": null,
      "outputs": [
        {
          "output_type": "execute_result",
          "data": {
            "text/plain": [
              "np.float64(2.5)"
            ]
          },
          "metadata": {},
          "execution_count": 20
        }
      ]
    },
    {
      "cell_type": "code",
      "source": [
        "import scipy.stats\n",
        "from scipy.stats import norm"
      ],
      "metadata": {
        "id": "Jw8V37GIuHNz"
      },
      "execution_count": null,
      "outputs": []
    },
    {
      "cell_type": "code",
      "source": [
        "# P[X>125]=1−P[X<125]\n",
        "\n",
        "probability = 1 - norm.cdf(0.07)\n",
        "\n",
        "probability"
      ],
      "metadata": {
        "id": "kswgVRFKtP-M",
        "colab": {
          "base_uri": "https://localhost:8080/"
        },
        "outputId": "a69eb362-32e2-45fb-f05a-2ef1577926c0"
      },
      "execution_count": null,
      "outputs": [
        {
          "output_type": "execute_result",
          "data": {
            "text/plain": [
              "np.float64(0.47209682981947887)"
            ]
          },
          "metadata": {},
          "execution_count": 24
        }
      ]
    },
    {
      "cell_type": "markdown",
      "source": [
        "![Screenshot 2023-12-08 at 1.54.31 PM.png](data:image/png;base64,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)"
      ],
      "metadata": {
        "id": "6imgn4uBtJxp"
      }
    },
    {
      "cell_type": "markdown",
      "source": [
        "#CI using Bootstrap method\n"
      ],
      "metadata": {
        "id": "xn3Ijacg_8dv"
      }
    },
    {
      "cell_type": "code",
      "source": [
        "survey_1 = [35, 36, 33, 37, 34, 35]\n",
        "np.mean(survey_1)"
      ],
      "metadata": {
        "id": "-uAYMArYsoh2",
        "colab": {
          "base_uri": "https://localhost:8080/",
          "height": 162
        },
        "outputId": "23582656-8fc9-49da-8e53-fb3c3cc5476c"
      },
      "execution_count": null,
      "outputs": [
        {
          "output_type": "error",
          "ename": "NameError",
          "evalue": "name 'np' is not defined",
          "traceback": [
            "\u001b[0;31m---------------------------------------------------------------------------\u001b[0m",
            "\u001b[0;31mNameError\u001b[0m                                 Traceback (most recent call last)",
            "\u001b[0;32m/tmp/ipython-input-1-3548652211.py\u001b[0m in \u001b[0;36m<cell line: 0>\u001b[0;34m()\u001b[0m\n\u001b[1;32m      1\u001b[0m \u001b[0msurvey_1\u001b[0m \u001b[0;34m=\u001b[0m \u001b[0;34m[\u001b[0m\u001b[0;36m35\u001b[0m\u001b[0;34m,\u001b[0m \u001b[0;36m36\u001b[0m\u001b[0;34m,\u001b[0m \u001b[0;36m33\u001b[0m\u001b[0;34m,\u001b[0m \u001b[0;36m37\u001b[0m\u001b[0;34m,\u001b[0m \u001b[0;36m34\u001b[0m\u001b[0;34m,\u001b[0m \u001b[0;36m35\u001b[0m\u001b[0;34m]\u001b[0m\u001b[0;34m\u001b[0m\u001b[0;34m\u001b[0m\u001b[0m\n\u001b[0;32m----> 2\u001b[0;31m \u001b[0mnp\u001b[0m\u001b[0;34m.\u001b[0m\u001b[0mmean\u001b[0m\u001b[0;34m(\u001b[0m\u001b[0msurvey_1\u001b[0m\u001b[0;34m)\u001b[0m\u001b[0;34m\u001b[0m\u001b[0;34m\u001b[0m\u001b[0m\n\u001b[0m",
            "\u001b[0;31mNameError\u001b[0m: name 'np' is not defined"
          ]
        }
      ]
    },
    {
      "cell_type": "code",
      "source": [
        "survey_2 = [20, 37, 17, 50, 53, 33]\n",
        "np.mean(survey_2)"
      ],
      "metadata": {
        "id": "gu-BSAa5Babe"
      },
      "execution_count": null,
      "outputs": []
    },
    {
      "cell_type": "markdown",
      "source": [
        "> <font color='purple'>**Q1. Which of the two surveys is better for estimating the population parameter or which survey is more reliable?**</font>  \n",
        "\n",
        "\n",
        "By observing the samples we can conclude that values in survey 1 is much closer to the mean values so survey 1 will be more accurate for estimation"
      ],
      "metadata": {
        "id": "O7kQCo7nBh67"
      }
    },
    {
      "cell_type": "markdown",
      "source": [
        "> <font color='purple'>**Q2. Now, can we simulate more and more sets of samples like the ones above?**</font>\n",
        "\n",
        "For this statisticians come up with something which has reasonable amount of accuracy.\n"
      ],
      "metadata": {
        "id": "avPS3JHOBihG"
      }
    },
    {
      "cell_type": "markdown",
      "source": [
        "### <font color='purple'>**Sample With Replacement**</font>\n",
        "\n",
        "- Statistician suggested that take your survey and then create more samples from the same survey only using **replacement**.\n",
        "\n",
        "- Bootstrapping is a statistical procedure that resamples a single dataset to create many simulated samples."
      ],
      "metadata": {
        "id": "rh5aAQpoBoo-"
      }
    },
    {
      "cell_type": "code",
      "source": [
        "n = 6\n",
        "bootstrapped_samples = np.random.choice(survey_1, size=n)\n",
        "bootstrapped_samples"
      ],
      "metadata": {
        "id": "9SeaNvoqBfTM"
      },
      "execution_count": null,
      "outputs": []
    },
    {
      "cell_type": "markdown",
      "source": [
        "Here we will get an array of length 6 where each element is one of the original data points from survey 1 which is randomly chosen.  \n",
        "\n",
        "Every time we run this code, we will get a different array so we can observe that the mean of this newly constructed array will also be different."
      ],
      "metadata": {
        "id": "uUxmvLAkBvDX"
      }
    },
    {
      "cell_type": "code",
      "source": [
        "np.mean(bootstrapped_samples)"
      ],
      "metadata": {
        "id": "q4B6d83UBxXo"
      },
      "execution_count": null,
      "outputs": []
    },
    {
      "cell_type": "code",
      "source": [
        "bootstrapped_samples = np.random.choice(survey_2, size=n)\n",
        "np.mean(bootstrapped_samples)"
      ],
      "metadata": {
        "id": "O8CEeTqNBzcp"
      },
      "execution_count": null,
      "outputs": []
    },
    {
      "cell_type": "markdown",
      "source": [
        "\n",
        "\n",
        "Let's observe the difference between survey_1 and survey_2 by running the code several times.  \n",
        "\n",
        "\n",
        "- We can observe that in survey 1, the mean value is always close to 35\n",
        "But in survey 2, it sometimes comes to 35, sometimes 40, sometimes 39 so there is more variance in survey 2.  \n",
        "\n",
        "\n",
        "So we will go with survey_1 as it has the higher confidence because the variance in survey_1 is less.\n"
      ],
      "metadata": {
        "id": "fb83RgiOB2F-"
      }
    },
    {
      "cell_type": "markdown",
      "source": [
        "**Let's draw a histogram of this survey**"
      ],
      "metadata": {
        "id": "DA-G2Az0B6aa"
      }
    },
    {
      "cell_type": "code",
      "source": [
        "bootstrapped_means_survey_1 = []\n",
        "for reps in range(10000):\n",
        "    bootstrapped_samples = np.random.choice(survey_1, size=n)\n",
        "    bootstrapped_mean = np.mean(bootstrapped_samples)\n",
        "    bootstrapped_means_survey_1.append(bootstrapped_mean)"
      ],
      "metadata": {
        "id": "imBUwSUhB6uG"
      },
      "execution_count": null,
      "outputs": []
    },
    {
      "cell_type": "code",
      "source": [
        "sns.histplot(bootstrapped_means_survey_1)"
      ],
      "metadata": {
        "id": "mKMAFzjJB97a"
      },
      "execution_count": null,
      "outputs": []
    },
    {
      "cell_type": "code",
      "source": [
        "bootstrapped_means_survey_2 = []\n",
        "for reps in range(10000):\n",
        "    bootstrapped_samples = np.random.choice(survey_2, size=n)\n",
        "    bootstrapped_mean = np.mean(bootstrapped_samples) # Replace by any statistic (median, percentile)\n",
        "    bootstrapped_means_survey_2.append(bootstrapped_mean)"
      ],
      "metadata": {
        "id": "9WRv9xQcCAfm"
      },
      "execution_count": null,
      "outputs": []
    },
    {
      "cell_type": "code",
      "source": [
        "sns.histplot(bootstrapped_means_survey_2)"
      ],
      "metadata": {
        "id": "j9SojFjxCCuy"
      },
      "execution_count": null,
      "outputs": []
    },
    {
      "cell_type": "markdown",
      "source": [
        "<br>\n",
        "<br>\n",
        "\n",
        "> <font color='purple'>**Let's compare these two histograms, what can we observe?**  \n",
        "\n",
        "- **We can observe that in survey_2, the interval or range is somewhere between 20-50**   \n",
        "\n",
        "  **While in survey_1, it is between 33-36 which is very close to the actual mean**  \n",
        "\n",
        "So we can conclude that <font color='purple'>survey 1 is more accurate than survey 2</font>"
      ],
      "metadata": {
        "id": "mymfDToDCFph"
      }
    },
    {
      "cell_type": "markdown",
      "source": [
        "### <font color='purple'>**How to compute the condidence interval?**</font>   \n",
        "\n",
        "We can calculate the percentile of **bootstrapped mean**\n",
        "\n",
        "- 2.5th percentile will give me lower bound (x1)\n",
        "\n",
        "- 97.5th percentile will give me upper bound (x2)\n",
        "\n",
        "Then, confidence inteval will be [x1, x2]"
      ],
      "metadata": {
        "id": "jA6u6To8CLL_"
      }
    },
    {
      "cell_type": "code",
      "source": [
        "len(bootstrapped_means_survey_1)"
      ],
      "metadata": {
        "id": "CMSkG5B3COVT"
      },
      "execution_count": null,
      "outputs": []
    },
    {
      "cell_type": "code",
      "source": [
        "x1 = np.percentile(bootstrapped_means_survey_1, 2.5)\n",
        "x1"
      ],
      "metadata": {
        "id": "DxYrJbQMCOs2"
      },
      "execution_count": null,
      "outputs": []
    },
    {
      "cell_type": "code",
      "source": [
        "x2 = np.percentile(bootstrapped_means_survey_1, 97.5)\n",
        "x2"
      ],
      "metadata": {
        "id": "5etrjjowCRjy"
      },
      "execution_count": null,
      "outputs": []
    },
    {
      "cell_type": "markdown",
      "source": [
        "We can observe that 95% of the numbers lies between 34 & 36 so  \n",
        "**Confidence Interval: $(x1, x2)$**"
      ],
      "metadata": {
        "id": "126e53f3CXNs"
      }
    }
  ]
}